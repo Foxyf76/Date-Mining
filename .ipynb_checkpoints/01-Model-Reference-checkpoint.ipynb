{
 "cells": [
  {
   "cell_type": "markdown",
   "metadata": {},
   "source": [
    "# Data Mining Assignment 2"
   ]
  },
  {
   "cell_type": "markdown",
   "metadata": {},
   "source": [
    "### 1.1 Load Dataset"
   ]
  },
  {
   "cell_type": "code",
   "execution_count": 1,
   "metadata": {},
   "outputs": [],
   "source": [
    "import numpy as np\n",
    "import pandas as pd\n",
    "from IPython.display import display, Markdown, Latex\n",
    "pd.set_option('max_colwidth', 1000)\n",
    "\n",
    "import re, os\n",
    "for d in [\"src\", \"data\", \"output\"]: os.makedirs(d, exist_ok=True)"
   ]
  },
  {
   "cell_type": "code",
   "execution_count": 2,
   "metadata": {},
   "outputs": [
    {
     "name": "stdout",
     "output_type": "stream",
     "text": [
      "Using local copy of public.csv in folder src\n"
     ]
    }
   ],
   "source": [
    "URL = \"https://kmurphy.bitbucket.io/modules/Data_Mining_2/topics/08-Text_Mining/20-Mining_Dates/files/\"\n",
    "\n",
    "for filename, dest in [(\"public.csv\", \"src\")]:\n",
    "    \n",
    "    source = f\"{URL}/{filename}\"\n",
    "    target = f\"{dest}/{filename}\"\n",
    "    \n",
    "    if not os.path.isfile(target):\n",
    "        print (f\"Downloading remote file {filename} to folder {dest}\", sep=\"\")\n",
    "        import urllib.request\n",
    "        urllib.request.urlretrieve(source, target)\n",
    "    else:\n",
    "        print (f\"Using local copy of {filename} in folder {dest}\")"
   ]
  },
  {
   "cell_type": "code",
   "execution_count": 3,
   "metadata": {},
   "outputs": [
    {
     "data": {
      "text/html": [
       "<div>\n",
       "<style scoped>\n",
       "    .dataframe tbody tr th:only-of-type {\n",
       "        vertical-align: middle;\n",
       "    }\n",
       "\n",
       "    .dataframe tbody tr th {\n",
       "        vertical-align: top;\n",
       "    }\n",
       "\n",
       "    .dataframe thead th {\n",
       "        text-align: right;\n",
       "    }\n",
       "</style>\n",
       "<table border=\"1\" class=\"dataframe\">\n",
       "  <thead>\n",
       "    <tr style=\"text-align: right;\">\n",
       "      <th></th>\n",
       "      <th>Code</th>\n",
       "      <th>Raw</th>\n",
       "    </tr>\n",
       "  </thead>\n",
       "  <tbody>\n",
       "    <tr>\n",
       "      <th>0</th>\n",
       "      <td>1012720972</td>\n",
       "      <td>.12, Noember 16- bad reaction to SpiceK2 - synthetic MJ- admitted to Crete Manor, Mcalester.</td>\n",
       "    </tr>\n",
       "    <tr>\n",
       "      <th>1</th>\n",
       "      <td>1039370009</td>\n",
       "      <td>.April, 5 97: made a phone call to Mom and Mom commented that he was talking very fast, hard to interrupt, but was in super happy spirits, so didn't make a big deal of it.</td>\n",
       "    </tr>\n",
       "    <tr>\n",
       "      <th>2</th>\n",
       "      <td>1039574613</td>\n",
       "      <td>A pleasant 28 yo woman with no formal psychiatric history and with a h/o SCCA of the right tongue (s/p partial glossectomy and neck dissection in 8/1974) referred to psycho-oncology for assistance with adjustment issues following recovery. The patient does not meet criteria for a major mood or anxiety disorder. She is not at imminent risk of harm to self or others. She would benefit from psychotherapy to help her integrate her experience of cancer and the break-up of her engagement, and to think through how to continue to create a life for herself moving forward.</td>\n",
       "    </tr>\n",
       "    <tr>\n",
       "      <th>3</th>\n",
       "      <td>1039963589</td>\n",
       "      <td>October 7, 01 [report_end]</td>\n",
       "    </tr>\n",
       "    <tr>\n",
       "      <th>4</th>\n",
       "      <td>1048901075</td>\n",
       "      <td>July, 4, 01 Primary Care Doctor:</td>\n",
       "    </tr>\n",
       "  </tbody>\n",
       "</table>\n",
       "</div>"
      ],
      "text/plain": [
       "         Code  \\\n",
       "0  1012720972   \n",
       "1  1039370009   \n",
       "2  1039574613   \n",
       "3  1039963589   \n",
       "4  1048901075   \n",
       "\n",
       "                                                                                                                                                                                                                                                                                                                                                                                                                                                                                                                                                                                         Raw  \n",
       "0                                                                                                                                                                                                                                                                                                                                                                                                                                                                                               .12, Noember 16- bad reaction to SpiceK2 - synthetic MJ- admitted to Crete Manor, Mcalester.  \n",
       "1                                                                                                                                                                                                                                                                                                                                                                                                                .April, 5 97: made a phone call to Mom and Mom commented that he was talking very fast, hard to interrupt, but was in super happy spirits, so didn't make a big deal of it.  \n",
       "2  A pleasant 28 yo woman with no formal psychiatric history and with a h/o SCCA of the right tongue (s/p partial glossectomy and neck dissection in 8/1974) referred to psycho-oncology for assistance with adjustment issues following recovery. The patient does not meet criteria for a major mood or anxiety disorder. She is not at imminent risk of harm to self or others. She would benefit from psychotherapy to help her integrate her experience of cancer and the break-up of her engagement, and to think through how to continue to create a life for herself moving forward.  \n",
       "3                                                                                                                                                                                                                                                                                                                                                                                                                                                                                                                                                                 October 7, 01 [report_end]  \n",
       "4                                                                                                                                                                                                                                                                                                                                                                                                                                                                                                                                                           July, 4, 01 Primary Care Doctor:  "
      ]
     },
     "execution_count": 3,
     "metadata": {},
     "output_type": "execute_result"
    }
   ],
   "source": [
    "df = pd.read_csv(\"src/public.csv\")\n",
    "df.head()"
   ]
  },
  {
   "cell_type": "markdown",
   "metadata": {},
   "source": [
    "### 1.2 Cleaning Step"
   ]
  },
  {
   "cell_type": "code",
   "execution_count": 4,
   "metadata": {},
   "outputs": [
    {
     "data": {
      "text/html": [
       "<div>\n",
       "<style scoped>\n",
       "    .dataframe tbody tr th:only-of-type {\n",
       "        vertical-align: middle;\n",
       "    }\n",
       "\n",
       "    .dataframe tbody tr th {\n",
       "        vertical-align: top;\n",
       "    }\n",
       "\n",
       "    .dataframe thead th {\n",
       "        text-align: right;\n",
       "    }\n",
       "</style>\n",
       "<table border=\"1\" class=\"dataframe\">\n",
       "  <thead>\n",
       "    <tr style=\"text-align: right;\">\n",
       "      <th></th>\n",
       "      <th>Code</th>\n",
       "      <th>Raw</th>\n",
       "      <th>Data</th>\n",
       "      <th>Iter</th>\n",
       "      <th>Match</th>\n",
       "      <th>Day</th>\n",
       "      <th>Month</th>\n",
       "      <th>Year</th>\n",
       "    </tr>\n",
       "  </thead>\n",
       "  <tbody>\n",
       "    <tr>\n",
       "      <th>0</th>\n",
       "      <td>1012720972</td>\n",
       "      <td>.12, Noember 16- bad reaction to SpiceK2 - synthetic MJ- admitted to Crete Manor, Mcalester.</td>\n",
       "      <td>12 Noember 16- bad reaction to SpiceK2 - synthetic MJ- admitted to Crete Manor Mcalester</td>\n",
       "      <td>0</td>\n",
       "      <td>0</td>\n",
       "      <td>0</td>\n",
       "      <td>0</td>\n",
       "      <td>0</td>\n",
       "    </tr>\n",
       "    <tr>\n",
       "      <th>1</th>\n",
       "      <td>1039370009</td>\n",
       "      <td>.April, 5 97: made a phone call to Mom and Mom commented that he was talking very fast, hard to interrupt, but was in super happy spirits, so didn't make a big deal of it.</td>\n",
       "      <td>April 5 97 made a phone call to Mom and Mom commented that he was talking very fast hard to interrupt but was in super happy spirits so didn't make a big deal of it</td>\n",
       "      <td>0</td>\n",
       "      <td>0</td>\n",
       "      <td>0</td>\n",
       "      <td>0</td>\n",
       "      <td>0</td>\n",
       "    </tr>\n",
       "    <tr>\n",
       "      <th>2</th>\n",
       "      <td>1039574613</td>\n",
       "      <td>A pleasant 28 yo woman with no formal psychiatric history and with a h/o SCCA of the right tongue (s/p partial glossectomy and neck dissection in 8/1974) referred to psycho-oncology for assistance with adjustment issues following recovery. The patient does not meet criteria for a major mood or anxiety disorder. She is not at imminent risk of harm to self or others. She would benefit from psychotherapy to help her integrate her experience of cancer and the break-up of her engagement, and to think through how to continue to create a life for herself moving forward.</td>\n",
       "      <td>A pleasant 28 yo woman with no formal psychiatric history and with a h/o SCCA of the right tongue s/p partial glossectomy and neck dissection in 8/1974 referred to psycho-oncology for assistance with adjustment issues following recovery The patient does not meet criteria for a major mood or anxiety disorder She is not at imminent risk of harm to self or others She would benefit from psychotherapy to help her integrate her experience of cancer and the break-up of her engagement and to think through how to continue to create a life for herself moving forward</td>\n",
       "      <td>0</td>\n",
       "      <td>0</td>\n",
       "      <td>0</td>\n",
       "      <td>0</td>\n",
       "      <td>0</td>\n",
       "    </tr>\n",
       "    <tr>\n",
       "      <th>3</th>\n",
       "      <td>1039963589</td>\n",
       "      <td>October 7, 01 [report_end]</td>\n",
       "      <td>October 7 01 [report_end]</td>\n",
       "      <td>0</td>\n",
       "      <td>0</td>\n",
       "      <td>0</td>\n",
       "      <td>0</td>\n",
       "      <td>0</td>\n",
       "    </tr>\n",
       "    <tr>\n",
       "      <th>4</th>\n",
       "      <td>1048901075</td>\n",
       "      <td>July, 4, 01 Primary Care Doctor:</td>\n",
       "      <td>July 4 01 Primary Care Doctor</td>\n",
       "      <td>0</td>\n",
       "      <td>0</td>\n",
       "      <td>0</td>\n",
       "      <td>0</td>\n",
       "      <td>0</td>\n",
       "    </tr>\n",
       "  </tbody>\n",
       "</table>\n",
       "</div>"
      ],
      "text/plain": [
       "         Code  \\\n",
       "0  1012720972   \n",
       "1  1039370009   \n",
       "2  1039574613   \n",
       "3  1039963589   \n",
       "4  1048901075   \n",
       "\n",
       "                                                                                                                                                                                                                                                                                                                                                                                                                                                                                                                                                                                         Raw  \\\n",
       "0                                                                                                                                                                                                                                                                                                                                                                                                                                                                                               .12, Noember 16- bad reaction to SpiceK2 - synthetic MJ- admitted to Crete Manor, Mcalester.   \n",
       "1                                                                                                                                                                                                                                                                                                                                                                                                                .April, 5 97: made a phone call to Mom and Mom commented that he was talking very fast, hard to interrupt, but was in super happy spirits, so didn't make a big deal of it.   \n",
       "2  A pleasant 28 yo woman with no formal psychiatric history and with a h/o SCCA of the right tongue (s/p partial glossectomy and neck dissection in 8/1974) referred to psycho-oncology for assistance with adjustment issues following recovery. The patient does not meet criteria for a major mood or anxiety disorder. She is not at imminent risk of harm to self or others. She would benefit from psychotherapy to help her integrate her experience of cancer and the break-up of her engagement, and to think through how to continue to create a life for herself moving forward.   \n",
       "3                                                                                                                                                                                                                                                                                                                                                                                                                                                                                                                                                                 October 7, 01 [report_end]   \n",
       "4                                                                                                                                                                                                                                                                                                                                                                                                                                                                                                                                                           July, 4, 01 Primary Care Doctor:   \n",
       "\n",
       "                                                                                                                                                                                                                                                                                                                                                                                                                                                                                                                                                                                 Data  \\\n",
       "0                                                                                                                                                                                                                                                                                                                                                                                                                                                                                            12 Noember 16- bad reaction to SpiceK2 - synthetic MJ- admitted to Crete Manor Mcalester   \n",
       "1                                                                                                                                                                                                                                                                                                                                                                                                                April 5 97 made a phone call to Mom and Mom commented that he was talking very fast hard to interrupt but was in super happy spirits so didn't make a big deal of it   \n",
       "2  A pleasant 28 yo woman with no formal psychiatric history and with a h/o SCCA of the right tongue s/p partial glossectomy and neck dissection in 8/1974 referred to psycho-oncology for assistance with adjustment issues following recovery The patient does not meet criteria for a major mood or anxiety disorder She is not at imminent risk of harm to self or others She would benefit from psychotherapy to help her integrate her experience of cancer and the break-up of her engagement and to think through how to continue to create a life for herself moving forward   \n",
       "3                                                                                                                                                                                                                                                                                                                                                                                                                                                                                                                                                           October 7 01 [report_end]   \n",
       "4                                                                                                                                                                                                                                                                                                                                                                                                                                                                                                                                                       July 4 01 Primary Care Doctor   \n",
       "\n",
       "   Iter  Match  Day  Month  Year  \n",
       "0     0      0    0      0     0  \n",
       "1     0      0    0      0     0  \n",
       "2     0      0    0      0     0  \n",
       "3     0      0    0      0     0  \n",
       "4     0      0    0      0     0  "
      ]
     },
     "execution_count": 4,
     "metadata": {},
     "output_type": "execute_result"
    }
   ],
   "source": [
    "df[\"Data\"] = df[\"Raw\"].replace({'\\(':'', '\\)':'', '\\.':'', '\\,':'', '\\:':'', '\\+':'', '\\s+':' '}, regex=True)\n",
    "df[\"Iter\"] = 0\n",
    "df[\"Match\"] = 0\n",
    "df[\"Day\"] = 0\n",
    "df[\"Month\"] = 0\n",
    "df[\"Year\"] = 0\n",
    "df.head()"
   ]
  },
  {
   "cell_type": "markdown",
   "metadata": {},
   "source": [
    "### 1.3 Helper Functions"
   ]
  },
  {
   "cell_type": "code",
   "execution_count": 5,
   "metadata": {},
   "outputs": [],
   "source": [
    "def info(n=None, unmatched=True, head=5):\n",
    "    print(\"Helper function to display results of a match and some rows not matched so far.\")\n",
    "    \n",
    "    n = df.Match.max() if n is None else n\n",
    "    for nn in ([n, 0] if n!=0 and unmatched else [n]):\n",
    "        display(Markdown(\"**Number of rows with iter=%s: %s**\" % (nn, len(df[df.Iter==nn]))))\n",
    "        display(df.loc[df.Iter==nn, [\"Code\", \"Data\",\"Iter\", \"Match\", \"Day\", \"Month\", \"Year\"]].head(head))\n",
    "        df.loc[df.Iter==nn, [\"Code\", \"Data\",\"Iter\", \"Match\", \"Day\", \"Month\", \"Year\"]].to_csv(r\"output/current.csv\", index=False)\n",
    "        \n"
   ]
  },
  {
   "cell_type": "code",
   "execution_count": 6,
   "metadata": {},
   "outputs": [],
   "source": [
    "def verify_dates(df):\n",
    "    # TODO\n",
    "    return df"
   ]
  },
  {
   "cell_type": "markdown",
   "metadata": {},
   "source": [
    "### 1.4 Sequence of Regex's"
   ]
  },
  {
   "cell_type": "markdown",
   "metadata": {},
   "source": [
    "#### 1.4.1 mm/dd/yyyy"
   ]
  },
  {
   "cell_type": "code",
   "execution_count": 7,
   "metadata": {},
   "outputs": [
    {
     "data": {
      "text/plain": [
       "9    24 yo right handed woman with history of large right frontal mass s/p resection 11/3/1985 who had recent urgent R cranial wound revision and placement of L EVD for declining vision and increased drainage from craniotomy incision site and possible infection She has a hx of secondary mania related to psychosis and manipulation of her right frontal lobe\n",
       "Name: Data, dtype: object"
      ]
     },
     "metadata": {},
     "output_type": "display_data"
    },
    {
     "data": {
      "text/html": [
       "<div>\n",
       "<style scoped>\n",
       "    .dataframe tbody tr th:only-of-type {\n",
       "        vertical-align: middle;\n",
       "    }\n",
       "\n",
       "    .dataframe tbody tr th {\n",
       "        vertical-align: top;\n",
       "    }\n",
       "\n",
       "    .dataframe thead th {\n",
       "        text-align: right;\n",
       "    }\n",
       "</style>\n",
       "<table border=\"1\" class=\"dataframe\">\n",
       "  <thead>\n",
       "    <tr style=\"text-align: right;\">\n",
       "      <th></th>\n",
       "      <th>Month</th>\n",
       "      <th>Day</th>\n",
       "      <th>Year</th>\n",
       "    </tr>\n",
       "  </thead>\n",
       "  <tbody>\n",
       "    <tr>\n",
       "      <th>9</th>\n",
       "      <td>11</td>\n",
       "      <td>3</td>\n",
       "      <td>1985</td>\n",
       "    </tr>\n",
       "  </tbody>\n",
       "</table>\n",
       "</div>"
      ],
      "text/plain": [
       "  Month Day  Year\n",
       "9    11   3  1985"
      ]
     },
     "execution_count": 7,
     "metadata": {},
     "output_type": "execute_result"
    }
   ],
   "source": [
    "# Construct Regex\n",
    "tmp = df.loc[df.Code==1148116416, \"Data\"]\n",
    "display(tmp)\n",
    "\n",
    "regex = r\"(?P<Month>[\\d]{1,2})/(?P<Day>[\\d]{1,2})/(?P<Year>[\\d]{2,4})\"\n",
    "#regex = r\"(?P<Month>\\d+)/(?P<Day>\\d+)/(?P<Year>\\d+)\"\n",
    "tmp.str.extract(regex)"
   ]
  },
  {
   "cell_type": "code",
   "execution_count": 8,
   "metadata": {},
   "outputs": [
    {
     "data": {
      "text/markdown": [
       " * Number of row matched = 120"
      ],
      "text/plain": [
       "<IPython.core.display.Markdown object>"
      ]
     },
     "metadata": {},
     "output_type": "display_data"
    },
    {
     "data": {
      "text/html": [
       "<div>\n",
       "<style scoped>\n",
       "    .dataframe tbody tr th:only-of-type {\n",
       "        vertical-align: middle;\n",
       "    }\n",
       "\n",
       "    .dataframe tbody tr th {\n",
       "        vertical-align: top;\n",
       "    }\n",
       "\n",
       "    .dataframe thead th {\n",
       "        text-align: right;\n",
       "    }\n",
       "</style>\n",
       "<table border=\"1\" class=\"dataframe\">\n",
       "  <thead>\n",
       "    <tr style=\"text-align: right;\">\n",
       "      <th></th>\n",
       "      <th>Month</th>\n",
       "      <th>Day</th>\n",
       "      <th>Year</th>\n",
       "    </tr>\n",
       "  </thead>\n",
       "  <tbody>\n",
       "    <tr>\n",
       "      <th>9</th>\n",
       "      <td>11</td>\n",
       "      <td>3</td>\n",
       "      <td>1985</td>\n",
       "    </tr>\n",
       "    <tr>\n",
       "      <th>10</th>\n",
       "      <td>4</td>\n",
       "      <td>19</td>\n",
       "      <td>91</td>\n",
       "    </tr>\n",
       "    <tr>\n",
       "      <th>14</th>\n",
       "      <td>07</td>\n",
       "      <td>29</td>\n",
       "      <td>1994</td>\n",
       "    </tr>\n",
       "    <tr>\n",
       "      <th>16</th>\n",
       "      <td>6</td>\n",
       "      <td>10</td>\n",
       "      <td>72</td>\n",
       "    </tr>\n",
       "    <tr>\n",
       "      <th>18</th>\n",
       "      <td>6</td>\n",
       "      <td>18</td>\n",
       "      <td>85</td>\n",
       "    </tr>\n",
       "  </tbody>\n",
       "</table>\n",
       "</div>"
      ],
      "text/plain": [
       "   Month Day  Year\n",
       "9     11   3  1985\n",
       "10     4  19    91\n",
       "14    07  29  1994\n",
       "16     6  10    72\n",
       "18     6  18    85"
      ]
     },
     "metadata": {},
     "output_type": "display_data"
    },
    {
     "data": {
      "text/plain": [
       "0    0\n",
       "1    0\n",
       "2    0\n",
       "3    0\n",
       "4    0\n",
       "5    0\n",
       "6    0\n",
       "7    0\n",
       "8    0\n",
       "9    0\n",
       "Name: Year, dtype: int64"
      ]
     },
     "execution_count": 8,
     "metadata": {},
     "output_type": "execute_result"
    }
   ],
   "source": [
    "# Apply Regex\n",
    "iter = 1\n",
    "\n",
    "df2 = df[df.Iter==0].Data.str.extract(regex)\n",
    "df2.dropna(inplace=True)\n",
    "display(Markdown(\" * Number of row matched = %s\" % df2.shape[0]))\n",
    "display(df2.head())"
   ]
  },
  {
   "cell_type": "code",
   "execution_count": 506,
   "metadata": {},
   "outputs": [],
   "source": [
    "# Test Result\n",
    "df2 = verify_dates(df2)"
   ]
  },
  {
   "cell_type": "code",
   "execution_count": 507,
   "metadata": {},
   "outputs": [
    {
     "name": "stdout",
     "output_type": "stream",
     "text": [
      "Helper function to display results of a match and some rows not matched so far.\n"
     ]
    },
    {
     "data": {
      "text/markdown": [
       "**Number of rows with iter=1: 120**"
      ],
      "text/plain": [
       "<IPython.core.display.Markdown object>"
      ]
     },
     "metadata": {},
     "output_type": "display_data"
    },
    {
     "data": {
      "text/html": [
       "<div>\n",
       "<style scoped>\n",
       "    .dataframe tbody tr th:only-of-type {\n",
       "        vertical-align: middle;\n",
       "    }\n",
       "\n",
       "    .dataframe tbody tr th {\n",
       "        vertical-align: top;\n",
       "    }\n",
       "\n",
       "    .dataframe thead th {\n",
       "        text-align: right;\n",
       "    }\n",
       "</style>\n",
       "<table border=\"1\" class=\"dataframe\">\n",
       "  <thead>\n",
       "    <tr style=\"text-align: right;\">\n",
       "      <th></th>\n",
       "      <th>Code</th>\n",
       "      <th>Data</th>\n",
       "      <th>Iter</th>\n",
       "      <th>Match</th>\n",
       "      <th>Day</th>\n",
       "      <th>Month</th>\n",
       "      <th>Year</th>\n",
       "    </tr>\n",
       "  </thead>\n",
       "  <tbody>\n",
       "    <tr>\n",
       "      <td>4</td>\n",
       "      <td>1148116416</td>\n",
       "      <td>24 yo right handed woman with history of large right frontal mass s/p resection 11/3/1985 who had recent urgent R cranial wound revision and placement of L EVD for declining vision and increased drainage from craniotomy incision site and possible infection She has a hx of secondary mania related to psychosis and manipulation of her right frontal lobe</td>\n",
       "      <td>1</td>\n",
       "      <td>0</td>\n",
       "      <td>3</td>\n",
       "      <td>11</td>\n",
       "      <td>1985</td>\n",
       "    </tr>\n",
       "    <tr>\n",
       "      <td>5</td>\n",
       "      <td>1157934136</td>\n",
       "      <td>4/19/91 Communication with referring physician? Not Done</td>\n",
       "      <td>1</td>\n",
       "      <td>0</td>\n",
       "      <td>19</td>\n",
       "      <td>4</td>\n",
       "      <td>91</td>\n",
       "    </tr>\n",
       "    <tr>\n",
       "      <td>8</td>\n",
       "      <td>1191233809</td>\n",
       "      <td>07/29/1994 CPT code 99203</td>\n",
       "      <td>1</td>\n",
       "      <td>0</td>\n",
       "      <td>29</td>\n",
       "      <td>07</td>\n",
       "      <td>1994</td>\n",
       "    </tr>\n",
       "    <tr>\n",
       "      <td>10</td>\n",
       "      <td>1218956332</td>\n",
       "      <td>6/10/72 SOS-10 Total Score</td>\n",
       "      <td>1</td>\n",
       "      <td>0</td>\n",
       "      <td>10</td>\n",
       "      <td>6</td>\n",
       "      <td>72</td>\n",
       "    </tr>\n",
       "    <tr>\n",
       "      <td>11</td>\n",
       "      <td>1220889324</td>\n",
       "      <td>6/18/85 Primary Care Doctor</td>\n",
       "      <td>1</td>\n",
       "      <td>0</td>\n",
       "      <td>18</td>\n",
       "      <td>6</td>\n",
       "      <td>85</td>\n",
       "    </tr>\n",
       "  </tbody>\n",
       "</table>\n",
       "</div>"
      ],
      "text/plain": [
       "          Code  \\\n",
       "4   1148116416   \n",
       "5   1157934136   \n",
       "8   1191233809   \n",
       "10  1218956332   \n",
       "11  1220889324   \n",
       "\n",
       "                                                                                                                                                                                                                                                                                                                                                                Data  \\\n",
       "4   24 yo right handed woman with history of large right frontal mass s/p resection 11/3/1985 who had recent urgent R cranial wound revision and placement of L EVD for declining vision and increased drainage from craniotomy incision site and possible infection She has a hx of secondary mania related to psychosis and manipulation of her right frontal lobe   \n",
       "5                                                                                                                                                                                                                                                                                                           4/19/91 Communication with referring physician? Not Done   \n",
       "8                                                                                                                                                                                                                                                                                                                                          07/29/1994 CPT code 99203   \n",
       "10                                                                                                                                                                                                                                                                                                                                        6/10/72 SOS-10 Total Score   \n",
       "11                                                                                                                                                                                                                                                                                                                                       6/18/85 Primary Care Doctor   \n",
       "\n",
       "    Iter  Match Day Month  Year  \n",
       "4      1      0   3    11  1985  \n",
       "5      1      0  19     4    91  \n",
       "8      1      0  29    07  1994  \n",
       "10     1      0  10     6    72  \n",
       "11     1      0  18     6    85  "
      ]
     },
     "metadata": {},
     "output_type": "display_data"
    },
    {
     "data": {
      "text/markdown": [
       "**Number of rows with iter=0: 347**"
      ],
      "text/plain": [
       "<IPython.core.display.Markdown object>"
      ]
     },
     "metadata": {},
     "output_type": "display_data"
    },
    {
     "data": {
      "text/html": [
       "<div>\n",
       "<style scoped>\n",
       "    .dataframe tbody tr th:only-of-type {\n",
       "        vertical-align: middle;\n",
       "    }\n",
       "\n",
       "    .dataframe tbody tr th {\n",
       "        vertical-align: top;\n",
       "    }\n",
       "\n",
       "    .dataframe thead th {\n",
       "        text-align: right;\n",
       "    }\n",
       "</style>\n",
       "<table border=\"1\" class=\"dataframe\">\n",
       "  <thead>\n",
       "    <tr style=\"text-align: right;\">\n",
       "      <th></th>\n",
       "      <th>Code</th>\n",
       "      <th>Data</th>\n",
       "      <th>Iter</th>\n",
       "      <th>Match</th>\n",
       "      <th>Day</th>\n",
       "      <th>Month</th>\n",
       "      <th>Year</th>\n",
       "    </tr>\n",
       "  </thead>\n",
       "  <tbody>\n",
       "    <tr>\n",
       "      <td>0</td>\n",
       "      <td>1039574613</td>\n",
       "      <td>A pleasant 28 yo woman with no formal psychiatric history and with a h/o SCCA of the right tongue s/p partial glossectomy and neck dissection in 8/1974 referred to psycho-oncology for assistance with adjustment issues following recovery The patient does not meet criteria for a major mood or anxiety disorder She is not at imminent risk of harm to self or others She would benefit from psychotherapy to help her integrate her experience of cancer and the break-up of her engagement and to think through how to continue to create a life for herself moving forward</td>\n",
       "      <td>0</td>\n",
       "      <td>0</td>\n",
       "      <td>0</td>\n",
       "      <td>0</td>\n",
       "      <td>0</td>\n",
       "    </tr>\n",
       "    <tr>\n",
       "      <td>1</td>\n",
       "      <td>1054311047</td>\n",
       "      <td>and 8mo in 2009</td>\n",
       "      <td>0</td>\n",
       "      <td>0</td>\n",
       "      <td>0</td>\n",
       "      <td>0</td>\n",
       "      <td>0</td>\n",
       "    </tr>\n",
       "    <tr>\n",
       "      <td>2</td>\n",
       "      <td>1054668034</td>\n",
       "      <td>HTN hypercholesterolemia DM sleep apnea nephrolithiasis chronic renal impairment DVT since July 1977 on enoxaparin</td>\n",
       "      <td>0</td>\n",
       "      <td>0</td>\n",
       "      <td>0</td>\n",
       "      <td>0</td>\n",
       "      <td>0</td>\n",
       "    </tr>\n",
       "    <tr>\n",
       "      <td>3</td>\n",
       "      <td>1125769793</td>\n",
       "      <td>Since 10/2014 Fatigued more forgetful impaired dexterity on her left hand MRI reveals an approximately 42cm x 33cm x 25cm right parietal enhancing mass with surrounding edema</td>\n",
       "      <td>0</td>\n",
       "      <td>0</td>\n",
       "      <td>0</td>\n",
       "      <td>0</td>\n",
       "      <td>0</td>\n",
       "    </tr>\n",
       "    <tr>\n",
       "      <td>6</td>\n",
       "      <td>1162722894</td>\n",
       "      <td>s6 past psychiatric hospitalizations starting at age 16 Last 3/2003 for SIB/SI WWL x 2 Getwell Hospital Lincoln Hospital cOX nORTH Lotus ClinicHx of Outpatient Treatment Yes</td>\n",
       "      <td>0</td>\n",
       "      <td>0</td>\n",
       "      <td>0</td>\n",
       "      <td>0</td>\n",
       "      <td>0</td>\n",
       "    </tr>\n",
       "  </tbody>\n",
       "</table>\n",
       "</div>"
      ],
      "text/plain": [
       "         Code  \\\n",
       "0  1039574613   \n",
       "1  1054311047   \n",
       "2  1054668034   \n",
       "3  1125769793   \n",
       "6  1162722894   \n",
       "\n",
       "                                                                                                                                                                                                                                                                                                                                                                                                                                                                                                                                                                                 Data  \\\n",
       "0  A pleasant 28 yo woman with no formal psychiatric history and with a h/o SCCA of the right tongue s/p partial glossectomy and neck dissection in 8/1974 referred to psycho-oncology for assistance with adjustment issues following recovery The patient does not meet criteria for a major mood or anxiety disorder She is not at imminent risk of harm to self or others She would benefit from psychotherapy to help her integrate her experience of cancer and the break-up of her engagement and to think through how to continue to create a life for herself moving forward   \n",
       "1                                                                                                                                                                                                                                                                                                                                                                                                                                                                                                                                                                     and 8mo in 2009   \n",
       "2                                                                                                                                                                                                                                                                                                                                                                                                                                                                  HTN hypercholesterolemia DM sleep apnea nephrolithiasis chronic renal impairment DVT since July 1977 on enoxaparin   \n",
       "3                                                                                                                                                                                                                                                                                                                                                                                                      Since 10/2014 Fatigued more forgetful impaired dexterity on her left hand MRI reveals an approximately 42cm x 33cm x 25cm right parietal enhancing mass with surrounding edema   \n",
       "6                                                                                                                                                                                                                                                                                                                                                                                                       s6 past psychiatric hospitalizations starting at age 16 Last 3/2003 for SIB/SI WWL x 2 Getwell Hospital Lincoln Hospital cOX nORTH Lotus ClinicHx of Outpatient Treatment Yes   \n",
       "\n",
       "   Iter  Match Day Month Year  \n",
       "0     0      0   0     0    0  \n",
       "1     0      0   0     0    0  \n",
       "2     0      0   0     0    0  \n",
       "3     0      0   0     0    0  \n",
       "6     0      0   0     0    0  "
      ]
     },
     "metadata": {},
     "output_type": "display_data"
    }
   ],
   "source": [
    "# Save Result\n",
    "df.loc[(df.Iter==0) & (df2.Year), \"Day\"] = df2[\"Day\"]\n",
    "df.loc[(df.Iter==0) & (df2.Year), \"Month\"] = df2[\"Month\"]\n",
    "df.loc[(df.Iter==0) & (df2.Year), \"Year\"] = df2[\"Year\"]\n",
    "\n",
    "df.loc[(df.Iter==0) & (df2.Year), \"Iter\"] = iter\n",
    "info(iter)"
   ]
  },
  {
   "cell_type": "markdown",
   "metadata": {},
   "source": [
    "#### 1.4.2 mm/yyyy"
   ]
  },
  {
   "cell_type": "code",
   "execution_count": 508,
   "metadata": {},
   "outputs": [
    {
     "data": {
      "text/plain": [
       "3    Since 10/2014 Fatigued more forgetful impaired dexterity on her left hand MRI reveals an approximately 42cm x 33cm x 25cm right parietal enhancing mass with surrounding edema\n",
       "Name: Data, dtype: object"
      ]
     },
     "metadata": {},
     "output_type": "display_data"
    },
    {
     "data": {
      "text/html": [
       "<div>\n",
       "<style scoped>\n",
       "    .dataframe tbody tr th:only-of-type {\n",
       "        vertical-align: middle;\n",
       "    }\n",
       "\n",
       "    .dataframe tbody tr th {\n",
       "        vertical-align: top;\n",
       "    }\n",
       "\n",
       "    .dataframe thead th {\n",
       "        text-align: right;\n",
       "    }\n",
       "</style>\n",
       "<table border=\"1\" class=\"dataframe\">\n",
       "  <thead>\n",
       "    <tr style=\"text-align: right;\">\n",
       "      <th></th>\n",
       "      <th>Month</th>\n",
       "      <th>Year</th>\n",
       "    </tr>\n",
       "  </thead>\n",
       "  <tbody>\n",
       "    <tr>\n",
       "      <td>3</td>\n",
       "      <td>10</td>\n",
       "      <td>2014</td>\n",
       "    </tr>\n",
       "  </tbody>\n",
       "</table>\n",
       "</div>"
      ],
      "text/plain": [
       "  Month  Year\n",
       "3    10  2014"
      ]
     },
     "execution_count": 508,
     "metadata": {},
     "output_type": "execute_result"
    }
   ],
   "source": [
    "# Construct Regex\n",
    "tmp = df.loc[df.Code==1125769793, \"Data\"]\n",
    "display(tmp)\n",
    "\n",
    "regex = r\"(?P<Month>[\\d]{1,2})/(?P<Year>[\\d]{2,4})\"\n",
    "#regex = r\"(?P<Month>\\d+)/(?P<Day>\\d+)/(?P<Year>\\d+)\"\n",
    "tmp.str.extract(regex)"
   ]
  },
  {
   "cell_type": "code",
   "execution_count": 509,
   "metadata": {},
   "outputs": [
    {
     "data": {
      "text/markdown": [
       " * Number of row matched = 106"
      ],
      "text/plain": [
       "<IPython.core.display.Markdown object>"
      ]
     },
     "metadata": {},
     "output_type": "display_data"
    },
    {
     "data": {
      "text/html": [
       "<div>\n",
       "<style scoped>\n",
       "    .dataframe tbody tr th:only-of-type {\n",
       "        vertical-align: middle;\n",
       "    }\n",
       "\n",
       "    .dataframe tbody tr th {\n",
       "        vertical-align: top;\n",
       "    }\n",
       "\n",
       "    .dataframe thead th {\n",
       "        text-align: right;\n",
       "    }\n",
       "</style>\n",
       "<table border=\"1\" class=\"dataframe\">\n",
       "  <thead>\n",
       "    <tr style=\"text-align: right;\">\n",
       "      <th></th>\n",
       "      <th>Month</th>\n",
       "      <th>Year</th>\n",
       "    </tr>\n",
       "  </thead>\n",
       "  <tbody>\n",
       "    <tr>\n",
       "      <td>0</td>\n",
       "      <td>8</td>\n",
       "      <td>1974</td>\n",
       "    </tr>\n",
       "    <tr>\n",
       "      <td>3</td>\n",
       "      <td>10</td>\n",
       "      <td>2014</td>\n",
       "    </tr>\n",
       "    <tr>\n",
       "      <td>6</td>\n",
       "      <td>3</td>\n",
       "      <td>2003</td>\n",
       "    </tr>\n",
       "    <tr>\n",
       "      <td>7</td>\n",
       "      <td>03</td>\n",
       "      <td>1990</td>\n",
       "    </tr>\n",
       "    <tr>\n",
       "      <td>28</td>\n",
       "      <td>5</td>\n",
       "      <td>2006</td>\n",
       "    </tr>\n",
       "  </tbody>\n",
       "</table>\n",
       "</div>"
      ],
      "text/plain": [
       "   Month  Year\n",
       "0      8  1974\n",
       "3     10  2014\n",
       "6      3  2003\n",
       "7     03  1990\n",
       "28     5  2006"
      ]
     },
     "metadata": {},
     "output_type": "display_data"
    }
   ],
   "source": [
    "# Apply Regex\n",
    "iter = 2\n",
    "\n",
    "df2 = df[df.Iter==0].Data.str.extract(regex)\n",
    "df2.dropna(inplace=True)\n",
    "display(Markdown(\" * Number of row matched = %s\" % df2.shape[0]))\n",
    "display(df2.head())"
   ]
  },
  {
   "cell_type": "code",
   "execution_count": 510,
   "metadata": {},
   "outputs": [
    {
     "name": "stdout",
     "output_type": "stream",
     "text": [
      "Helper function to display results of a match and some rows not matched so far.\n"
     ]
    },
    {
     "data": {
      "text/markdown": [
       "**Number of rows with iter=2: 106**"
      ],
      "text/plain": [
       "<IPython.core.display.Markdown object>"
      ]
     },
     "metadata": {},
     "output_type": "display_data"
    },
    {
     "data": {
      "text/html": [
       "<div>\n",
       "<style scoped>\n",
       "    .dataframe tbody tr th:only-of-type {\n",
       "        vertical-align: middle;\n",
       "    }\n",
       "\n",
       "    .dataframe tbody tr th {\n",
       "        vertical-align: top;\n",
       "    }\n",
       "\n",
       "    .dataframe thead th {\n",
       "        text-align: right;\n",
       "    }\n",
       "</style>\n",
       "<table border=\"1\" class=\"dataframe\">\n",
       "  <thead>\n",
       "    <tr style=\"text-align: right;\">\n",
       "      <th></th>\n",
       "      <th>Code</th>\n",
       "      <th>Data</th>\n",
       "      <th>Iter</th>\n",
       "      <th>Match</th>\n",
       "      <th>Day</th>\n",
       "      <th>Month</th>\n",
       "      <th>Year</th>\n",
       "    </tr>\n",
       "  </thead>\n",
       "  <tbody>\n",
       "    <tr>\n",
       "      <td>0</td>\n",
       "      <td>1039574613</td>\n",
       "      <td>A pleasant 28 yo woman with no formal psychiatric history and with a h/o SCCA of the right tongue s/p partial glossectomy and neck dissection in 8/1974 referred to psycho-oncology for assistance with adjustment issues following recovery The patient does not meet criteria for a major mood or anxiety disorder She is not at imminent risk of harm to self or others She would benefit from psychotherapy to help her integrate her experience of cancer and the break-up of her engagement and to think through how to continue to create a life for herself moving forward</td>\n",
       "      <td>2</td>\n",
       "      <td>0</td>\n",
       "      <td>1</td>\n",
       "      <td>8</td>\n",
       "      <td>1974</td>\n",
       "    </tr>\n",
       "    <tr>\n",
       "      <td>3</td>\n",
       "      <td>1125769793</td>\n",
       "      <td>Since 10/2014 Fatigued more forgetful impaired dexterity on her left hand MRI reveals an approximately 42cm x 33cm x 25cm right parietal enhancing mass with surrounding edema</td>\n",
       "      <td>2</td>\n",
       "      <td>0</td>\n",
       "      <td>1</td>\n",
       "      <td>10</td>\n",
       "      <td>2014</td>\n",
       "    </tr>\n",
       "    <tr>\n",
       "      <td>6</td>\n",
       "      <td>1162722894</td>\n",
       "      <td>s6 past psychiatric hospitalizations starting at age 16 Last 3/2003 for SIB/SI WWL x 2 Getwell Hospital Lincoln Hospital cOX nORTH Lotus ClinicHx of Outpatient Treatment Yes</td>\n",
       "      <td>2</td>\n",
       "      <td>0</td>\n",
       "      <td>1</td>\n",
       "      <td>3</td>\n",
       "      <td>2003</td>\n",
       "    </tr>\n",
       "    <tr>\n",
       "      <td>7</td>\n",
       "      <td>1174525826</td>\n",
       "      <td>kNotice that in 03/1990 sustained a bizarre injury He was in Colorado City at the time He was driving his car and he says he had recently ran out of Saphris which is an antipsychotic he was taking He says he does not recall all the events but believes he stepped out of his vehicle and then walked off of a bridge sustaining a seven-story fall He was found unconscious He was taken to and treated at Norfolk Health Center in Colorado City where he underwent open reduction internal fixation of the right humerus as well as the left femur was in ICU for a week multiple fx He subsequently recovered from his injuries in the state of South Carolina</td>\n",
       "      <td>2</td>\n",
       "      <td>0</td>\n",
       "      <td>1</td>\n",
       "      <td>03</td>\n",
       "      <td>1990</td>\n",
       "    </tr>\n",
       "    <tr>\n",
       "      <td>28</td>\n",
       "      <td>1583575271</td>\n",
       "      <td>a Endometriosis dx on laparoscopy 5/2006</td>\n",
       "      <td>2</td>\n",
       "      <td>0</td>\n",
       "      <td>1</td>\n",
       "      <td>5</td>\n",
       "      <td>2006</td>\n",
       "    </tr>\n",
       "  </tbody>\n",
       "</table>\n",
       "</div>"
      ],
      "text/plain": [
       "          Code  \\\n",
       "0   1039574613   \n",
       "3   1125769793   \n",
       "6   1162722894   \n",
       "7   1174525826   \n",
       "28  1583575271   \n",
       "\n",
       "                                                                                                                                                                                                                                                                                                                                                                                                                                                                                                                                                                                                                                                                      Data  \\\n",
       "0                                                                                       A pleasant 28 yo woman with no formal psychiatric history and with a h/o SCCA of the right tongue s/p partial glossectomy and neck dissection in 8/1974 referred to psycho-oncology for assistance with adjustment issues following recovery The patient does not meet criteria for a major mood or anxiety disorder She is not at imminent risk of harm to self or others She would benefit from psychotherapy to help her integrate her experience of cancer and the break-up of her engagement and to think through how to continue to create a life for herself moving forward   \n",
       "3                                                                                                                                                                                                                                                                                                                                                                                                                                                                                           Since 10/2014 Fatigued more forgetful impaired dexterity on her left hand MRI reveals an approximately 42cm x 33cm x 25cm right parietal enhancing mass with surrounding edema   \n",
       "6                                                                                                                                                                                                                                                                                                                                                                                                                                                                                            s6 past psychiatric hospitalizations starting at age 16 Last 3/2003 for SIB/SI WWL x 2 Getwell Hospital Lincoln Hospital cOX nORTH Lotus ClinicHx of Outpatient Treatment Yes   \n",
       "7   kNotice that in 03/1990 sustained a bizarre injury He was in Colorado City at the time He was driving his car and he says he had recently ran out of Saphris which is an antipsychotic he was taking He says he does not recall all the events but believes he stepped out of his vehicle and then walked off of a bridge sustaining a seven-story fall He was found unconscious He was taken to and treated at Norfolk Health Center in Colorado City where he underwent open reduction internal fixation of the right humerus as well as the left femur was in ICU for a week multiple fx He subsequently recovered from his injuries in the state of South Carolina   \n",
       "28                                                                                                                                                                                                                                                                                                                                                                                                                                                                                                                                                                                                                                a Endometriosis dx on laparoscopy 5/2006   \n",
       "\n",
       "    Iter  Match Day Month  Year  \n",
       "0      2      0   1     8  1974  \n",
       "3      2      0   1    10  2014  \n",
       "6      2      0   1     3  2003  \n",
       "7      2      0   1    03  1990  \n",
       "28     2      0   1     5  2006  "
      ]
     },
     "metadata": {},
     "output_type": "display_data"
    },
    {
     "data": {
      "text/markdown": [
       "**Number of rows with iter=0: 241**"
      ],
      "text/plain": [
       "<IPython.core.display.Markdown object>"
      ]
     },
     "metadata": {},
     "output_type": "display_data"
    },
    {
     "data": {
      "text/html": [
       "<div>\n",
       "<style scoped>\n",
       "    .dataframe tbody tr th:only-of-type {\n",
       "        vertical-align: middle;\n",
       "    }\n",
       "\n",
       "    .dataframe tbody tr th {\n",
       "        vertical-align: top;\n",
       "    }\n",
       "\n",
       "    .dataframe thead th {\n",
       "        text-align: right;\n",
       "    }\n",
       "</style>\n",
       "<table border=\"1\" class=\"dataframe\">\n",
       "  <thead>\n",
       "    <tr style=\"text-align: right;\">\n",
       "      <th></th>\n",
       "      <th>Code</th>\n",
       "      <th>Data</th>\n",
       "      <th>Iter</th>\n",
       "      <th>Match</th>\n",
       "      <th>Day</th>\n",
       "      <th>Month</th>\n",
       "      <th>Year</th>\n",
       "    </tr>\n",
       "  </thead>\n",
       "  <tbody>\n",
       "    <tr>\n",
       "      <td>1</td>\n",
       "      <td>1054311047</td>\n",
       "      <td>and 8mo in 2009</td>\n",
       "      <td>0</td>\n",
       "      <td>0</td>\n",
       "      <td>0</td>\n",
       "      <td>0</td>\n",
       "      <td>0</td>\n",
       "    </tr>\n",
       "    <tr>\n",
       "      <td>2</td>\n",
       "      <td>1054668034</td>\n",
       "      <td>HTN hypercholesterolemia DM sleep apnea nephrolithiasis chronic renal impairment DVT since July 1977 on enoxaparin</td>\n",
       "      <td>0</td>\n",
       "      <td>0</td>\n",
       "      <td>0</td>\n",
       "      <td>0</td>\n",
       "      <td>0</td>\n",
       "    </tr>\n",
       "    <tr>\n",
       "      <td>9</td>\n",
       "      <td>1215203598</td>\n",
       "      <td>14 Jan 1981 SOS-10 Total Score</td>\n",
       "      <td>0</td>\n",
       "      <td>0</td>\n",
       "      <td>0</td>\n",
       "      <td>0</td>\n",
       "      <td>0</td>\n",
       "    </tr>\n",
       "    <tr>\n",
       "      <td>14</td>\n",
       "      <td>1271563547</td>\n",
       "      <td>n Abilify added to Lexapro Wellbutrin in Jan 2007</td>\n",
       "      <td>0</td>\n",
       "      <td>0</td>\n",
       "      <td>0</td>\n",
       "      <td>0</td>\n",
       "      <td>0</td>\n",
       "    </tr>\n",
       "    <tr>\n",
       "      <td>15</td>\n",
       "      <td>1280100040</td>\n",
       "      <td>11 Nov 2004 Total time of visit in minutes</td>\n",
       "      <td>0</td>\n",
       "      <td>0</td>\n",
       "      <td>0</td>\n",
       "      <td>0</td>\n",
       "      <td>0</td>\n",
       "    </tr>\n",
       "  </tbody>\n",
       "</table>\n",
       "</div>"
      ],
      "text/plain": [
       "          Code  \\\n",
       "1   1054311047   \n",
       "2   1054668034   \n",
       "9   1215203598   \n",
       "14  1271563547   \n",
       "15  1280100040   \n",
       "\n",
       "                                                                                                                  Data  \\\n",
       "1                                                                                                      and 8mo in 2009   \n",
       "2   HTN hypercholesterolemia DM sleep apnea nephrolithiasis chronic renal impairment DVT since July 1977 on enoxaparin   \n",
       "9                                                                                       14 Jan 1981 SOS-10 Total Score   \n",
       "14                                                                   n Abilify added to Lexapro Wellbutrin in Jan 2007   \n",
       "15                                                                          11 Nov 2004 Total time of visit in minutes   \n",
       "\n",
       "    Iter  Match Day Month Year  \n",
       "1      0      0   0     0    0  \n",
       "2      0      0   0     0    0  \n",
       "9      0      0   0     0    0  \n",
       "14     0      0   0     0    0  \n",
       "15     0      0   0     0    0  "
      ]
     },
     "metadata": {},
     "output_type": "display_data"
    }
   ],
   "source": [
    "# Test result\n",
    "# Save Result\n",
    "df.loc[(df.Iter==0) & (df2.Year), \"Day\"] = 1\n",
    "df.loc[(df.Iter==0) & (df2.Year), \"Month\"] = df2[\"Month\"]\n",
    "df.loc[(df.Iter==0) & (df2.Year), \"Year\"] = df2[\"Year\"]\n",
    "\n",
    "df.loc[(df.Iter==0) & (df2.Year), \"Iter\"] = iter\n",
    "info(iter)"
   ]
  },
  {
   "cell_type": "markdown",
   "metadata": {},
   "source": [
    "#### 1.4.3 dd Month yyyy"
   ]
  },
  {
   "cell_type": "code",
   "execution_count": 511,
   "metadata": {},
   "outputs": [
    {
     "data": {
      "text/plain": [
       "9    14 Jan 1981 SOS-10 Total Score\n",
       "Name: Data, dtype: object"
      ]
     },
     "metadata": {},
     "output_type": "display_data"
    },
    {
     "data": {
      "text/html": [
       "<div>\n",
       "<style scoped>\n",
       "    .dataframe tbody tr th:only-of-type {\n",
       "        vertical-align: middle;\n",
       "    }\n",
       "\n",
       "    .dataframe tbody tr th {\n",
       "        vertical-align: top;\n",
       "    }\n",
       "\n",
       "    .dataframe thead th {\n",
       "        text-align: right;\n",
       "    }\n",
       "</style>\n",
       "<table border=\"1\" class=\"dataframe\">\n",
       "  <thead>\n",
       "    <tr style=\"text-align: right;\">\n",
       "      <th></th>\n",
       "      <th>Day</th>\n",
       "      <th>Month</th>\n",
       "      <th>Year</th>\n",
       "    </tr>\n",
       "  </thead>\n",
       "  <tbody>\n",
       "    <tr>\n",
       "      <td>9</td>\n",
       "      <td>14</td>\n",
       "      <td>Jan</td>\n",
       "      <td>1981</td>\n",
       "    </tr>\n",
       "  </tbody>\n",
       "</table>\n",
       "</div>"
      ],
      "text/plain": [
       "  Day Month  Year\n",
       "9  14   Jan  1981"
      ]
     },
     "execution_count": 511,
     "metadata": {},
     "output_type": "execute_result"
    }
   ],
   "source": [
    "# Construct Regex\n",
    "#codes = [1704488947, ]\n",
    "tmp = df.loc[df.Code==1215203598, \"Data\"]\n",
    "display(tmp)\n",
    "\n",
    "regex = (r\"(?P<Day>[\\d]{1,2}) (?P<Month>[a-zA-Z]+) (?P<Year>[\\d]{2,4})\")\n",
    "#regex = r\"(?P<Month>\\d+)/(?P<Day>\\d+)/(?P<Year>\\d+)\"\n",
    "tmp.str.extract(regex)"
   ]
  },
  {
   "cell_type": "code",
   "execution_count": 512,
   "metadata": {},
   "outputs": [
    {
     "data": {
      "text/markdown": [
       " * Number of row matched = 72"
      ],
      "text/plain": [
       "<IPython.core.display.Markdown object>"
      ]
     },
     "metadata": {},
     "output_type": "display_data"
    },
    {
     "data": {
      "text/html": [
       "<div>\n",
       "<style scoped>\n",
       "    .dataframe tbody tr th:only-of-type {\n",
       "        vertical-align: middle;\n",
       "    }\n",
       "\n",
       "    .dataframe tbody tr th {\n",
       "        vertical-align: top;\n",
       "    }\n",
       "\n",
       "    .dataframe thead th {\n",
       "        text-align: right;\n",
       "    }\n",
       "</style>\n",
       "<table border=\"1\" class=\"dataframe\">\n",
       "  <thead>\n",
       "    <tr style=\"text-align: right;\">\n",
       "      <th></th>\n",
       "      <th>Day</th>\n",
       "      <th>Month</th>\n",
       "      <th>Year</th>\n",
       "    </tr>\n",
       "  </thead>\n",
       "  <tbody>\n",
       "    <tr>\n",
       "      <td>9</td>\n",
       "      <td>14</td>\n",
       "      <td>Jan</td>\n",
       "      <td>1981</td>\n",
       "    </tr>\n",
       "    <tr>\n",
       "      <td>15</td>\n",
       "      <td>11</td>\n",
       "      <td>Nov</td>\n",
       "      <td>2004</td>\n",
       "    </tr>\n",
       "    <tr>\n",
       "      <td>17</td>\n",
       "      <td>14</td>\n",
       "      <td>Oct</td>\n",
       "      <td>1996</td>\n",
       "    </tr>\n",
       "    <tr>\n",
       "      <td>19</td>\n",
       "      <td>22</td>\n",
       "      <td>Jan</td>\n",
       "      <td>1996</td>\n",
       "    </tr>\n",
       "    <tr>\n",
       "      <td>27</td>\n",
       "      <td>30</td>\n",
       "      <td>Nov</td>\n",
       "      <td>1972</td>\n",
       "    </tr>\n",
       "  </tbody>\n",
       "</table>\n",
       "</div>"
      ],
      "text/plain": [
       "   Day Month  Year\n",
       "9   14   Jan  1981\n",
       "15  11   Nov  2004\n",
       "17  14   Oct  1996\n",
       "19  22   Jan  1996\n",
       "27  30   Nov  1972"
      ]
     },
     "metadata": {},
     "output_type": "display_data"
    }
   ],
   "source": [
    "# Apply Regex\n",
    "iter = 3\n",
    "\n",
    "df2 = df[df.Iter==0].Data.str.extract(regex)\n",
    "df2.dropna(inplace=True)\n",
    "display(Markdown(\" * Number of row matched = %s\" % df2.shape[0]))\n",
    "display(df2.head())"
   ]
  },
  {
   "cell_type": "code",
   "execution_count": 513,
   "metadata": {},
   "outputs": [
    {
     "name": "stdout",
     "output_type": "stream",
     "text": [
      "Helper function to display results of a match and some rows not matched so far.\n"
     ]
    },
    {
     "data": {
      "text/markdown": [
       "**Number of rows with iter=3: 72**"
      ],
      "text/plain": [
       "<IPython.core.display.Markdown object>"
      ]
     },
     "metadata": {},
     "output_type": "display_data"
    },
    {
     "data": {
      "text/html": [
       "<div>\n",
       "<style scoped>\n",
       "    .dataframe tbody tr th:only-of-type {\n",
       "        vertical-align: middle;\n",
       "    }\n",
       "\n",
       "    .dataframe tbody tr th {\n",
       "        vertical-align: top;\n",
       "    }\n",
       "\n",
       "    .dataframe thead th {\n",
       "        text-align: right;\n",
       "    }\n",
       "</style>\n",
       "<table border=\"1\" class=\"dataframe\">\n",
       "  <thead>\n",
       "    <tr style=\"text-align: right;\">\n",
       "      <th></th>\n",
       "      <th>Code</th>\n",
       "      <th>Data</th>\n",
       "      <th>Iter</th>\n",
       "      <th>Match</th>\n",
       "      <th>Day</th>\n",
       "      <th>Month</th>\n",
       "      <th>Year</th>\n",
       "    </tr>\n",
       "  </thead>\n",
       "  <tbody>\n",
       "    <tr>\n",
       "      <td>9</td>\n",
       "      <td>1215203598</td>\n",
       "      <td>14 Jan 1981 SOS-10 Total Score</td>\n",
       "      <td>3</td>\n",
       "      <td>0</td>\n",
       "      <td>14</td>\n",
       "      <td>Jan</td>\n",
       "      <td>1981</td>\n",
       "    </tr>\n",
       "    <tr>\n",
       "      <td>15</td>\n",
       "      <td>1280100040</td>\n",
       "      <td>11 Nov 2004 Total time of visit in minutes</td>\n",
       "      <td>3</td>\n",
       "      <td>0</td>\n",
       "      <td>11</td>\n",
       "      <td>Nov</td>\n",
       "      <td>2004</td>\n",
       "    </tr>\n",
       "    <tr>\n",
       "      <td>17</td>\n",
       "      <td>1343905547</td>\n",
       "      <td>14 Oct 1996 SOS-10 Total Score</td>\n",
       "      <td>3</td>\n",
       "      <td>0</td>\n",
       "      <td>14</td>\n",
       "      <td>Oct</td>\n",
       "      <td>1996</td>\n",
       "    </tr>\n",
       "    <tr>\n",
       "      <td>19</td>\n",
       "      <td>1359228152</td>\n",
       "      <td>22 Jan 1996 @ 11 AMCommunication with referring physician? Done</td>\n",
       "      <td>3</td>\n",
       "      <td>0</td>\n",
       "      <td>22</td>\n",
       "      <td>Jan</td>\n",
       "      <td>1996</td>\n",
       "    </tr>\n",
       "    <tr>\n",
       "      <td>27</td>\n",
       "      <td>1575273975</td>\n",
       "      <td>30 Nov 1972 SOS-10 Total Score</td>\n",
       "      <td>3</td>\n",
       "      <td>0</td>\n",
       "      <td>30</td>\n",
       "      <td>Nov</td>\n",
       "      <td>1972</td>\n",
       "    </tr>\n",
       "  </tbody>\n",
       "</table>\n",
       "</div>"
      ],
      "text/plain": [
       "          Code  \\\n",
       "9   1215203598   \n",
       "15  1280100040   \n",
       "17  1343905547   \n",
       "19  1359228152   \n",
       "27  1575273975   \n",
       "\n",
       "                                                               Data  Iter  \\\n",
       "9                                    14 Jan 1981 SOS-10 Total Score     3   \n",
       "15                       11 Nov 2004 Total time of visit in minutes     3   \n",
       "17                                   14 Oct 1996 SOS-10 Total Score     3   \n",
       "19  22 Jan 1996 @ 11 AMCommunication with referring physician? Done     3   \n",
       "27                                   30 Nov 1972 SOS-10 Total Score     3   \n",
       "\n",
       "    Match Day Month  Year  \n",
       "9       0  14   Jan  1981  \n",
       "15      0  11   Nov  2004  \n",
       "17      0  14   Oct  1996  \n",
       "19      0  22   Jan  1996  \n",
       "27      0  30   Nov  1972  "
      ]
     },
     "metadata": {},
     "output_type": "display_data"
    },
    {
     "data": {
      "text/markdown": [
       "**Number of rows with iter=0: 169**"
      ],
      "text/plain": [
       "<IPython.core.display.Markdown object>"
      ]
     },
     "metadata": {},
     "output_type": "display_data"
    },
    {
     "data": {
      "text/html": [
       "<div>\n",
       "<style scoped>\n",
       "    .dataframe tbody tr th:only-of-type {\n",
       "        vertical-align: middle;\n",
       "    }\n",
       "\n",
       "    .dataframe tbody tr th {\n",
       "        vertical-align: top;\n",
       "    }\n",
       "\n",
       "    .dataframe thead th {\n",
       "        text-align: right;\n",
       "    }\n",
       "</style>\n",
       "<table border=\"1\" class=\"dataframe\">\n",
       "  <thead>\n",
       "    <tr style=\"text-align: right;\">\n",
       "      <th></th>\n",
       "      <th>Code</th>\n",
       "      <th>Data</th>\n",
       "      <th>Iter</th>\n",
       "      <th>Match</th>\n",
       "      <th>Day</th>\n",
       "      <th>Month</th>\n",
       "      <th>Year</th>\n",
       "    </tr>\n",
       "  </thead>\n",
       "  <tbody>\n",
       "    <tr>\n",
       "      <td>1</td>\n",
       "      <td>1054311047</td>\n",
       "      <td>and 8mo in 2009</td>\n",
       "      <td>0</td>\n",
       "      <td>0</td>\n",
       "      <td>0</td>\n",
       "      <td>0</td>\n",
       "      <td>0</td>\n",
       "    </tr>\n",
       "    <tr>\n",
       "      <td>2</td>\n",
       "      <td>1054668034</td>\n",
       "      <td>HTN hypercholesterolemia DM sleep apnea nephrolithiasis chronic renal impairment DVT since July 1977 on enoxaparin</td>\n",
       "      <td>0</td>\n",
       "      <td>0</td>\n",
       "      <td>0</td>\n",
       "      <td>0</td>\n",
       "      <td>0</td>\n",
       "    </tr>\n",
       "    <tr>\n",
       "      <td>14</td>\n",
       "      <td>1271563547</td>\n",
       "      <td>n Abilify added to Lexapro Wellbutrin in Jan 2007</td>\n",
       "      <td>0</td>\n",
       "      <td>0</td>\n",
       "      <td>0</td>\n",
       "      <td>0</td>\n",
       "      <td>0</td>\n",
       "    </tr>\n",
       "    <tr>\n",
       "      <td>16</td>\n",
       "      <td>1304079161</td>\n",
       "      <td>Pt joined Army reserves in 2001 and has 3 years left in this commitment-Mental Status Exam Was the exam performed? If not indicate reason Yes</td>\n",
       "      <td>0</td>\n",
       "      <td>0</td>\n",
       "      <td>0</td>\n",
       "      <td>0</td>\n",
       "      <td>0</td>\n",
       "    </tr>\n",
       "    <tr>\n",
       "      <td>18</td>\n",
       "      <td>1348968961</td>\n",
       "      <td>sgoiter--diagnosed in September 1981 Pt feels thyroid problems are related to h/o lithium use</td>\n",
       "      <td>0</td>\n",
       "      <td>0</td>\n",
       "      <td>0</td>\n",
       "      <td>0</td>\n",
       "      <td>0</td>\n",
       "    </tr>\n",
       "  </tbody>\n",
       "</table>\n",
       "</div>"
      ],
      "text/plain": [
       "          Code  \\\n",
       "1   1054311047   \n",
       "2   1054668034   \n",
       "14  1271563547   \n",
       "16  1304079161   \n",
       "18  1348968961   \n",
       "\n",
       "                                                                                                                                             Data  \\\n",
       "1                                                                                                                                 and 8mo in 2009   \n",
       "2                              HTN hypercholesterolemia DM sleep apnea nephrolithiasis chronic renal impairment DVT since July 1977 on enoxaparin   \n",
       "14                                                                                              n Abilify added to Lexapro Wellbutrin in Jan 2007   \n",
       "16  Pt joined Army reserves in 2001 and has 3 years left in this commitment-Mental Status Exam Was the exam performed? If not indicate reason Yes   \n",
       "18                                                  sgoiter--diagnosed in September 1981 Pt feels thyroid problems are related to h/o lithium use   \n",
       "\n",
       "    Iter  Match Day Month Year  \n",
       "1      0      0   0     0    0  \n",
       "2      0      0   0     0    0  \n",
       "14     0      0   0     0    0  \n",
       "16     0      0   0     0    0  \n",
       "18     0      0   0     0    0  "
      ]
     },
     "metadata": {},
     "output_type": "display_data"
    }
   ],
   "source": [
    "# Test result\n",
    "# Save Result\n",
    "df.loc[(df.Iter==0) & (df2.Year), \"Day\"] = df2[\"Day\"]\n",
    "df.loc[(df.Iter==0) & (df2.Year), \"Month\"] = df2[\"Month\"]\n",
    "df.loc[(df.Iter==0) & (df2.Year), \"Year\"] = df2[\"Year\"]\n",
    "\n",
    "df.loc[(df.Iter==0) & (df2.Year), \"Iter\"] = iter\n",
    "info(iter)"
   ]
  },
  {
   "cell_type": "markdown",
   "metadata": {},
   "source": [
    "#### 1.4.4 Month yyyy"
   ]
  },
  {
   "cell_type": "code",
   "execution_count": 514,
   "metadata": {},
   "outputs": [
    {
     "data": {
      "text/plain": [
       "14    n Abilify added to Lexapro Wellbutrin in Jan 2007\n",
       "Name: Data, dtype: object"
      ]
     },
     "metadata": {},
     "output_type": "display_data"
    },
    {
     "data": {
      "text/html": [
       "<div>\n",
       "<style scoped>\n",
       "    .dataframe tbody tr th:only-of-type {\n",
       "        vertical-align: middle;\n",
       "    }\n",
       "\n",
       "    .dataframe tbody tr th {\n",
       "        vertical-align: top;\n",
       "    }\n",
       "\n",
       "    .dataframe thead th {\n",
       "        text-align: right;\n",
       "    }\n",
       "</style>\n",
       "<table border=\"1\" class=\"dataframe\">\n",
       "  <thead>\n",
       "    <tr style=\"text-align: right;\">\n",
       "      <th></th>\n",
       "      <th>Month</th>\n",
       "      <th>Year</th>\n",
       "    </tr>\n",
       "  </thead>\n",
       "  <tbody>\n",
       "    <tr>\n",
       "      <td>14</td>\n",
       "      <td>Jan</td>\n",
       "      <td>2007</td>\n",
       "    </tr>\n",
       "  </tbody>\n",
       "</table>\n",
       "</div>"
      ],
      "text/plain": [
       "   Month  Year\n",
       "14   Jan  2007"
      ]
     },
     "execution_count": 514,
     "metadata": {},
     "output_type": "execute_result"
    }
   ],
   "source": [
    "# Construct Regex\n",
    "tmp = df.loc[df.Code==1271563547, \"Data\"]\n",
    "display(tmp)\n",
    "\n",
    "regex = (r\"(?P<Month>Jan|Feb|Mar|Apr|May|Jun|Jul|Aug|Sep|Oct|Nov|Dec)[a-z]* (?P<Year>[\\d]{4})\")\n",
    "#regex = r\"(?P<Month>\\d+)/(?P<Day>\\d+)/(?P<Year>\\d+)\"\n",
    "tmp.str.extract(regex)"
   ]
  },
  {
   "cell_type": "code",
   "execution_count": 515,
   "metadata": {},
   "outputs": [
    {
     "data": {
      "text/markdown": [
       " * Number of row matched = 97"
      ],
      "text/plain": [
       "<IPython.core.display.Markdown object>"
      ]
     },
     "metadata": {},
     "output_type": "display_data"
    },
    {
     "data": {
      "text/html": [
       "<div>\n",
       "<style scoped>\n",
       "    .dataframe tbody tr th:only-of-type {\n",
       "        vertical-align: middle;\n",
       "    }\n",
       "\n",
       "    .dataframe tbody tr th {\n",
       "        vertical-align: top;\n",
       "    }\n",
       "\n",
       "    .dataframe thead th {\n",
       "        text-align: right;\n",
       "    }\n",
       "</style>\n",
       "<table border=\"1\" class=\"dataframe\">\n",
       "  <thead>\n",
       "    <tr style=\"text-align: right;\">\n",
       "      <th></th>\n",
       "      <th>Month</th>\n",
       "      <th>Year</th>\n",
       "    </tr>\n",
       "  </thead>\n",
       "  <tbody>\n",
       "    <tr>\n",
       "      <td>2</td>\n",
       "      <td>Jul</td>\n",
       "      <td>1977</td>\n",
       "    </tr>\n",
       "    <tr>\n",
       "      <td>14</td>\n",
       "      <td>Jan</td>\n",
       "      <td>2007</td>\n",
       "    </tr>\n",
       "    <tr>\n",
       "      <td>18</td>\n",
       "      <td>Sep</td>\n",
       "      <td>1981</td>\n",
       "    </tr>\n",
       "    <tr>\n",
       "      <td>24</td>\n",
       "      <td>Sep</td>\n",
       "      <td>1983</td>\n",
       "    </tr>\n",
       "    <tr>\n",
       "      <td>26</td>\n",
       "      <td>Sep</td>\n",
       "      <td>1985</td>\n",
       "    </tr>\n",
       "  </tbody>\n",
       "</table>\n",
       "</div>"
      ],
      "text/plain": [
       "   Month  Year\n",
       "2    Jul  1977\n",
       "14   Jan  2007\n",
       "18   Sep  1981\n",
       "24   Sep  1983\n",
       "26   Sep  1985"
      ]
     },
     "metadata": {},
     "output_type": "display_data"
    }
   ],
   "source": [
    "# Apply Regex\n",
    "iter = 4\n",
    "\n",
    "df2 = df[df.Iter==0].Data.str.extract(regex)\n",
    "df2.dropna(inplace=True)\n",
    "display(Markdown(\" * Number of row matched = %s\" % df2.shape[0]))\n",
    "display(df2.head())"
   ]
  },
  {
   "cell_type": "code",
   "execution_count": 516,
   "metadata": {},
   "outputs": [
    {
     "name": "stdout",
     "output_type": "stream",
     "text": [
      "Helper function to display results of a match and some rows not matched so far.\n"
     ]
    },
    {
     "data": {
      "text/markdown": [
       "**Number of rows with iter=4: 97**"
      ],
      "text/plain": [
       "<IPython.core.display.Markdown object>"
      ]
     },
     "metadata": {},
     "output_type": "display_data"
    },
    {
     "data": {
      "text/html": [
       "<div>\n",
       "<style scoped>\n",
       "    .dataframe tbody tr th:only-of-type {\n",
       "        vertical-align: middle;\n",
       "    }\n",
       "\n",
       "    .dataframe tbody tr th {\n",
       "        vertical-align: top;\n",
       "    }\n",
       "\n",
       "    .dataframe thead th {\n",
       "        text-align: right;\n",
       "    }\n",
       "</style>\n",
       "<table border=\"1\" class=\"dataframe\">\n",
       "  <thead>\n",
       "    <tr style=\"text-align: right;\">\n",
       "      <th></th>\n",
       "      <th>Code</th>\n",
       "      <th>Data</th>\n",
       "      <th>Iter</th>\n",
       "      <th>Match</th>\n",
       "      <th>Day</th>\n",
       "      <th>Month</th>\n",
       "      <th>Year</th>\n",
       "    </tr>\n",
       "  </thead>\n",
       "  <tbody>\n",
       "    <tr>\n",
       "      <td>2</td>\n",
       "      <td>1054668034</td>\n",
       "      <td>HTN hypercholesterolemia DM sleep apnea nephrolithiasis chronic renal impairment DVT since July 1977 on enoxaparin</td>\n",
       "      <td>4</td>\n",
       "      <td>0</td>\n",
       "      <td>1</td>\n",
       "      <td>Jul</td>\n",
       "      <td>1977</td>\n",
       "    </tr>\n",
       "    <tr>\n",
       "      <td>14</td>\n",
       "      <td>1271563547</td>\n",
       "      <td>n Abilify added to Lexapro Wellbutrin in Jan 2007</td>\n",
       "      <td>4</td>\n",
       "      <td>0</td>\n",
       "      <td>1</td>\n",
       "      <td>Jan</td>\n",
       "      <td>2007</td>\n",
       "    </tr>\n",
       "    <tr>\n",
       "      <td>18</td>\n",
       "      <td>1348968961</td>\n",
       "      <td>sgoiter--diagnosed in September 1981 Pt feels thyroid problems are related to h/o lithium use</td>\n",
       "      <td>4</td>\n",
       "      <td>0</td>\n",
       "      <td>1</td>\n",
       "      <td>Sep</td>\n",
       "      <td>1981</td>\n",
       "    </tr>\n",
       "    <tr>\n",
       "      <td>24</td>\n",
       "      <td>1451016026</td>\n",
       "      <td>sSep 1983 GSW to face L-TMJ region ? gang related with L-CN VII injury and ? TBI requiring plastic surgical reconstructionActivities of Daily Living ADL Bathing Independent</td>\n",
       "      <td>4</td>\n",
       "      <td>0</td>\n",
       "      <td>1</td>\n",
       "      <td>Sep</td>\n",
       "      <td>1983</td>\n",
       "    </tr>\n",
       "    <tr>\n",
       "      <td>26</td>\n",
       "      <td>1524444733</td>\n",
       "      <td>s 20 yo M carries dx of BPAD presents for psychopharm consult Moved to Independence area for school as of September 1985</td>\n",
       "      <td>4</td>\n",
       "      <td>0</td>\n",
       "      <td>1</td>\n",
       "      <td>Sep</td>\n",
       "      <td>1985</td>\n",
       "    </tr>\n",
       "  </tbody>\n",
       "</table>\n",
       "</div>"
      ],
      "text/plain": [
       "          Code  \\\n",
       "2   1054668034   \n",
       "14  1271563547   \n",
       "18  1348968961   \n",
       "24  1451016026   \n",
       "26  1524444733   \n",
       "\n",
       "                                                                                                                                                                            Data  \\\n",
       "2                                                             HTN hypercholesterolemia DM sleep apnea nephrolithiasis chronic renal impairment DVT since July 1977 on enoxaparin   \n",
       "14                                                                                                                             n Abilify added to Lexapro Wellbutrin in Jan 2007   \n",
       "18                                                                                 sgoiter--diagnosed in September 1981 Pt feels thyroid problems are related to h/o lithium use   \n",
       "24  sSep 1983 GSW to face L-TMJ region ? gang related with L-CN VII injury and ? TBI requiring plastic surgical reconstructionActivities of Daily Living ADL Bathing Independent   \n",
       "26                                                      s 20 yo M carries dx of BPAD presents for psychopharm consult Moved to Independence area for school as of September 1985   \n",
       "\n",
       "    Iter  Match Day Month  Year  \n",
       "2      4      0   1   Jul  1977  \n",
       "14     4      0   1   Jan  2007  \n",
       "18     4      0   1   Sep  1981  \n",
       "24     4      0   1   Sep  1983  \n",
       "26     4      0   1   Sep  1985  "
      ]
     },
     "metadata": {},
     "output_type": "display_data"
    },
    {
     "data": {
      "text/markdown": [
       "**Number of rows with iter=0: 72**"
      ],
      "text/plain": [
       "<IPython.core.display.Markdown object>"
      ]
     },
     "metadata": {},
     "output_type": "display_data"
    },
    {
     "data": {
      "text/html": [
       "<div>\n",
       "<style scoped>\n",
       "    .dataframe tbody tr th:only-of-type {\n",
       "        vertical-align: middle;\n",
       "    }\n",
       "\n",
       "    .dataframe tbody tr th {\n",
       "        vertical-align: top;\n",
       "    }\n",
       "\n",
       "    .dataframe thead th {\n",
       "        text-align: right;\n",
       "    }\n",
       "</style>\n",
       "<table border=\"1\" class=\"dataframe\">\n",
       "  <thead>\n",
       "    <tr style=\"text-align: right;\">\n",
       "      <th></th>\n",
       "      <th>Code</th>\n",
       "      <th>Data</th>\n",
       "      <th>Iter</th>\n",
       "      <th>Match</th>\n",
       "      <th>Day</th>\n",
       "      <th>Month</th>\n",
       "      <th>Year</th>\n",
       "    </tr>\n",
       "  </thead>\n",
       "  <tbody>\n",
       "    <tr>\n",
       "      <td>1</td>\n",
       "      <td>1054311047</td>\n",
       "      <td>and 8mo in 2009</td>\n",
       "      <td>0</td>\n",
       "      <td>0</td>\n",
       "      <td>0</td>\n",
       "      <td>0</td>\n",
       "      <td>0</td>\n",
       "    </tr>\n",
       "    <tr>\n",
       "      <td>16</td>\n",
       "      <td>1304079161</td>\n",
       "      <td>Pt joined Army reserves in 2001 and has 3 years left in this commitment-Mental Status Exam Was the exam performed? If not indicate reason Yes</td>\n",
       "      <td>0</td>\n",
       "      <td>0</td>\n",
       "      <td>0</td>\n",
       "      <td>0</td>\n",
       "      <td>0</td>\n",
       "    </tr>\n",
       "    <tr>\n",
       "      <td>20</td>\n",
       "      <td>1375836275</td>\n",
       "      <td>1 Ex-smoker quit 2012</td>\n",
       "      <td>0</td>\n",
       "      <td>0</td>\n",
       "      <td>0</td>\n",
       "      <td>0</td>\n",
       "      <td>0</td>\n",
       "    </tr>\n",
       "    <tr>\n",
       "      <td>22</td>\n",
       "      <td>1388842679</td>\n",
       "      <td>shx of TBI 1975 ISO MVAMedical History</td>\n",
       "      <td>0</td>\n",
       "      <td>0</td>\n",
       "      <td>0</td>\n",
       "      <td>0</td>\n",
       "      <td>0</td>\n",
       "    </tr>\n",
       "    <tr>\n",
       "      <td>25</td>\n",
       "      <td>1499650595</td>\n",
       "      <td>September 15 2011 Total time of visit in minutes</td>\n",
       "      <td>0</td>\n",
       "      <td>0</td>\n",
       "      <td>0</td>\n",
       "      <td>0</td>\n",
       "      <td>0</td>\n",
       "    </tr>\n",
       "  </tbody>\n",
       "</table>\n",
       "</div>"
      ],
      "text/plain": [
       "          Code  \\\n",
       "1   1054311047   \n",
       "16  1304079161   \n",
       "20  1375836275   \n",
       "22  1388842679   \n",
       "25  1499650595   \n",
       "\n",
       "                                                                                                                                             Data  \\\n",
       "1                                                                                                                                 and 8mo in 2009   \n",
       "16  Pt joined Army reserves in 2001 and has 3 years left in this commitment-Mental Status Exam Was the exam performed? If not indicate reason Yes   \n",
       "20                                                                                                                          1 Ex-smoker quit 2012   \n",
       "22                                                                                                         shx of TBI 1975 ISO MVAMedical History   \n",
       "25                                                                                               September 15 2011 Total time of visit in minutes   \n",
       "\n",
       "    Iter  Match Day Month Year  \n",
       "1      0      0   0     0    0  \n",
       "16     0      0   0     0    0  \n",
       "20     0      0   0     0    0  \n",
       "22     0      0   0     0    0  \n",
       "25     0      0   0     0    0  "
      ]
     },
     "metadata": {},
     "output_type": "display_data"
    }
   ],
   "source": [
    "# Test result\n",
    "# Save Result\n",
    "df.loc[(df.Iter==0) & (df2.Year), \"Day\"] = 1\n",
    "df.loc[(df.Iter==0) & (df2.Year), \"Month\"] = df2[\"Month\"]\n",
    "df.loc[(df.Iter==0) & (df2.Year), \"Year\"] = df2[\"Year\"]\n",
    "\n",
    "df.loc[(df.Iter==0) & (df2.Year), \"Iter\"] = iter\n",
    "info(iter)"
   ]
  },
  {
   "cell_type": "markdown",
   "metadata": {},
   "source": [
    "#### 1.4.5 Month dd yyyy"
   ]
  },
  {
   "cell_type": "code",
   "execution_count": 524,
   "metadata": {},
   "outputs": [
    {
     "data": {
      "text/plain": [
       "354    Nov 11 1988 Total time of visit in minutes\n",
       "Name: Data, dtype: object"
      ]
     },
     "metadata": {},
     "output_type": "display_data"
    },
    {
     "data": {
      "text/html": [
       "<div>\n",
       "<style scoped>\n",
       "    .dataframe tbody tr th:only-of-type {\n",
       "        vertical-align: middle;\n",
       "    }\n",
       "\n",
       "    .dataframe tbody tr th {\n",
       "        vertical-align: top;\n",
       "    }\n",
       "\n",
       "    .dataframe thead th {\n",
       "        text-align: right;\n",
       "    }\n",
       "</style>\n",
       "<table border=\"1\" class=\"dataframe\">\n",
       "  <thead>\n",
       "    <tr style=\"text-align: right;\">\n",
       "      <th></th>\n",
       "      <th>Month</th>\n",
       "      <th>Day</th>\n",
       "      <th>Year</th>\n",
       "    </tr>\n",
       "  </thead>\n",
       "  <tbody>\n",
       "    <tr>\n",
       "      <td>354</td>\n",
       "      <td>Nov</td>\n",
       "      <td>11</td>\n",
       "      <td>1988</td>\n",
       "    </tr>\n",
       "  </tbody>\n",
       "</table>\n",
       "</div>"
      ],
      "text/plain": [
       "    Month Day  Year\n",
       "354   Nov  11  1988"
      ]
     },
     "execution_count": 524,
     "metadata": {},
     "output_type": "execute_result"
    }
   ],
   "source": [
    "# Construct Regex\n",
    "tmp = df.loc[df.Code==7783575950, \"Data\"]\n",
    "display(tmp)\n",
    "\n",
    "regex = (r\"(?P<Month>Jan|Feb|Mar|Apr|May|Jun|Jul|Aug|Sep|Oct|Nov|Dec)[a-z]* (?P<Day>[\\d]{1,2}) (?P<Year>[\\d]{4})\")\n",
    "#regex = r\"(?P<Month>\\d+)/(?P<Day>\\d+)/(?P<Year>\\d+)\"\n",
    "tmp.str.extract(regex)"
   ]
  },
  {
   "cell_type": "code",
   "execution_count": 525,
   "metadata": {},
   "outputs": [
    {
     "data": {
      "text/markdown": [
       " * Number of row matched = 30"
      ],
      "text/plain": [
       "<IPython.core.display.Markdown object>"
      ]
     },
     "metadata": {},
     "output_type": "display_data"
    },
    {
     "data": {
      "text/html": [
       "<div>\n",
       "<style scoped>\n",
       "    .dataframe tbody tr th:only-of-type {\n",
       "        vertical-align: middle;\n",
       "    }\n",
       "\n",
       "    .dataframe tbody tr th {\n",
       "        vertical-align: top;\n",
       "    }\n",
       "\n",
       "    .dataframe thead th {\n",
       "        text-align: right;\n",
       "    }\n",
       "</style>\n",
       "<table border=\"1\" class=\"dataframe\">\n",
       "  <thead>\n",
       "    <tr style=\"text-align: right;\">\n",
       "      <th></th>\n",
       "      <th>Month</th>\n",
       "      <th>Day</th>\n",
       "      <th>Year</th>\n",
       "    </tr>\n",
       "  </thead>\n",
       "  <tbody>\n",
       "    <tr>\n",
       "      <td>25</td>\n",
       "      <td>Sep</td>\n",
       "      <td>15</td>\n",
       "      <td>2011</td>\n",
       "    </tr>\n",
       "    <tr>\n",
       "      <td>54</td>\n",
       "      <td>Jan</td>\n",
       "      <td>27</td>\n",
       "      <td>1983</td>\n",
       "    </tr>\n",
       "    <tr>\n",
       "      <td>75</td>\n",
       "      <td>May</td>\n",
       "      <td>15</td>\n",
       "      <td>1989</td>\n",
       "    </tr>\n",
       "    <tr>\n",
       "      <td>76</td>\n",
       "      <td>Feb</td>\n",
       "      <td>18</td>\n",
       "      <td>1981</td>\n",
       "    </tr>\n",
       "    <tr>\n",
       "      <td>105</td>\n",
       "      <td>Oct</td>\n",
       "      <td>11</td>\n",
       "      <td>2013</td>\n",
       "    </tr>\n",
       "  </tbody>\n",
       "</table>\n",
       "</div>"
      ],
      "text/plain": [
       "    Month Day  Year\n",
       "25    Sep  15  2011\n",
       "54    Jan  27  1983\n",
       "75    May  15  1989\n",
       "76    Feb  18  1981\n",
       "105   Oct  11  2013"
      ]
     },
     "metadata": {},
     "output_type": "display_data"
    }
   ],
   "source": [
    "# Apply Regex\n",
    "iter = 5\n",
    "\n",
    "df2 = df[df.Iter==0].Data.str.extract(regex)\n",
    "df2.dropna(inplace=True)\n",
    "display(Markdown(\" * Number of row matched = %s\" % df2.shape[0]))\n",
    "display(df2.head())"
   ]
  },
  {
   "cell_type": "code",
   "execution_count": 526,
   "metadata": {},
   "outputs": [
    {
     "name": "stdout",
     "output_type": "stream",
     "text": [
      "Helper function to display results of a match and some rows not matched so far.\n"
     ]
    },
    {
     "data": {
      "text/markdown": [
       "**Number of rows with iter=5: 30**"
      ],
      "text/plain": [
       "<IPython.core.display.Markdown object>"
      ]
     },
     "metadata": {},
     "output_type": "display_data"
    },
    {
     "data": {
      "text/html": [
       "<div>\n",
       "<style scoped>\n",
       "    .dataframe tbody tr th:only-of-type {\n",
       "        vertical-align: middle;\n",
       "    }\n",
       "\n",
       "    .dataframe tbody tr th {\n",
       "        vertical-align: top;\n",
       "    }\n",
       "\n",
       "    .dataframe thead th {\n",
       "        text-align: right;\n",
       "    }\n",
       "</style>\n",
       "<table border=\"1\" class=\"dataframe\">\n",
       "  <thead>\n",
       "    <tr style=\"text-align: right;\">\n",
       "      <th></th>\n",
       "      <th>Code</th>\n",
       "      <th>Data</th>\n",
       "      <th>Iter</th>\n",
       "      <th>Match</th>\n",
       "      <th>Day</th>\n",
       "      <th>Month</th>\n",
       "      <th>Year</th>\n",
       "    </tr>\n",
       "  </thead>\n",
       "  <tbody>\n",
       "    <tr>\n",
       "      <td>25</td>\n",
       "      <td>1499650595</td>\n",
       "      <td>September 15 2011 Total time of visit in minutes</td>\n",
       "      <td>5</td>\n",
       "      <td>0</td>\n",
       "      <td>15</td>\n",
       "      <td>Sep</td>\n",
       "      <td>2011</td>\n",
       "    </tr>\n",
       "    <tr>\n",
       "      <td>54</td>\n",
       "      <td>2027332027</td>\n",
       "      <td>Got back to US Jan 27 1983</td>\n",
       "      <td>5</td>\n",
       "      <td>0</td>\n",
       "      <td>27</td>\n",
       "      <td>Jan</td>\n",
       "      <td>1983</td>\n",
       "    </tr>\n",
       "    <tr>\n",
       "      <td>75</td>\n",
       "      <td>2371167874</td>\n",
       "      <td>May 15 1989 SOS-10 Total Score</td>\n",
       "      <td>5</td>\n",
       "      <td>0</td>\n",
       "      <td>15</td>\n",
       "      <td>May</td>\n",
       "      <td>1989</td>\n",
       "    </tr>\n",
       "    <tr>\n",
       "      <td>76</td>\n",
       "      <td>2414892617</td>\n",
       "      <td>Brother died February 18 1981 Parental/Caregiver obligations</td>\n",
       "      <td>5</td>\n",
       "      <td>0</td>\n",
       "      <td>18</td>\n",
       "      <td>Feb</td>\n",
       "      <td>1981</td>\n",
       "    </tr>\n",
       "    <tr>\n",
       "      <td>105</td>\n",
       "      <td>3039453427</td>\n",
       "      <td>none; but currently has appt with new HJH PCP Rachel Salas MD on October 11 2013 Other Agency Involvement No</td>\n",
       "      <td>5</td>\n",
       "      <td>0</td>\n",
       "      <td>11</td>\n",
       "      <td>Oct</td>\n",
       "      <td>2013</td>\n",
       "    </tr>\n",
       "  </tbody>\n",
       "</table>\n",
       "</div>"
      ],
      "text/plain": [
       "           Code  \\\n",
       "25   1499650595   \n",
       "54   2027332027   \n",
       "75   2371167874   \n",
       "76   2414892617   \n",
       "105  3039453427   \n",
       "\n",
       "                                                                                                             Data  \\\n",
       "25                                                               September 15 2011 Total time of visit in minutes   \n",
       "54                                                                                     Got back to US Jan 27 1983   \n",
       "75                                                                                 May 15 1989 SOS-10 Total Score   \n",
       "76                                                   Brother died February 18 1981 Parental/Caregiver obligations   \n",
       "105  none; but currently has appt with new HJH PCP Rachel Salas MD on October 11 2013 Other Agency Involvement No   \n",
       "\n",
       "     Iter  Match Day Month  Year  \n",
       "25      5      0  15   Sep  2011  \n",
       "54      5      0  27   Jan  1983  \n",
       "75      5      0  15   May  1989  \n",
       "76      5      0  18   Feb  1981  \n",
       "105     5      0  11   Oct  2013  "
      ]
     },
     "metadata": {},
     "output_type": "display_data"
    },
    {
     "data": {
      "text/markdown": [
       "**Number of rows with iter=0: 42**"
      ],
      "text/plain": [
       "<IPython.core.display.Markdown object>"
      ]
     },
     "metadata": {},
     "output_type": "display_data"
    },
    {
     "data": {
      "text/html": [
       "<div>\n",
       "<style scoped>\n",
       "    .dataframe tbody tr th:only-of-type {\n",
       "        vertical-align: middle;\n",
       "    }\n",
       "\n",
       "    .dataframe tbody tr th {\n",
       "        vertical-align: top;\n",
       "    }\n",
       "\n",
       "    .dataframe thead th {\n",
       "        text-align: right;\n",
       "    }\n",
       "</style>\n",
       "<table border=\"1\" class=\"dataframe\">\n",
       "  <thead>\n",
       "    <tr style=\"text-align: right;\">\n",
       "      <th></th>\n",
       "      <th>Code</th>\n",
       "      <th>Data</th>\n",
       "      <th>Iter</th>\n",
       "      <th>Match</th>\n",
       "      <th>Day</th>\n",
       "      <th>Month</th>\n",
       "      <th>Year</th>\n",
       "    </tr>\n",
       "  </thead>\n",
       "  <tbody>\n",
       "    <tr>\n",
       "      <td>1</td>\n",
       "      <td>1054311047</td>\n",
       "      <td>and 8mo in 2009</td>\n",
       "      <td>0</td>\n",
       "      <td>0</td>\n",
       "      <td>0</td>\n",
       "      <td>0</td>\n",
       "      <td>0</td>\n",
       "    </tr>\n",
       "    <tr>\n",
       "      <td>16</td>\n",
       "      <td>1304079161</td>\n",
       "      <td>Pt joined Army reserves in 2001 and has 3 years left in this commitment-Mental Status Exam Was the exam performed? If not indicate reason Yes</td>\n",
       "      <td>0</td>\n",
       "      <td>0</td>\n",
       "      <td>0</td>\n",
       "      <td>0</td>\n",
       "      <td>0</td>\n",
       "    </tr>\n",
       "    <tr>\n",
       "      <td>20</td>\n",
       "      <td>1375836275</td>\n",
       "      <td>1 Ex-smoker quit 2012</td>\n",
       "      <td>0</td>\n",
       "      <td>0</td>\n",
       "      <td>0</td>\n",
       "      <td>0</td>\n",
       "      <td>0</td>\n",
       "    </tr>\n",
       "    <tr>\n",
       "      <td>22</td>\n",
       "      <td>1388842679</td>\n",
       "      <td>shx of TBI 1975 ISO MVAMedical History</td>\n",
       "      <td>0</td>\n",
       "      <td>0</td>\n",
       "      <td>0</td>\n",
       "      <td>0</td>\n",
       "      <td>0</td>\n",
       "    </tr>\n",
       "    <tr>\n",
       "      <td>46</td>\n",
       "      <td>1858445338</td>\n",
       "      <td>1 Esophageal cancer dx 2013 on FOLFOX with oxaliplatin desensitization</td>\n",
       "      <td>0</td>\n",
       "      <td>0</td>\n",
       "      <td>0</td>\n",
       "      <td>0</td>\n",
       "      <td>0</td>\n",
       "    </tr>\n",
       "  </tbody>\n",
       "</table>\n",
       "</div>"
      ],
      "text/plain": [
       "          Code  \\\n",
       "1   1054311047   \n",
       "16  1304079161   \n",
       "20  1375836275   \n",
       "22  1388842679   \n",
       "46  1858445338   \n",
       "\n",
       "                                                                                                                                             Data  \\\n",
       "1                                                                                                                                 and 8mo in 2009   \n",
       "16  Pt joined Army reserves in 2001 and has 3 years left in this commitment-Mental Status Exam Was the exam performed? If not indicate reason Yes   \n",
       "20                                                                                                                          1 Ex-smoker quit 2012   \n",
       "22                                                                                                         shx of TBI 1975 ISO MVAMedical History   \n",
       "46                                                                         1 Esophageal cancer dx 2013 on FOLFOX with oxaliplatin desensitization   \n",
       "\n",
       "    Iter  Match Day Month Year  \n",
       "1      0      0   0     0    0  \n",
       "16     0      0   0     0    0  \n",
       "20     0      0   0     0    0  \n",
       "22     0      0   0     0    0  \n",
       "46     0      0   0     0    0  "
      ]
     },
     "metadata": {},
     "output_type": "display_data"
    }
   ],
   "source": [
    "# Test result\n",
    "# Save Result\n",
    "df.loc[(df.Iter==0) & (df2.Year), \"Day\"] = df2[\"Day\"]\n",
    "df.loc[(df.Iter==0) & (df2.Year), \"Month\"] = df2[\"Month\"]\n",
    "df.loc[(df.Iter==0) & (df2.Year), \"Year\"] = df2[\"Year\"]\n",
    "\n",
    "df.loc[(df.Iter==0) & (df2.Year), \"Iter\"] = iter\n",
    "info(iter)"
   ]
  },
  {
   "cell_type": "markdown",
   "metadata": {},
   "source": [
    "#### 1.4.6 mm-dd-yyyy"
   ]
  },
  {
   "cell_type": "code",
   "execution_count": 532,
   "metadata": {},
   "outputs": [
    {
     "data": {
      "text/plain": [
       "115    7-29-75 CPT Code 90801 - Psychiatric Diagnosis Interview\n",
       "Name: Data, dtype: object"
      ]
     },
     "metadata": {},
     "output_type": "display_data"
    },
    {
     "data": {
      "text/html": [
       "<div>\n",
       "<style scoped>\n",
       "    .dataframe tbody tr th:only-of-type {\n",
       "        vertical-align: middle;\n",
       "    }\n",
       "\n",
       "    .dataframe tbody tr th {\n",
       "        vertical-align: top;\n",
       "    }\n",
       "\n",
       "    .dataframe thead th {\n",
       "        text-align: right;\n",
       "    }\n",
       "</style>\n",
       "<table border=\"1\" class=\"dataframe\">\n",
       "  <thead>\n",
       "    <tr style=\"text-align: right;\">\n",
       "      <th></th>\n",
       "      <th>Month</th>\n",
       "      <th>Day</th>\n",
       "      <th>Year</th>\n",
       "    </tr>\n",
       "  </thead>\n",
       "  <tbody>\n",
       "    <tr>\n",
       "      <td>115</td>\n",
       "      <td>7</td>\n",
       "      <td>29</td>\n",
       "      <td>75</td>\n",
       "    </tr>\n",
       "  </tbody>\n",
       "</table>\n",
       "</div>"
      ],
      "text/plain": [
       "    Month Day Year\n",
       "115     7  29   75"
      ]
     },
     "execution_count": 532,
     "metadata": {},
     "output_type": "execute_result"
    }
   ],
   "source": [
    "# Construct Regex\n",
    "tmp = df.loc[df.Code==3173136043, \"Data\"]\n",
    "display(tmp)\n",
    "\n",
    "regex = r\"(?P<Month>[\\d]{1,2})-(?P<Day>[\\d]{1,2})-(?P<Year>[\\d]{2,4})\"\n",
    "#regex = r\"(?P<Month>\\d+)/(?P<Day>\\d+)/(?P<Year>\\d+)\"\n",
    "tmp.str.extract(regex)"
   ]
  },
  {
   "cell_type": "code",
   "execution_count": 533,
   "metadata": {},
   "outputs": [
    {
     "data": {
      "text/markdown": [
       " * Number of row matched = 4"
      ],
      "text/plain": [
       "<IPython.core.display.Markdown object>"
      ]
     },
     "metadata": {},
     "output_type": "display_data"
    },
    {
     "data": {
      "text/html": [
       "<div>\n",
       "<style scoped>\n",
       "    .dataframe tbody tr th:only-of-type {\n",
       "        vertical-align: middle;\n",
       "    }\n",
       "\n",
       "    .dataframe tbody tr th {\n",
       "        vertical-align: top;\n",
       "    }\n",
       "\n",
       "    .dataframe thead th {\n",
       "        text-align: right;\n",
       "    }\n",
       "</style>\n",
       "<table border=\"1\" class=\"dataframe\">\n",
       "  <thead>\n",
       "    <tr style=\"text-align: right;\">\n",
       "      <th></th>\n",
       "      <th>Month</th>\n",
       "      <th>Day</th>\n",
       "      <th>Year</th>\n",
       "    </tr>\n",
       "  </thead>\n",
       "  <tbody>\n",
       "    <tr>\n",
       "      <td>115</td>\n",
       "      <td>7</td>\n",
       "      <td>29</td>\n",
       "      <td>75</td>\n",
       "    </tr>\n",
       "    <tr>\n",
       "      <td>202</td>\n",
       "      <td>4</td>\n",
       "      <td>13</td>\n",
       "      <td>82</td>\n",
       "    </tr>\n",
       "    <tr>\n",
       "      <td>235</td>\n",
       "      <td>1</td>\n",
       "      <td>14</td>\n",
       "      <td>81</td>\n",
       "    </tr>\n",
       "    <tr>\n",
       "      <td>454</td>\n",
       "      <td>4</td>\n",
       "      <td>13</td>\n",
       "      <td>89</td>\n",
       "    </tr>\n",
       "  </tbody>\n",
       "</table>\n",
       "</div>"
      ],
      "text/plain": [
       "    Month Day Year\n",
       "115     7  29   75\n",
       "202     4  13   82\n",
       "235     1  14   81\n",
       "454     4  13   89"
      ]
     },
     "metadata": {},
     "output_type": "display_data"
    }
   ],
   "source": [
    "# Apply Regex\n",
    "iter = 6\n",
    "\n",
    "df2 = df[df.Iter==0].Data.str.extract(regex)\n",
    "df2.dropna(inplace=True)\n",
    "display(Markdown(\" * Number of row matched = %s\" % df2.shape[0]))\n",
    "display(df2.head())"
   ]
  },
  {
   "cell_type": "code",
   "execution_count": 534,
   "metadata": {},
   "outputs": [
    {
     "name": "stdout",
     "output_type": "stream",
     "text": [
      "Helper function to display results of a match and some rows not matched so far.\n"
     ]
    },
    {
     "data": {
      "text/markdown": [
       "**Number of rows with iter=6: 4**"
      ],
      "text/plain": [
       "<IPython.core.display.Markdown object>"
      ]
     },
     "metadata": {},
     "output_type": "display_data"
    },
    {
     "data": {
      "text/html": [
       "<div>\n",
       "<style scoped>\n",
       "    .dataframe tbody tr th:only-of-type {\n",
       "        vertical-align: middle;\n",
       "    }\n",
       "\n",
       "    .dataframe tbody tr th {\n",
       "        vertical-align: top;\n",
       "    }\n",
       "\n",
       "    .dataframe thead th {\n",
       "        text-align: right;\n",
       "    }\n",
       "</style>\n",
       "<table border=\"1\" class=\"dataframe\">\n",
       "  <thead>\n",
       "    <tr style=\"text-align: right;\">\n",
       "      <th></th>\n",
       "      <th>Code</th>\n",
       "      <th>Data</th>\n",
       "      <th>Iter</th>\n",
       "      <th>Match</th>\n",
       "      <th>Day</th>\n",
       "      <th>Month</th>\n",
       "      <th>Year</th>\n",
       "    </tr>\n",
       "  </thead>\n",
       "  <tbody>\n",
       "    <tr>\n",
       "      <td>115</td>\n",
       "      <td>3173136043</td>\n",
       "      <td>7-29-75 CPT Code 90801 - Psychiatric Diagnosis Interview</td>\n",
       "      <td>6</td>\n",
       "      <td>0</td>\n",
       "      <td>29</td>\n",
       "      <td>7</td>\n",
       "      <td>75</td>\n",
       "    </tr>\n",
       "    <tr>\n",
       "      <td>202</td>\n",
       "      <td>4895905688</td>\n",
       "      <td>4-13-82 Other Child Mental Health Outcomes Scales Used</td>\n",
       "      <td>6</td>\n",
       "      <td>0</td>\n",
       "      <td>13</td>\n",
       "      <td>4</td>\n",
       "      <td>82</td>\n",
       "    </tr>\n",
       "    <tr>\n",
       "      <td>235</td>\n",
       "      <td>5561299129</td>\n",
       "      <td>1-14-81 Communication with referring physician? Done</td>\n",
       "      <td>6</td>\n",
       "      <td>0</td>\n",
       "      <td>14</td>\n",
       "      <td>1</td>\n",
       "      <td>81</td>\n",
       "    </tr>\n",
       "    <tr>\n",
       "      <td>454</td>\n",
       "      <td>9752673858</td>\n",
       "      <td>4-13-89 Communication with referring physician? Not Done</td>\n",
       "      <td>6</td>\n",
       "      <td>0</td>\n",
       "      <td>13</td>\n",
       "      <td>4</td>\n",
       "      <td>89</td>\n",
       "    </tr>\n",
       "  </tbody>\n",
       "</table>\n",
       "</div>"
      ],
      "text/plain": [
       "           Code                                                      Data  \\\n",
       "115  3173136043  7-29-75 CPT Code 90801 - Psychiatric Diagnosis Interview   \n",
       "202  4895905688    4-13-82 Other Child Mental Health Outcomes Scales Used   \n",
       "235  5561299129      1-14-81 Communication with referring physician? Done   \n",
       "454  9752673858  4-13-89 Communication with referring physician? Not Done   \n",
       "\n",
       "     Iter  Match Day Month Year  \n",
       "115     6      0  29     7   75  \n",
       "202     6      0  13     4   82  \n",
       "235     6      0  14     1   81  \n",
       "454     6      0  13     4   89  "
      ]
     },
     "metadata": {},
     "output_type": "display_data"
    },
    {
     "data": {
      "text/markdown": [
       "**Number of rows with iter=0: 38**"
      ],
      "text/plain": [
       "<IPython.core.display.Markdown object>"
      ]
     },
     "metadata": {},
     "output_type": "display_data"
    },
    {
     "data": {
      "text/html": [
       "<div>\n",
       "<style scoped>\n",
       "    .dataframe tbody tr th:only-of-type {\n",
       "        vertical-align: middle;\n",
       "    }\n",
       "\n",
       "    .dataframe tbody tr th {\n",
       "        vertical-align: top;\n",
       "    }\n",
       "\n",
       "    .dataframe thead th {\n",
       "        text-align: right;\n",
       "    }\n",
       "</style>\n",
       "<table border=\"1\" class=\"dataframe\">\n",
       "  <thead>\n",
       "    <tr style=\"text-align: right;\">\n",
       "      <th></th>\n",
       "      <th>Code</th>\n",
       "      <th>Data</th>\n",
       "      <th>Iter</th>\n",
       "      <th>Match</th>\n",
       "      <th>Day</th>\n",
       "      <th>Month</th>\n",
       "      <th>Year</th>\n",
       "    </tr>\n",
       "  </thead>\n",
       "  <tbody>\n",
       "    <tr>\n",
       "      <td>1</td>\n",
       "      <td>1054311047</td>\n",
       "      <td>and 8mo in 2009</td>\n",
       "      <td>0</td>\n",
       "      <td>0</td>\n",
       "      <td>0</td>\n",
       "      <td>0</td>\n",
       "      <td>0</td>\n",
       "    </tr>\n",
       "    <tr>\n",
       "      <td>16</td>\n",
       "      <td>1304079161</td>\n",
       "      <td>Pt joined Army reserves in 2001 and has 3 years left in this commitment-Mental Status Exam Was the exam performed? If not indicate reason Yes</td>\n",
       "      <td>0</td>\n",
       "      <td>0</td>\n",
       "      <td>0</td>\n",
       "      <td>0</td>\n",
       "      <td>0</td>\n",
       "    </tr>\n",
       "    <tr>\n",
       "      <td>20</td>\n",
       "      <td>1375836275</td>\n",
       "      <td>1 Ex-smoker quit 2012</td>\n",
       "      <td>0</td>\n",
       "      <td>0</td>\n",
       "      <td>0</td>\n",
       "      <td>0</td>\n",
       "      <td>0</td>\n",
       "    </tr>\n",
       "    <tr>\n",
       "      <td>22</td>\n",
       "      <td>1388842679</td>\n",
       "      <td>shx of TBI 1975 ISO MVAMedical History</td>\n",
       "      <td>0</td>\n",
       "      <td>0</td>\n",
       "      <td>0</td>\n",
       "      <td>0</td>\n",
       "      <td>0</td>\n",
       "    </tr>\n",
       "    <tr>\n",
       "      <td>46</td>\n",
       "      <td>1858445338</td>\n",
       "      <td>1 Esophageal cancer dx 2013 on FOLFOX with oxaliplatin desensitization</td>\n",
       "      <td>0</td>\n",
       "      <td>0</td>\n",
       "      <td>0</td>\n",
       "      <td>0</td>\n",
       "      <td>0</td>\n",
       "    </tr>\n",
       "  </tbody>\n",
       "</table>\n",
       "</div>"
      ],
      "text/plain": [
       "          Code  \\\n",
       "1   1054311047   \n",
       "16  1304079161   \n",
       "20  1375836275   \n",
       "22  1388842679   \n",
       "46  1858445338   \n",
       "\n",
       "                                                                                                                                             Data  \\\n",
       "1                                                                                                                                 and 8mo in 2009   \n",
       "16  Pt joined Army reserves in 2001 and has 3 years left in this commitment-Mental Status Exam Was the exam performed? If not indicate reason Yes   \n",
       "20                                                                                                                          1 Ex-smoker quit 2012   \n",
       "22                                                                                                         shx of TBI 1975 ISO MVAMedical History   \n",
       "46                                                                         1 Esophageal cancer dx 2013 on FOLFOX with oxaliplatin desensitization   \n",
       "\n",
       "    Iter  Match Day Month Year  \n",
       "1      0      0   0     0    0  \n",
       "16     0      0   0     0    0  \n",
       "20     0      0   0     0    0  \n",
       "22     0      0   0     0    0  \n",
       "46     0      0   0     0    0  "
      ]
     },
     "metadata": {},
     "output_type": "display_data"
    }
   ],
   "source": [
    "# Test result\n",
    "# Save Result\n",
    "df.loc[(df.Iter==0) & (df2.Year), \"Day\"] = df2[\"Day\"]\n",
    "df.loc[(df.Iter==0) & (df2.Year), \"Month\"] = df2[\"Month\"]\n",
    "df.loc[(df.Iter==0) & (df2.Year), \"Year\"] = df2[\"Year\"]\n",
    "\n",
    "df.loc[(df.Iter==0) & (df2.Year), \"Iter\"] = iter\n",
    "info(iter)"
   ]
  },
  {
   "cell_type": "markdown",
   "metadata": {},
   "source": [
    "#### 1.4.7 yyyy"
   ]
  },
  {
   "cell_type": "code",
   "execution_count": null,
   "metadata": {},
   "outputs": [],
   "source": []
  }
 ],
 "metadata": {
  "kernelspec": {
   "display_name": "Python 3",
   "language": "python",
   "name": "python3"
  },
  "language_info": {
   "codemirror_mode": {
    "name": "ipython",
    "version": 3
   },
   "file_extension": ".py",
   "mimetype": "text/x-python",
   "name": "python",
   "nbconvert_exporter": "python",
   "pygments_lexer": "ipython3",
   "version": "3.6.8"
  }
 },
 "nbformat": 4,
 "nbformat_minor": 4
}
