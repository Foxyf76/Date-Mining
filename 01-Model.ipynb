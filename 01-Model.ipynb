{
 "cells": [
  {
   "cell_type": "markdown",
   "metadata": {
    "Collapsed": "false"
   },
   "source": [
    "# Date Mining Assignment"
   ]
  },
  {
   "cell_type": "code",
   "execution_count": 703,
   "metadata": {
    "Collapsed": "false"
   },
   "outputs": [],
   "source": [
    "import numpy as np\n",
    "import pandas as pd\n",
    "from IPython.display import display, Markdown, Latex\n",
    "pd.set_option('max_colwidth', 1000)\n",
    "\n",
    "import re, os\n",
    "for d in [\"src\",\"data\"]: os.makedirs(d, exist_ok=True)\n",
    "    \n",
    "DEBUG=False"
   ]
  },
  {
   "cell_type": "markdown",
   "metadata": {
    "Collapsed": "false"
   },
   "source": [
    "## Load Dataset"
   ]
  },
  {
   "cell_type": "code",
   "execution_count": 704,
   "metadata": {
    "Collapsed": "false"
   },
   "outputs": [
    {
     "name": "stdout",
     "output_type": "stream",
     "text": [
      "Using local copy of public.csv in folder src\n"
     ]
    }
   ],
   "source": [
    "URL = \"https://kmurphy.bitbucket.io/modules/Data_Mining_2/topics/08-Text_Mining/20-Mining_Dates/files/\"\n",
    "\n",
    "for filename, dest in [(\"public.csv\", \"src\")]:\n",
    "    \n",
    "    source = f\"{URL}/{filename}\"\n",
    "    target = f\"{dest}/{filename}\"\n",
    "\n",
    "    if not os.path.isfile(target):\n",
    "        print (f\"Downloading remote file {filename} to folder {dest}\", sep=\"\")\n",
    "        import urllib.request\n",
    "        urllib.request.urlretrieve(source, target)\n",
    "    else:\n",
    "        print(f\"Using local copy of {filename} in folder {dest}\")"
   ]
  },
  {
   "cell_type": "code",
   "execution_count": 705,
   "metadata": {
    "Collapsed": "false"
   },
   "outputs": [
    {
     "data": {
      "text/html": [
       "<div>\n",
       "<style scoped>\n",
       "    .dataframe tbody tr th:only-of-type {\n",
       "        vertical-align: middle;\n",
       "    }\n",
       "\n",
       "    .dataframe tbody tr th {\n",
       "        vertical-align: top;\n",
       "    }\n",
       "\n",
       "    .dataframe thead th {\n",
       "        text-align: right;\n",
       "    }\n",
       "</style>\n",
       "<table border=\"1\" class=\"dataframe\">\n",
       "  <thead>\n",
       "    <tr style=\"text-align: right;\">\n",
       "      <th></th>\n",
       "      <th>Code</th>\n",
       "      <th>Raw</th>\n",
       "    </tr>\n",
       "  </thead>\n",
       "  <tbody>\n",
       "    <tr>\n",
       "      <th>0</th>\n",
       "      <td>1012720972</td>\n",
       "      <td>.12, Noember 16- bad reaction to SpiceK2 - synthetic MJ- admitted to Crete Manor, Mcalester.</td>\n",
       "    </tr>\n",
       "    <tr>\n",
       "      <th>1</th>\n",
       "      <td>1039370009</td>\n",
       "      <td>.April, 5 97: made a phone call to Mom and Mom commented that he was talking very fast, hard to interrupt, but was in super happy spirits, so didn't make a big deal of it.</td>\n",
       "    </tr>\n",
       "    <tr>\n",
       "      <th>2</th>\n",
       "      <td>1039574613</td>\n",
       "      <td>A pleasant 28 yo woman with no formal psychiatric history and with a h/o SCCA of the right tongue (s/p partial glossectomy and neck dissection in 8/1974) referred to psycho-oncology for assistance with adjustment issues following recovery. The patient does not meet criteria for a major mood or anxiety disorder. She is not at imminent risk of harm to self or others. She would benefit from psychotherapy to help her integrate her experience of cancer and the break-up of her engagement, and to think through how to continue to create a life for herself moving forward.</td>\n",
       "    </tr>\n",
       "    <tr>\n",
       "      <th>3</th>\n",
       "      <td>1039963589</td>\n",
       "      <td>October 7, 01 [report_end]</td>\n",
       "    </tr>\n",
       "    <tr>\n",
       "      <th>4</th>\n",
       "      <td>1048901075</td>\n",
       "      <td>July, 4, 01 Primary Care Doctor:</td>\n",
       "    </tr>\n",
       "  </tbody>\n",
       "</table>\n",
       "</div>"
      ],
      "text/plain": [
       "         Code  \\\n",
       "0  1012720972   \n",
       "1  1039370009   \n",
       "2  1039574613   \n",
       "3  1039963589   \n",
       "4  1048901075   \n",
       "\n",
       "                                                                                                                                                                                                                                                                                                                                                                                                                                                                                                                                                                                         Raw  \n",
       "0                                                                                                                                                                                                                                                                                                                                                                                                                                                                                               .12, Noember 16- bad reaction to SpiceK2 - synthetic MJ- admitted to Crete Manor, Mcalester.  \n",
       "1                                                                                                                                                                                                                                                                                                                                                                                                                .April, 5 97: made a phone call to Mom and Mom commented that he was talking very fast, hard to interrupt, but was in super happy spirits, so didn't make a big deal of it.  \n",
       "2  A pleasant 28 yo woman with no formal psychiatric history and with a h/o SCCA of the right tongue (s/p partial glossectomy and neck dissection in 8/1974) referred to psycho-oncology for assistance with adjustment issues following recovery. The patient does not meet criteria for a major mood or anxiety disorder. She is not at imminent risk of harm to self or others. She would benefit from psychotherapy to help her integrate her experience of cancer and the break-up of her engagement, and to think through how to continue to create a life for herself moving forward.  \n",
       "3                                                                                                                                                                                                                                                                                                                                                                                                                                                                                                                                                                 October 7, 01 [report_end]  \n",
       "4                                                                                                                                                                                                                                                                                                                                                                                                                                                                                                                                                           July, 4, 01 Primary Care Doctor:  "
      ]
     },
     "execution_count": 705,
     "metadata": {},
     "output_type": "execute_result"
    }
   ],
   "source": [
    "df = pd.read_csv(\"src/public.csv\")\n",
    "df.head()"
   ]
  },
  {
   "cell_type": "markdown",
   "metadata": {
    "Collapsed": "false"
   },
   "source": [
    "## Outline of Solution Pipeline\n",
    "\n",
    " * First perform a cleaning step. This greatly reduces the number of regular expressions needed.\n",
    "     - you to figure out specifics here\n",
    "   \n",
    " * Define two helper functions to simply application of regular expression and to display which parts of dataset are matched / not matched.\n",
    " * Build a sequence of regular expressions (starting from most restrictive to avoid false positives) to apply to dataset.\n",
    " * At each match/iteration use examples of unmatched rows to determine next possible regular expression.\n",
    "\n",
    "---"
   ]
  },
  {
   "cell_type": "markdown",
   "metadata": {
    "Collapsed": "false"
   },
   "source": [
    "## Cleaning Step\n",
    "\n",
    "As a result of this step, the dataframe will have columns\n",
    "\n",
    " * __Code__ unchanged\n",
    " * __Raw__ unchanged\n",
    " * __Data__ cleaned version of __Raw__\n",
    " * __Iter__ number of regex that matched this row (for development purposes)\n",
    " * __Match__ regex object result for this row (for development purposes, you might not use)\n",
    " * __Day__ day (or zero if not set)\n",
    " * __Month__ month (or zero if not set)\n",
    " * __Year__ year (or zero if not set)"
   ]
  },
  {
   "cell_type": "markdown",
   "metadata": {},
   "source": [
    "### 1. Removing uneeded characters"
   ]
  },
  {
   "cell_type": "code",
   "execution_count": 706,
   "metadata": {
    "Collapsed": "false"
   },
   "outputs": [],
   "source": [
    "df['Data'] = df[\"Raw\"].replace(\n",
    "    {'\\(':'',\n",
    "     '\\)':'',\n",
    "     '\\.':' ',\n",
    "     '\\,':' ',\n",
    "     '-':' ',\n",
    "     '\\:':'',\n",
    "     '\\+':'',\n",
    "     '\\~':'',\n",
    "     '\\s+':' '\n",
    "    }, regex=True)\n",
    "\n",
    "df['Data'] = df[\"Data\"].replace('\\s+', ' ', regex=True)\n",
    "df[\"Iter\"] = 0        \n",
    "df[\"Match\"] = 0     \n",
    "df[\"Day\"] = 0\n",
    "df[\"Month\"] = 0\n",
    "df[\"Year\"] = 0"
   ]
  },
  {
   "cell_type": "markdown",
   "metadata": {},
   "source": [
    "### 2. Convert to lower"
   ]
  },
  {
   "cell_type": "code",
   "execution_count": 707,
   "metadata": {},
   "outputs": [],
   "source": [
    "for line in df['Data']:\n",
    "    df['Data'] = df['Data'].replace(line, line.lower())"
   ]
  },
  {
   "cell_type": "markdown",
   "metadata": {},
   "source": [
    "### 3. Fixing month typos and convert to abbreviated"
   ]
  },
  {
   "cell_type": "code",
   "execution_count": 708,
   "metadata": {},
   "outputs": [],
   "source": [
    "from fuzzywuzzy import fuzz\n",
    "\n",
    "months = {\n",
    "    \"january\": \"jan\",\n",
    "    \"february\": \"feb\", \n",
    "    \"march\": \"mar\", \n",
    "    \"april\": \"apr\", \n",
    "    \"june\": \"jun\", \n",
    "    \"july\": \"jul\", \n",
    "    \"august\": \"aug\", \n",
    "    \"september\": \"sep\", \n",
    "    \"october\": \"oct\", \n",
    "    \"november\": \"nov\", \n",
    "    \"december\": \"dec\"\n",
    "}\n",
    "\n",
    "for index, line in df['Data'].items():\n",
    "    for word in line.split():\n",
    "        for key, val in months.items():\n",
    "            ratio = fuzz.ratio(word, key)\n",
    "            if ratio > 86:\n",
    "                df['Data'] = df['Data'].replace(line, line.replace(word, val))\n",
    "                if DEBUG:\n",
    "                    print(\"Match between: {0} - {1}, {2}%\".format(word, key, ratio))"
   ]
  },
  {
   "cell_type": "markdown",
   "metadata": {},
   "source": [
    "### 4. Adding Leading Zeroes"
   ]
  },
  {
   "cell_type": "code",
   "execution_count": 709,
   "metadata": {},
   "outputs": [],
   "source": [
    "for index, line in df['Data'].items():\n",
    "    words = line.split()\n",
    "    indices = []\n",
    "    \n",
    "    for word in words:\n",
    "        \n",
    "        # if single digit, get index and apply zfill (index used to avoid applying zfill to other occurances)\n",
    "        if word.isnumeric() and len(word) == 1:\n",
    "            indices.append(words.index(word))\n",
    "            \n",
    "        for idx in indices:\n",
    "            words[idx] = words[idx].zfill(2)\n",
    "        \n",
    "        # if single digit exists within forward slash\n",
    "        if len(word.split('/')) > 1:\n",
    "            for i in word.split('/'):\n",
    "                if i.isnumeric() and len(i) == 1:\n",
    "                    formatted = '/'.join([item.zfill(2) for item in (word.split('/'))])\n",
    "                    df['Data'] = df['Data'].replace(line, line.replace(word, formatted))\n",
    "                    if DEBUG:\n",
    "                        print (\"Converting {0} to {1}\".format(word, formatted))\n",
    "                        \n",
    "    df['Data'] = df['Data'].replace(line, ' '.join(words))"
   ]
  },
  {
   "cell_type": "markdown",
   "metadata": {},
   "source": [
    "### 5. Sample of cleaned data "
   ]
  },
  {
   "cell_type": "code",
   "execution_count": 710,
   "metadata": {},
   "outputs": [
    {
     "data": {
      "text/html": [
       "<div>\n",
       "<style scoped>\n",
       "    .dataframe tbody tr th:only-of-type {\n",
       "        vertical-align: middle;\n",
       "    }\n",
       "\n",
       "    .dataframe tbody tr th {\n",
       "        vertical-align: top;\n",
       "    }\n",
       "\n",
       "    .dataframe thead th {\n",
       "        text-align: right;\n",
       "    }\n",
       "</style>\n",
       "<table border=\"1\" class=\"dataframe\">\n",
       "  <thead>\n",
       "    <tr style=\"text-align: right;\">\n",
       "      <th></th>\n",
       "      <th>Code</th>\n",
       "      <th>Raw</th>\n",
       "      <th>Data</th>\n",
       "      <th>Iter</th>\n",
       "      <th>Match</th>\n",
       "      <th>Day</th>\n",
       "      <th>Month</th>\n",
       "      <th>Year</th>\n",
       "    </tr>\n",
       "  </thead>\n",
       "  <tbody>\n",
       "    <tr>\n",
       "      <th>0</th>\n",
       "      <td>1012720972</td>\n",
       "      <td>.12, Noember 16- bad reaction to SpiceK2 - synthetic MJ- admitted to Crete Manor, Mcalester.</td>\n",
       "      <td>12 nov 16 bad reaction to spicek2 synthetic mj admitted to crete manor mcalester</td>\n",
       "      <td>0</td>\n",
       "      <td>0</td>\n",
       "      <td>0</td>\n",
       "      <td>0</td>\n",
       "      <td>0</td>\n",
       "    </tr>\n",
       "    <tr>\n",
       "      <th>1</th>\n",
       "      <td>1039370009</td>\n",
       "      <td>.April, 5 97: made a phone call to Mom and Mom commented that he was talking very fast, hard to interrupt, but was in super happy spirits, so didn't make a big deal of it.</td>\n",
       "      <td>apr 05 97 made a phone call to mom and mom commented that he was talking very fast hard to interrupt but was in super happy spirits so didn't make a big deal of it</td>\n",
       "      <td>0</td>\n",
       "      <td>0</td>\n",
       "      <td>0</td>\n",
       "      <td>0</td>\n",
       "      <td>0</td>\n",
       "    </tr>\n",
       "    <tr>\n",
       "      <th>2</th>\n",
       "      <td>1039574613</td>\n",
       "      <td>A pleasant 28 yo woman with no formal psychiatric history and with a h/o SCCA of the right tongue (s/p partial glossectomy and neck dissection in 8/1974) referred to psycho-oncology for assistance with adjustment issues following recovery. The patient does not meet criteria for a major mood or anxiety disorder. She is not at imminent risk of harm to self or others. She would benefit from psychotherapy to help her integrate her experience of cancer and the break-up of her engagement, and to think through how to continue to create a life for herself moving forward.</td>\n",
       "      <td>a pleasant 28 yo woman with no formal psychiatric history and with a h/o scca of the right tongue s/p partial glossectomy and neck dissection in 08/1974 referred to psycho oncology for assistance with adjustment issues following recovery the patient does not meet criteria for a major mood or anxiety disorder she is not at imminent risk of harm to self or others she would benefit from psychotherapy to help her integrate her experience of cancer and the break up of her engagement and to think through how to continue to create a life for herself moving forward</td>\n",
       "      <td>0</td>\n",
       "      <td>0</td>\n",
       "      <td>0</td>\n",
       "      <td>0</td>\n",
       "      <td>0</td>\n",
       "    </tr>\n",
       "    <tr>\n",
       "      <th>3</th>\n",
       "      <td>1039963589</td>\n",
       "      <td>October 7, 01 [report_end]</td>\n",
       "      <td>oct 07 01 [report_end]</td>\n",
       "      <td>0</td>\n",
       "      <td>0</td>\n",
       "      <td>0</td>\n",
       "      <td>0</td>\n",
       "      <td>0</td>\n",
       "    </tr>\n",
       "    <tr>\n",
       "      <th>4</th>\n",
       "      <td>1048901075</td>\n",
       "      <td>July, 4, 01 Primary Care Doctor:</td>\n",
       "      <td>jul 04 01 primary care doctor</td>\n",
       "      <td>0</td>\n",
       "      <td>0</td>\n",
       "      <td>0</td>\n",
       "      <td>0</td>\n",
       "      <td>0</td>\n",
       "    </tr>\n",
       "    <tr>\n",
       "      <th>5</th>\n",
       "      <td>1054311047</td>\n",
       "      <td>)and 8mo in 2009</td>\n",
       "      <td>and 8mo in 2009</td>\n",
       "      <td>0</td>\n",
       "      <td>0</td>\n",
       "      <td>0</td>\n",
       "      <td>0</td>\n",
       "      <td>0</td>\n",
       "    </tr>\n",
       "    <tr>\n",
       "      <th>6</th>\n",
       "      <td>1054668034</td>\n",
       "      <td>)HTN, hypercholesterolemia, DM, sleep apnea,, nephrolithiasis. chronic renal impairment, DVT since July 1977 on enoxaparin.</td>\n",
       "      <td>htn hypercholesterolemia dm sleep apnea nephrolithiasis chronic renal impairment dvt since jul 1977 on enoxaparin</td>\n",
       "      <td>0</td>\n",
       "      <td>0</td>\n",
       "      <td>0</td>\n",
       "      <td>0</td>\n",
       "      <td>0</td>\n",
       "    </tr>\n",
       "    <tr>\n",
       "      <th>7</th>\n",
       "      <td>1082469285</td>\n",
       "      <td>Septeber, 10, 70 CPT Code: 90792: With medical services</td>\n",
       "      <td>sep 10 70 cpt code 90792 with medical services</td>\n",
       "      <td>0</td>\n",
       "      <td>0</td>\n",
       "      <td>0</td>\n",
       "      <td>0</td>\n",
       "      <td>0</td>\n",
       "    </tr>\n",
       "    <tr>\n",
       "      <th>8</th>\n",
       "      <td>1125769793</td>\n",
       "      <td>Since 10/2014: Fatigued, more forgetful, impaired dexterity on her left hand. MRI reveals an approximately 4.2cm x 3.3cm x 2.5cm right parietal enhancing mass with surrounding edema</td>\n",
       "      <td>since 10/2014 fatigued more forgetful impaired dexterity on her left hand mri reveals an approximately 04 2cm x 03 3cm x 02 5cm right parietal enhancing mass with surrounding edema</td>\n",
       "      <td>0</td>\n",
       "      <td>0</td>\n",
       "      <td>0</td>\n",
       "      <td>0</td>\n",
       "      <td>0</td>\n",
       "    </tr>\n",
       "    <tr>\n",
       "      <th>9</th>\n",
       "      <td>1148116416</td>\n",
       "      <td>24 yo right handed woman with history of large right frontal mass s/p resection 11/3/1985 who had recent urgent R cranial wound revision and placement of L EVD for declining vision and increased drainage from craniotomy incision site and possible infection. She has a hx of secondary mania related to psychosis and manipulation of her right frontal lobe.</td>\n",
       "      <td>24 yo right handed woman with history of large right frontal mass s/p resection 11/03/1985 who had recent urgent r cranial wound revision and placement of l evd for declining vision and increased drainage from craniotomy incision site and possible infection she has a hx of secondary mania related to psychosis and manipulation of her right frontal lobe</td>\n",
       "      <td>0</td>\n",
       "      <td>0</td>\n",
       "      <td>0</td>\n",
       "      <td>0</td>\n",
       "      <td>0</td>\n",
       "    </tr>\n",
       "  </tbody>\n",
       "</table>\n",
       "</div>"
      ],
      "text/plain": [
       "         Code  \\\n",
       "0  1012720972   \n",
       "1  1039370009   \n",
       "2  1039574613   \n",
       "3  1039963589   \n",
       "4  1048901075   \n",
       "5  1054311047   \n",
       "6  1054668034   \n",
       "7  1082469285   \n",
       "8  1125769793   \n",
       "9  1148116416   \n",
       "\n",
       "                                                                                                                                                                                                                                                                                                                                                                                                                                                                                                                                                                                         Raw  \\\n",
       "0                                                                                                                                                                                                                                                                                                                                                                                                                                                                                               .12, Noember 16- bad reaction to SpiceK2 - synthetic MJ- admitted to Crete Manor, Mcalester.   \n",
       "1                                                                                                                                                                                                                                                                                                                                                                                                                .April, 5 97: made a phone call to Mom and Mom commented that he was talking very fast, hard to interrupt, but was in super happy spirits, so didn't make a big deal of it.   \n",
       "2  A pleasant 28 yo woman with no formal psychiatric history and with a h/o SCCA of the right tongue (s/p partial glossectomy and neck dissection in 8/1974) referred to psycho-oncology for assistance with adjustment issues following recovery. The patient does not meet criteria for a major mood or anxiety disorder. She is not at imminent risk of harm to self or others. She would benefit from psychotherapy to help her integrate her experience of cancer and the break-up of her engagement, and to think through how to continue to create a life for herself moving forward.   \n",
       "3                                                                                                                                                                                                                                                                                                                                                                                                                                                                                                                                                                 October 7, 01 [report_end]   \n",
       "4                                                                                                                                                                                                                                                                                                                                                                                                                                                                                                                                                           July, 4, 01 Primary Care Doctor:   \n",
       "5                                                                                                                                                                                                                                                                                                                                                                                                                                                                                                                                                                           )and 8mo in 2009   \n",
       "6                                                                                                                                                                                                                                                                                                                                                                                                                                                                )HTN, hypercholesterolemia, DM, sleep apnea,, nephrolithiasis. chronic renal impairment, DVT since July 1977 on enoxaparin.   \n",
       "7                                                                                                                                                                                                                                                                                                                                                                                                                                                                                                                                    Septeber, 10, 70 CPT Code: 90792: With medical services   \n",
       "8                                                                                                                                                                                                                                                                                                                                                                                                      Since 10/2014: Fatigued, more forgetful, impaired dexterity on her left hand. MRI reveals an approximately 4.2cm x 3.3cm x 2.5cm right parietal enhancing mass with surrounding edema   \n",
       "9                                                                                                                                                                                                                         24 yo right handed woman with history of large right frontal mass s/p resection 11/3/1985 who had recent urgent R cranial wound revision and placement of L EVD for declining vision and increased drainage from craniotomy incision site and possible infection. She has a hx of secondary mania related to psychosis and manipulation of her right frontal lobe.   \n",
       "\n",
       "                                                                                                                                                                                                                                                                                                                                                                                                                                                                                                                                                                                   Data  \\\n",
       "0                                                                                                                                                                                                                                                                                                                                                                                                                                                                                                      12 nov 16 bad reaction to spicek2 synthetic mj admitted to crete manor mcalester   \n",
       "1                                                                                                                                                                                                                                                                                                                                                                                                                   apr 05 97 made a phone call to mom and mom commented that he was talking very fast hard to interrupt but was in super happy spirits so didn't make a big deal of it   \n",
       "2  a pleasant 28 yo woman with no formal psychiatric history and with a h/o scca of the right tongue s/p partial glossectomy and neck dissection in 08/1974 referred to psycho oncology for assistance with adjustment issues following recovery the patient does not meet criteria for a major mood or anxiety disorder she is not at imminent risk of harm to self or others she would benefit from psychotherapy to help her integrate her experience of cancer and the break up of her engagement and to think through how to continue to create a life for herself moving forward    \n",
       "3                                                                                                                                                                                                                                                                                                                                                                                                                                                                                                                                                                oct 07 01 [report_end]   \n",
       "4                                                                                                                                                                                                                                                                                                                                                                                                                                                                                                                                                         jul 04 01 primary care doctor   \n",
       "5                                                                                                                                                                                                                                                                                                                                                                                                                                                                                                                                                                       and 8mo in 2009   \n",
       "6                                                                                                                                                                                                                                                                                                                                                                                                                                                                     htn hypercholesterolemia dm sleep apnea nephrolithiasis chronic renal impairment dvt since jul 1977 on enoxaparin   \n",
       "7                                                                                                                                                                                                                                                                                                                                                                                                                                                                                                                                        sep 10 70 cpt code 90792 with medical services   \n",
       "8                                                                                                                                                                                                                                                                                                                                                                                                  since 10/2014 fatigued more forgetful impaired dexterity on her left hand mri reveals an approximately 04 2cm x 03 3cm x 02 5cm right parietal enhancing mass with surrounding edema   \n",
       "9                                                                                                                                                                                                                    24 yo right handed woman with history of large right frontal mass s/p resection 11/03/1985 who had recent urgent r cranial wound revision and placement of l evd for declining vision and increased drainage from craniotomy incision site and possible infection she has a hx of secondary mania related to psychosis and manipulation of her right frontal lobe    \n",
       "\n",
       "   Iter  Match  Day  Month  Year  \n",
       "0     0      0    0      0     0  \n",
       "1     0      0    0      0     0  \n",
       "2     0      0    0      0     0  \n",
       "3     0      0    0      0     0  \n",
       "4     0      0    0      0     0  \n",
       "5     0      0    0      0     0  \n",
       "6     0      0    0      0     0  \n",
       "7     0      0    0      0     0  \n",
       "8     0      0    0      0     0  \n",
       "9     0      0    0      0     0  "
      ]
     },
     "execution_count": 710,
     "metadata": {},
     "output_type": "execute_result"
    }
   ],
   "source": [
    "df.head(10)\n",
    "# df.to_csv(\"cleaned_only.csv\", index=False)"
   ]
  },
  {
   "cell_type": "markdown",
   "metadata": {
    "Collapsed": "false"
   },
   "source": [
    "## Helper Functions"
   ]
  },
  {
   "cell_type": "code",
   "execution_count": 711,
   "metadata": {
    "Collapsed": "false"
   },
   "outputs": [
    {
     "data": {
      "text/markdown": [
       "**Numer of rows with iter=0: 715**"
      ],
      "text/plain": [
       "<IPython.core.display.Markdown object>"
      ]
     },
     "metadata": {},
     "output_type": "display_data"
    },
    {
     "data": {
      "text/html": [
       "<div>\n",
       "<style scoped>\n",
       "    .dataframe tbody tr th:only-of-type {\n",
       "        vertical-align: middle;\n",
       "    }\n",
       "\n",
       "    .dataframe tbody tr th {\n",
       "        vertical-align: top;\n",
       "    }\n",
       "\n",
       "    .dataframe thead th {\n",
       "        text-align: right;\n",
       "    }\n",
       "</style>\n",
       "<table border=\"1\" class=\"dataframe\">\n",
       "  <thead>\n",
       "    <tr style=\"text-align: right;\">\n",
       "      <th></th>\n",
       "      <th>Code</th>\n",
       "      <th>Data</th>\n",
       "      <th>Iter</th>\n",
       "      <th>Day</th>\n",
       "      <th>Month</th>\n",
       "      <th>Year</th>\n",
       "    </tr>\n",
       "  </thead>\n",
       "  <tbody>\n",
       "    <tr>\n",
       "      <th>0</th>\n",
       "      <td>1012720972</td>\n",
       "      <td>12 nov 16 bad reaction to spicek2 synthetic mj admitted to crete manor mcalester</td>\n",
       "      <td>0</td>\n",
       "      <td>0</td>\n",
       "      <td>0</td>\n",
       "      <td>0</td>\n",
       "    </tr>\n",
       "    <tr>\n",
       "      <th>1</th>\n",
       "      <td>1039370009</td>\n",
       "      <td>apr 05 97 made a phone call to mom and mom commented that he was talking very fast hard to interrupt but was in super happy spirits so didn't make a big deal of it</td>\n",
       "      <td>0</td>\n",
       "      <td>0</td>\n",
       "      <td>0</td>\n",
       "      <td>0</td>\n",
       "    </tr>\n",
       "    <tr>\n",
       "      <th>2</th>\n",
       "      <td>1039574613</td>\n",
       "      <td>a pleasant 28 yo woman with no formal psychiatric history and with a h/o scca of the right tongue s/p partial glossectomy and neck dissection in 08/1974 referred to psycho oncology for assistance with adjustment issues following recovery the patient does not meet criteria for a major mood or anxiety disorder she is not at imminent risk of harm to self or others she would benefit from psychotherapy to help her integrate her experience of cancer and the break up of her engagement and to think through how to continue to create a life for herself moving forward</td>\n",
       "      <td>0</td>\n",
       "      <td>0</td>\n",
       "      <td>0</td>\n",
       "      <td>0</td>\n",
       "    </tr>\n",
       "    <tr>\n",
       "      <th>3</th>\n",
       "      <td>1039963589</td>\n",
       "      <td>oct 07 01 [report_end]</td>\n",
       "      <td>0</td>\n",
       "      <td>0</td>\n",
       "      <td>0</td>\n",
       "      <td>0</td>\n",
       "    </tr>\n",
       "    <tr>\n",
       "      <th>4</th>\n",
       "      <td>1048901075</td>\n",
       "      <td>jul 04 01 primary care doctor</td>\n",
       "      <td>0</td>\n",
       "      <td>0</td>\n",
       "      <td>0</td>\n",
       "      <td>0</td>\n",
       "    </tr>\n",
       "  </tbody>\n",
       "</table>\n",
       "</div>"
      ],
      "text/plain": [
       "         Code  \\\n",
       "0  1012720972   \n",
       "1  1039370009   \n",
       "2  1039574613   \n",
       "3  1039963589   \n",
       "4  1048901075   \n",
       "\n",
       "                                                                                                                                                                                                                                                                                                                                                                                                                                                                                                                                                                                   Data  \\\n",
       "0                                                                                                                                                                                                                                                                                                                                                                                                                                                                                                      12 nov 16 bad reaction to spicek2 synthetic mj admitted to crete manor mcalester   \n",
       "1                                                                                                                                                                                                                                                                                                                                                                                                                   apr 05 97 made a phone call to mom and mom commented that he was talking very fast hard to interrupt but was in super happy spirits so didn't make a big deal of it   \n",
       "2  a pleasant 28 yo woman with no formal psychiatric history and with a h/o scca of the right tongue s/p partial glossectomy and neck dissection in 08/1974 referred to psycho oncology for assistance with adjustment issues following recovery the patient does not meet criteria for a major mood or anxiety disorder she is not at imminent risk of harm to self or others she would benefit from psychotherapy to help her integrate her experience of cancer and the break up of her engagement and to think through how to continue to create a life for herself moving forward    \n",
       "3                                                                                                                                                                                                                                                                                                                                                                                                                                                                                                                                                                oct 07 01 [report_end]   \n",
       "4                                                                                                                                                                                                                                                                                                                                                                                                                                                                                                                                                         jul 04 01 primary care doctor   \n",
       "\n",
       "   Iter  Day  Month  Year  \n",
       "0     0    0      0     0  \n",
       "1     0    0      0     0  \n",
       "2     0    0      0     0  \n",
       "3     0    0      0     0  \n",
       "4     0    0      0     0  "
      ]
     },
     "metadata": {},
     "output_type": "display_data"
    }
   ],
   "source": [
    "def info(n=None, unmatched=True, head=5):\n",
    "    \"Helper function to display results of a match and some rows not matched so far.\"\n",
    "    \n",
    "    n = df.Match.max() if n is None else n\n",
    "    for nn in ([n,0] if n!=0 and unmatched else [n]):\n",
    "        display(Markdown(\"**Numer of rows with iter=%s: %s**\" % (nn,len(df[df.Iter==nn]))))\n",
    "        display(df.loc[df.Iter==nn,[\"Code\",\"Data\",\"Iter\", \"Day\",\"Month\",\"Year\"]].head(head))\n",
    "info()"
   ]
  },
  {
   "cell_type": "markdown",
   "metadata": {
    "Collapsed": "false"
   },
   "source": [
    "----\n",
    "## Sequence of Regex's \n",
    "\n",
    "Feel free to change what I am doing here. The structure is simple, but adaptable:\n",
    " * Construct the regex\n",
    "     * Pick a row and develop/test against it\n",
    " * Apply regex \n",
    "     * Set counter __iter__\n",
    "     * apply to unmatched rows in __df__ to create a second dataframe, __df2__, with columns __Day__,__Month__,__Year__\n",
    "     * Drop unmatch rows --- identified by NaN.\n",
    " * Test matched rows (I'm not giving you this, and you might not need it anyway, depending on your regex)\n",
    "     * It is possible that the regex matched something that was not a valid date -- you want to remove these rows from __df2__. \n",
    " * Update matched rows in __df__.\n",
    "     * Save appropriate entry in __Day__, __Month__, __Year__, and __iter__.\n",
    "     \n",
    "---\n",
    "---"
   ]
  },
  {
   "cell_type": "markdown",
   "metadata": {
    "Collapsed": "false"
   },
   "source": [
    "### 1 - mm/dd/yyyy"
   ]
  },
  {
   "cell_type": "code",
   "execution_count": 712,
   "metadata": {
    "Collapsed": "false"
   },
   "outputs": [
    {
     "data": {
      "text/plain": [
       "81    11/14/83 audit c score current\n",
       "Name: Data, dtype: object"
      ]
     },
     "metadata": {},
     "output_type": "display_data"
    },
    {
     "data": {
      "text/html": [
       "<div>\n",
       "<style scoped>\n",
       "    .dataframe tbody tr th:only-of-type {\n",
       "        vertical-align: middle;\n",
       "    }\n",
       "\n",
       "    .dataframe tbody tr th {\n",
       "        vertical-align: top;\n",
       "    }\n",
       "\n",
       "    .dataframe thead th {\n",
       "        text-align: right;\n",
       "    }\n",
       "</style>\n",
       "<table border=\"1\" class=\"dataframe\">\n",
       "  <thead>\n",
       "    <tr style=\"text-align: right;\">\n",
       "      <th></th>\n",
       "      <th>Month</th>\n",
       "      <th>Day</th>\n",
       "      <th>Year</th>\n",
       "    </tr>\n",
       "  </thead>\n",
       "  <tbody>\n",
       "    <tr>\n",
       "      <th>81</th>\n",
       "      <td>11</td>\n",
       "      <td>14</td>\n",
       "      <td>83</td>\n",
       "    </tr>\n",
       "  </tbody>\n",
       "</table>\n",
       "</div>"
      ],
      "text/plain": [
       "   Month Day Year\n",
       "81    11  14   83"
      ]
     },
     "execution_count": 712,
     "metadata": {},
     "output_type": "execute_result"
    }
   ],
   "source": [
    "tmp = df.loc[df.Code==2033924723,\"Data\"]\n",
    "display(tmp)\n",
    "\n",
    "# for month, first number can either start with 0 with range from 1-9 OR start with 1 with range from 1-2\n",
    "regex = r\"(?P<Month>0[1-9]|1[0-2]{1,2})/(?P<Day>[\\d]{1,2})/(?P<Year>[\\d]{2,4})\"\n",
    "tmp.str.extract(regex)"
   ]
  },
  {
   "cell_type": "code",
   "execution_count": 713,
   "metadata": {
    "Collapsed": "false"
   },
   "outputs": [
    {
     "data": {
      "text/markdown": [
       " * Number of row matched = 120"
      ],
      "text/plain": [
       "<IPython.core.display.Markdown object>"
      ]
     },
     "metadata": {},
     "output_type": "display_data"
    },
    {
     "data": {
      "text/html": [
       "<div>\n",
       "<style scoped>\n",
       "    .dataframe tbody tr th:only-of-type {\n",
       "        vertical-align: middle;\n",
       "    }\n",
       "\n",
       "    .dataframe tbody tr th {\n",
       "        vertical-align: top;\n",
       "    }\n",
       "\n",
       "    .dataframe thead th {\n",
       "        text-align: right;\n",
       "    }\n",
       "</style>\n",
       "<table border=\"1\" class=\"dataframe\">\n",
       "  <thead>\n",
       "    <tr style=\"text-align: right;\">\n",
       "      <th></th>\n",
       "      <th>Month</th>\n",
       "      <th>Day</th>\n",
       "      <th>Year</th>\n",
       "    </tr>\n",
       "  </thead>\n",
       "  <tbody>\n",
       "    <tr>\n",
       "      <th>9</th>\n",
       "      <td>11</td>\n",
       "      <td>03</td>\n",
       "      <td>1985</td>\n",
       "    </tr>\n",
       "    <tr>\n",
       "      <th>10</th>\n",
       "      <td>04</td>\n",
       "      <td>19</td>\n",
       "      <td>91</td>\n",
       "    </tr>\n",
       "    <tr>\n",
       "      <th>14</th>\n",
       "      <td>07</td>\n",
       "      <td>29</td>\n",
       "      <td>1994</td>\n",
       "    </tr>\n",
       "    <tr>\n",
       "      <th>16</th>\n",
       "      <td>06</td>\n",
       "      <td>10</td>\n",
       "      <td>72</td>\n",
       "    </tr>\n",
       "    <tr>\n",
       "      <th>18</th>\n",
       "      <td>06</td>\n",
       "      <td>18</td>\n",
       "      <td>85</td>\n",
       "    </tr>\n",
       "  </tbody>\n",
       "</table>\n",
       "</div>"
      ],
      "text/plain": [
       "   Month Day  Year\n",
       "9     11  03  1985\n",
       "10    04  19    91\n",
       "14    07  29  1994\n",
       "16    06  10    72\n",
       "18    06  18    85"
      ]
     },
     "metadata": {},
     "output_type": "display_data"
    }
   ],
   "source": [
    "iter = 1\n",
    "\n",
    "df2 = df[df.Iter==0].Data.str.extract(regex)\n",
    "df2.dropna(inplace=True)\n",
    "display(Markdown(\" * Number of row matched = %s\" % df2.shape[0]))\n",
    "display(df2.head())"
   ]
  },
  {
   "cell_type": "code",
   "execution_count": 714,
   "metadata": {
    "Collapsed": "false"
   },
   "outputs": [
    {
     "data": {
      "text/markdown": [
       "**Numer of rows with iter=1: 120**"
      ],
      "text/plain": [
       "<IPython.core.display.Markdown object>"
      ]
     },
     "metadata": {},
     "output_type": "display_data"
    },
    {
     "data": {
      "text/html": [
       "<div>\n",
       "<style scoped>\n",
       "    .dataframe tbody tr th:only-of-type {\n",
       "        vertical-align: middle;\n",
       "    }\n",
       "\n",
       "    .dataframe tbody tr th {\n",
       "        vertical-align: top;\n",
       "    }\n",
       "\n",
       "    .dataframe thead th {\n",
       "        text-align: right;\n",
       "    }\n",
       "</style>\n",
       "<table border=\"1\" class=\"dataframe\">\n",
       "  <thead>\n",
       "    <tr style=\"text-align: right;\">\n",
       "      <th></th>\n",
       "      <th>Code</th>\n",
       "      <th>Data</th>\n",
       "      <th>Iter</th>\n",
       "      <th>Day</th>\n",
       "      <th>Month</th>\n",
       "      <th>Year</th>\n",
       "    </tr>\n",
       "  </thead>\n",
       "  <tbody>\n",
       "    <tr>\n",
       "      <th>9</th>\n",
       "      <td>1148116416</td>\n",
       "      <td>24 yo right handed woman with history of large right frontal mass s/p resection 11/03/1985 who had recent urgent r cranial wound revision and placement of l evd for declining vision and increased drainage from craniotomy incision site and possible infection she has a hx of secondary mania related to psychosis and manipulation of her right frontal lobe</td>\n",
       "      <td>1</td>\n",
       "      <td>03</td>\n",
       "      <td>11</td>\n",
       "      <td>1985</td>\n",
       "    </tr>\n",
       "    <tr>\n",
       "      <th>10</th>\n",
       "      <td>1157934136</td>\n",
       "      <td>04/19/91 communication with referring physician? not done</td>\n",
       "      <td>1</td>\n",
       "      <td>19</td>\n",
       "      <td>04</td>\n",
       "      <td>91</td>\n",
       "    </tr>\n",
       "    <tr>\n",
       "      <th>14</th>\n",
       "      <td>1191233809</td>\n",
       "      <td>07/29/1994 cpt code 99203</td>\n",
       "      <td>1</td>\n",
       "      <td>29</td>\n",
       "      <td>07</td>\n",
       "      <td>1994</td>\n",
       "    </tr>\n",
       "    <tr>\n",
       "      <th>16</th>\n",
       "      <td>1218956332</td>\n",
       "      <td>06/10/72 sos 10 total score</td>\n",
       "      <td>1</td>\n",
       "      <td>10</td>\n",
       "      <td>06</td>\n",
       "      <td>72</td>\n",
       "    </tr>\n",
       "    <tr>\n",
       "      <th>18</th>\n",
       "      <td>1220889324</td>\n",
       "      <td>06/18/85 primary care doctor</td>\n",
       "      <td>1</td>\n",
       "      <td>18</td>\n",
       "      <td>06</td>\n",
       "      <td>85</td>\n",
       "    </tr>\n",
       "  </tbody>\n",
       "</table>\n",
       "</div>"
      ],
      "text/plain": [
       "          Code  \\\n",
       "9   1148116416   \n",
       "10  1157934136   \n",
       "14  1191233809   \n",
       "16  1218956332   \n",
       "18  1220889324   \n",
       "\n",
       "                                                                                                                                                                                                                                                                                                                                                                  Data  \\\n",
       "9   24 yo right handed woman with history of large right frontal mass s/p resection 11/03/1985 who had recent urgent r cranial wound revision and placement of l evd for declining vision and increased drainage from craniotomy incision site and possible infection she has a hx of secondary mania related to psychosis and manipulation of her right frontal lobe    \n",
       "10                                                                                                                                                                                                                                                                                                           04/19/91 communication with referring physician? not done   \n",
       "14                                                                                                                                                                                                                                                                                                                                           07/29/1994 cpt code 99203   \n",
       "16                                                                                                                                                                                                                                                                                                                                         06/10/72 sos 10 total score   \n",
       "18                                                                                                                                                                                                                                                                                                                                        06/18/85 primary care doctor   \n",
       "\n",
       "    Iter Day Month  Year  \n",
       "9      1  03    11  1985  \n",
       "10     1  19    04    91  \n",
       "14     1  29    07  1994  \n",
       "16     1  10    06    72  \n",
       "18     1  18    06    85  "
      ]
     },
     "metadata": {},
     "output_type": "display_data"
    },
    {
     "data": {
      "text/markdown": [
       "**Numer of rows with iter=0: 595**"
      ],
      "text/plain": [
       "<IPython.core.display.Markdown object>"
      ]
     },
     "metadata": {},
     "output_type": "display_data"
    },
    {
     "data": {
      "text/html": [
       "<div>\n",
       "<style scoped>\n",
       "    .dataframe tbody tr th:only-of-type {\n",
       "        vertical-align: middle;\n",
       "    }\n",
       "\n",
       "    .dataframe tbody tr th {\n",
       "        vertical-align: top;\n",
       "    }\n",
       "\n",
       "    .dataframe thead th {\n",
       "        text-align: right;\n",
       "    }\n",
       "</style>\n",
       "<table border=\"1\" class=\"dataframe\">\n",
       "  <thead>\n",
       "    <tr style=\"text-align: right;\">\n",
       "      <th></th>\n",
       "      <th>Code</th>\n",
       "      <th>Data</th>\n",
       "      <th>Iter</th>\n",
       "      <th>Day</th>\n",
       "      <th>Month</th>\n",
       "      <th>Year</th>\n",
       "    </tr>\n",
       "  </thead>\n",
       "  <tbody>\n",
       "    <tr>\n",
       "      <th>0</th>\n",
       "      <td>1012720972</td>\n",
       "      <td>12 nov 16 bad reaction to spicek2 synthetic mj admitted to crete manor mcalester</td>\n",
       "      <td>0</td>\n",
       "      <td>0</td>\n",
       "      <td>0</td>\n",
       "      <td>0</td>\n",
       "    </tr>\n",
       "    <tr>\n",
       "      <th>1</th>\n",
       "      <td>1039370009</td>\n",
       "      <td>apr 05 97 made a phone call to mom and mom commented that he was talking very fast hard to interrupt but was in super happy spirits so didn't make a big deal of it</td>\n",
       "      <td>0</td>\n",
       "      <td>0</td>\n",
       "      <td>0</td>\n",
       "      <td>0</td>\n",
       "    </tr>\n",
       "    <tr>\n",
       "      <th>2</th>\n",
       "      <td>1039574613</td>\n",
       "      <td>a pleasant 28 yo woman with no formal psychiatric history and with a h/o scca of the right tongue s/p partial glossectomy and neck dissection in 08/1974 referred to psycho oncology for assistance with adjustment issues following recovery the patient does not meet criteria for a major mood or anxiety disorder she is not at imminent risk of harm to self or others she would benefit from psychotherapy to help her integrate her experience of cancer and the break up of her engagement and to think through how to continue to create a life for herself moving forward</td>\n",
       "      <td>0</td>\n",
       "      <td>0</td>\n",
       "      <td>0</td>\n",
       "      <td>0</td>\n",
       "    </tr>\n",
       "    <tr>\n",
       "      <th>3</th>\n",
       "      <td>1039963589</td>\n",
       "      <td>oct 07 01 [report_end]</td>\n",
       "      <td>0</td>\n",
       "      <td>0</td>\n",
       "      <td>0</td>\n",
       "      <td>0</td>\n",
       "    </tr>\n",
       "    <tr>\n",
       "      <th>4</th>\n",
       "      <td>1048901075</td>\n",
       "      <td>jul 04 01 primary care doctor</td>\n",
       "      <td>0</td>\n",
       "      <td>0</td>\n",
       "      <td>0</td>\n",
       "      <td>0</td>\n",
       "    </tr>\n",
       "  </tbody>\n",
       "</table>\n",
       "</div>"
      ],
      "text/plain": [
       "         Code  \\\n",
       "0  1012720972   \n",
       "1  1039370009   \n",
       "2  1039574613   \n",
       "3  1039963589   \n",
       "4  1048901075   \n",
       "\n",
       "                                                                                                                                                                                                                                                                                                                                                                                                                                                                                                                                                                                   Data  \\\n",
       "0                                                                                                                                                                                                                                                                                                                                                                                                                                                                                                      12 nov 16 bad reaction to spicek2 synthetic mj admitted to crete manor mcalester   \n",
       "1                                                                                                                                                                                                                                                                                                                                                                                                                   apr 05 97 made a phone call to mom and mom commented that he was talking very fast hard to interrupt but was in super happy spirits so didn't make a big deal of it   \n",
       "2  a pleasant 28 yo woman with no formal psychiatric history and with a h/o scca of the right tongue s/p partial glossectomy and neck dissection in 08/1974 referred to psycho oncology for assistance with adjustment issues following recovery the patient does not meet criteria for a major mood or anxiety disorder she is not at imminent risk of harm to self or others she would benefit from psychotherapy to help her integrate her experience of cancer and the break up of her engagement and to think through how to continue to create a life for herself moving forward    \n",
       "3                                                                                                                                                                                                                                                                                                                                                                                                                                                                                                                                                                oct 07 01 [report_end]   \n",
       "4                                                                                                                                                                                                                                                                                                                                                                                                                                                                                                                                                         jul 04 01 primary care doctor   \n",
       "\n",
       "   Iter Day Month Year  \n",
       "0     0   0     0    0  \n",
       "1     0   0     0    0  \n",
       "2     0   0     0    0  \n",
       "3     0   0     0    0  \n",
       "4     0   0     0    0  "
      ]
     },
     "metadata": {},
     "output_type": "display_data"
    }
   ],
   "source": [
    "# save result\n",
    "df.loc[(df.Iter==0) & (df2.Day.notnull()), \"Day\"] = df2[\"Day\"]\n",
    "df.loc[(df.Iter==0) & (df2.Month.notnull()), \"Month\"] = df2[\"Month\"]\n",
    "df.loc[(df.Iter==0) & (df2.Year.notnull()), \"Year\"] = df2[\"Year\"]\n",
    "df.loc[(df.Iter==0) & (df2.Year.notnull()),\"Iter\"] = iter\n",
    "\n",
    "info(iter)"
   ]
  },
  {
   "cell_type": "markdown",
   "metadata": {
    "Collapsed": "false"
   },
   "source": [
    "### 2 - mm/yyyy"
   ]
  },
  {
   "cell_type": "code",
   "execution_count": 715,
   "metadata": {},
   "outputs": [
    {
     "data": {
      "text/plain": [
       "68    10/1973 hx of brain injury yes\n",
       "Name: Data, dtype: object"
      ]
     },
     "metadata": {},
     "output_type": "display_data"
    },
    {
     "data": {
      "text/html": [
       "<div>\n",
       "<style scoped>\n",
       "    .dataframe tbody tr th:only-of-type {\n",
       "        vertical-align: middle;\n",
       "    }\n",
       "\n",
       "    .dataframe tbody tr th {\n",
       "        vertical-align: top;\n",
       "    }\n",
       "\n",
       "    .dataframe thead th {\n",
       "        text-align: right;\n",
       "    }\n",
       "</style>\n",
       "<table border=\"1\" class=\"dataframe\">\n",
       "  <thead>\n",
       "    <tr style=\"text-align: right;\">\n",
       "      <th></th>\n",
       "      <th>Month</th>\n",
       "      <th>Year</th>\n",
       "    </tr>\n",
       "  </thead>\n",
       "  <tbody>\n",
       "    <tr>\n",
       "      <th>68</th>\n",
       "      <td>10</td>\n",
       "      <td>1973</td>\n",
       "    </tr>\n",
       "  </tbody>\n",
       "</table>\n",
       "</div>"
      ],
      "text/plain": [
       "   Month  Year\n",
       "68    10  1973"
      ]
     },
     "execution_count": 715,
     "metadata": {},
     "output_type": "execute_result"
    }
   ],
   "source": [
    "tmp = df.loc[df.Code==1844017771,\"Data\"]\n",
    "display(tmp)\n",
    "\n",
    "# for month, first number can either start with 0 with range from 1-9 OR start with 1 with range from 1-2\n",
    "regex = r\"(?P<Month>0[1-9]|1[0-2]{1,2})/(?P<Year>[\\d]{2,4})\"\n",
    "tmp.str.extract(regex)"
   ]
  },
  {
   "cell_type": "code",
   "execution_count": 716,
   "metadata": {},
   "outputs": [
    {
     "data": {
      "text/markdown": [
       " * Number of row matched = 105"
      ],
      "text/plain": [
       "<IPython.core.display.Markdown object>"
      ]
     },
     "metadata": {},
     "output_type": "display_data"
    },
    {
     "data": {
      "text/html": [
       "<div>\n",
       "<style scoped>\n",
       "    .dataframe tbody tr th:only-of-type {\n",
       "        vertical-align: middle;\n",
       "    }\n",
       "\n",
       "    .dataframe tbody tr th {\n",
       "        vertical-align: top;\n",
       "    }\n",
       "\n",
       "    .dataframe thead th {\n",
       "        text-align: right;\n",
       "    }\n",
       "</style>\n",
       "<table border=\"1\" class=\"dataframe\">\n",
       "  <thead>\n",
       "    <tr style=\"text-align: right;\">\n",
       "      <th></th>\n",
       "      <th>Month</th>\n",
       "      <th>Year</th>\n",
       "    </tr>\n",
       "  </thead>\n",
       "  <tbody>\n",
       "    <tr>\n",
       "      <th>2</th>\n",
       "      <td>08</td>\n",
       "      <td>1974</td>\n",
       "    </tr>\n",
       "    <tr>\n",
       "      <th>8</th>\n",
       "      <td>10</td>\n",
       "      <td>2014</td>\n",
       "    </tr>\n",
       "    <tr>\n",
       "      <th>11</th>\n",
       "      <td>03</td>\n",
       "      <td>2003</td>\n",
       "    </tr>\n",
       "    <tr>\n",
       "      <th>13</th>\n",
       "      <td>03</td>\n",
       "      <td>1990</td>\n",
       "    </tr>\n",
       "    <tr>\n",
       "      <th>44</th>\n",
       "      <td>05</td>\n",
       "      <td>2006</td>\n",
       "    </tr>\n",
       "  </tbody>\n",
       "</table>\n",
       "</div>"
      ],
      "text/plain": [
       "   Month  Year\n",
       "2     08  1974\n",
       "8     10  2014\n",
       "11    03  2003\n",
       "13    03  1990\n",
       "44    05  2006"
      ]
     },
     "metadata": {},
     "output_type": "display_data"
    }
   ],
   "source": [
    "iter = 2\n",
    "\n",
    "df2 = df[df.Iter==0].Data.str.extract(regex)\n",
    "df2.dropna(inplace=True)\n",
    "display(Markdown(\" * Number of row matched = %s\" % df2.shape[0]))\n",
    "display(df2.head())"
   ]
  },
  {
   "cell_type": "code",
   "execution_count": 717,
   "metadata": {},
   "outputs": [
    {
     "data": {
      "text/markdown": [
       "**Numer of rows with iter=2: 105**"
      ],
      "text/plain": [
       "<IPython.core.display.Markdown object>"
      ]
     },
     "metadata": {},
     "output_type": "display_data"
    },
    {
     "data": {
      "text/html": [
       "<div>\n",
       "<style scoped>\n",
       "    .dataframe tbody tr th:only-of-type {\n",
       "        vertical-align: middle;\n",
       "    }\n",
       "\n",
       "    .dataframe tbody tr th {\n",
       "        vertical-align: top;\n",
       "    }\n",
       "\n",
       "    .dataframe thead th {\n",
       "        text-align: right;\n",
       "    }\n",
       "</style>\n",
       "<table border=\"1\" class=\"dataframe\">\n",
       "  <thead>\n",
       "    <tr style=\"text-align: right;\">\n",
       "      <th></th>\n",
       "      <th>Code</th>\n",
       "      <th>Data</th>\n",
       "      <th>Iter</th>\n",
       "      <th>Day</th>\n",
       "      <th>Month</th>\n",
       "      <th>Year</th>\n",
       "    </tr>\n",
       "  </thead>\n",
       "  <tbody>\n",
       "    <tr>\n",
       "      <th>2</th>\n",
       "      <td>1039574613</td>\n",
       "      <td>a pleasant 28 yo woman with no formal psychiatric history and with a h/o scca of the right tongue s/p partial glossectomy and neck dissection in 08/1974 referred to psycho oncology for assistance with adjustment issues following recovery the patient does not meet criteria for a major mood or anxiety disorder she is not at imminent risk of harm to self or others she would benefit from psychotherapy to help her integrate her experience of cancer and the break up of her engagement and to think through how to continue to create a life for herself moving forward</td>\n",
       "      <td>2</td>\n",
       "      <td>0</td>\n",
       "      <td>08</td>\n",
       "      <td>1974</td>\n",
       "    </tr>\n",
       "    <tr>\n",
       "      <th>8</th>\n",
       "      <td>1125769793</td>\n",
       "      <td>since 10/2014 fatigued more forgetful impaired dexterity on her left hand mri reveals an approximately 04 2cm x 03 3cm x 02 5cm right parietal enhancing mass with surrounding edema</td>\n",
       "      <td>2</td>\n",
       "      <td>0</td>\n",
       "      <td>10</td>\n",
       "      <td>2014</td>\n",
       "    </tr>\n",
       "    <tr>\n",
       "      <th>11</th>\n",
       "      <td>1162722894</td>\n",
       "      <td>s6 past psychiatric hospitalizations starting at age 16 last 03/2003 for sib/si wwl x 2 getwell hospital lincoln hospital cox north lotus clinichx of outpatient treatment yes</td>\n",
       "      <td>2</td>\n",
       "      <td>0</td>\n",
       "      <td>03</td>\n",
       "      <td>2003</td>\n",
       "    </tr>\n",
       "    <tr>\n",
       "      <th>13</th>\n",
       "      <td>1174525826</td>\n",
       "      <td>knotice that in 03/1990 sustained a bizarre injury he was in colorado city at the time he was driving his car and he says he had recently ran out of saphris which is an antipsychotic he was taking he says he does not recall all the events but believes he stepped out of his vehicle and then walked off of a bridge sustaining a seven story fall he was found unconscious he was taken to and treated at norfolk health center in colorado city where he underwent open reduction internal fixation of the right humerus as well as the left femur was in icu for a week multiple fx he subsequently recovered from his injuries in the state of south carolina</td>\n",
       "      <td>2</td>\n",
       "      <td>0</td>\n",
       "      <td>03</td>\n",
       "      <td>1990</td>\n",
       "    </tr>\n",
       "    <tr>\n",
       "      <th>44</th>\n",
       "      <td>1583575271</td>\n",
       "      <td>a endometriosis dx on laparoscopy 05/2006</td>\n",
       "      <td>2</td>\n",
       "      <td>0</td>\n",
       "      <td>05</td>\n",
       "      <td>2006</td>\n",
       "    </tr>\n",
       "  </tbody>\n",
       "</table>\n",
       "</div>"
      ],
      "text/plain": [
       "          Code  \\\n",
       "2   1039574613   \n",
       "8   1125769793   \n",
       "11  1162722894   \n",
       "13  1174525826   \n",
       "44  1583575271   \n",
       "\n",
       "                                                                                                                                                                                                                                                                                                                                                                                                                                                                                                                                                                                                                                                                      Data  \\\n",
       "2                                                                                     a pleasant 28 yo woman with no formal psychiatric history and with a h/o scca of the right tongue s/p partial glossectomy and neck dissection in 08/1974 referred to psycho oncology for assistance with adjustment issues following recovery the patient does not meet criteria for a major mood or anxiety disorder she is not at imminent risk of harm to self or others she would benefit from psychotherapy to help her integrate her experience of cancer and the break up of her engagement and to think through how to continue to create a life for herself moving forward    \n",
       "8                                                                                                                                                                                                                                                                                                                                                                                                                                                                                     since 10/2014 fatigued more forgetful impaired dexterity on her left hand mri reveals an approximately 04 2cm x 03 3cm x 02 5cm right parietal enhancing mass with surrounding edema   \n",
       "11                                                                                                                                                                                                                                                                                                                                                                                                                                                                                          s6 past psychiatric hospitalizations starting at age 16 last 03/2003 for sib/si wwl x 2 getwell hospital lincoln hospital cox north lotus clinichx of outpatient treatment yes   \n",
       "13  knotice that in 03/1990 sustained a bizarre injury he was in colorado city at the time he was driving his car and he says he had recently ran out of saphris which is an antipsychotic he was taking he says he does not recall all the events but believes he stepped out of his vehicle and then walked off of a bridge sustaining a seven story fall he was found unconscious he was taken to and treated at norfolk health center in colorado city where he underwent open reduction internal fixation of the right humerus as well as the left femur was in icu for a week multiple fx he subsequently recovered from his injuries in the state of south carolina   \n",
       "44                                                                                                                                                                                                                                                                                                                                                                                                                                                                                                                                                                                                                               a endometriosis dx on laparoscopy 05/2006   \n",
       "\n",
       "    Iter Day Month  Year  \n",
       "2      2   0    08  1974  \n",
       "8      2   0    10  2014  \n",
       "11     2   0    03  2003  \n",
       "13     2   0    03  1990  \n",
       "44     2   0    05  2006  "
      ]
     },
     "metadata": {},
     "output_type": "display_data"
    },
    {
     "data": {
      "text/markdown": [
       "**Numer of rows with iter=0: 490**"
      ],
      "text/plain": [
       "<IPython.core.display.Markdown object>"
      ]
     },
     "metadata": {},
     "output_type": "display_data"
    },
    {
     "data": {
      "text/html": [
       "<div>\n",
       "<style scoped>\n",
       "    .dataframe tbody tr th:only-of-type {\n",
       "        vertical-align: middle;\n",
       "    }\n",
       "\n",
       "    .dataframe tbody tr th {\n",
       "        vertical-align: top;\n",
       "    }\n",
       "\n",
       "    .dataframe thead th {\n",
       "        text-align: right;\n",
       "    }\n",
       "</style>\n",
       "<table border=\"1\" class=\"dataframe\">\n",
       "  <thead>\n",
       "    <tr style=\"text-align: right;\">\n",
       "      <th></th>\n",
       "      <th>Code</th>\n",
       "      <th>Data</th>\n",
       "      <th>Iter</th>\n",
       "      <th>Day</th>\n",
       "      <th>Month</th>\n",
       "      <th>Year</th>\n",
       "    </tr>\n",
       "  </thead>\n",
       "  <tbody>\n",
       "    <tr>\n",
       "      <th>0</th>\n",
       "      <td>1012720972</td>\n",
       "      <td>12 nov 16 bad reaction to spicek2 synthetic mj admitted to crete manor mcalester</td>\n",
       "      <td>0</td>\n",
       "      <td>0</td>\n",
       "      <td>0</td>\n",
       "      <td>0</td>\n",
       "    </tr>\n",
       "    <tr>\n",
       "      <th>1</th>\n",
       "      <td>1039370009</td>\n",
       "      <td>apr 05 97 made a phone call to mom and mom commented that he was talking very fast hard to interrupt but was in super happy spirits so didn't make a big deal of it</td>\n",
       "      <td>0</td>\n",
       "      <td>0</td>\n",
       "      <td>0</td>\n",
       "      <td>0</td>\n",
       "    </tr>\n",
       "    <tr>\n",
       "      <th>3</th>\n",
       "      <td>1039963589</td>\n",
       "      <td>oct 07 01 [report_end]</td>\n",
       "      <td>0</td>\n",
       "      <td>0</td>\n",
       "      <td>0</td>\n",
       "      <td>0</td>\n",
       "    </tr>\n",
       "    <tr>\n",
       "      <th>4</th>\n",
       "      <td>1048901075</td>\n",
       "      <td>jul 04 01 primary care doctor</td>\n",
       "      <td>0</td>\n",
       "      <td>0</td>\n",
       "      <td>0</td>\n",
       "      <td>0</td>\n",
       "    </tr>\n",
       "    <tr>\n",
       "      <th>5</th>\n",
       "      <td>1054311047</td>\n",
       "      <td>and 8mo in 2009</td>\n",
       "      <td>0</td>\n",
       "      <td>0</td>\n",
       "      <td>0</td>\n",
       "      <td>0</td>\n",
       "    </tr>\n",
       "  </tbody>\n",
       "</table>\n",
       "</div>"
      ],
      "text/plain": [
       "         Code  \\\n",
       "0  1012720972   \n",
       "1  1039370009   \n",
       "3  1039963589   \n",
       "4  1048901075   \n",
       "5  1054311047   \n",
       "\n",
       "                                                                                                                                                                  Data  \\\n",
       "0                                                                                     12 nov 16 bad reaction to spicek2 synthetic mj admitted to crete manor mcalester   \n",
       "1  apr 05 97 made a phone call to mom and mom commented that he was talking very fast hard to interrupt but was in super happy spirits so didn't make a big deal of it   \n",
       "3                                                                                                                                               oct 07 01 [report_end]   \n",
       "4                                                                                                                                        jul 04 01 primary care doctor   \n",
       "5                                                                                                                                                      and 8mo in 2009   \n",
       "\n",
       "   Iter Day Month Year  \n",
       "0     0   0     0    0  \n",
       "1     0   0     0    0  \n",
       "3     0   0     0    0  \n",
       "4     0   0     0    0  \n",
       "5     0   0     0    0  "
      ]
     },
     "metadata": {},
     "output_type": "display_data"
    }
   ],
   "source": [
    "# save result\n",
    "df.loc[(df.Iter==0) & (df2.Month.notnull()), \"Month\"] = df2[\"Month\"]\n",
    "df.loc[(df.Iter==0) & (df2.Year.notnull()), \"Year\"] = df2[\"Year\"]\n",
    "df.loc[(df.Iter==0) & (df2.Year.notnull()),\"Iter\"] = iter\n",
    "\n",
    "info(iter)"
   ]
  },
  {
   "cell_type": "markdown",
   "metadata": {},
   "source": [
    "### 3 - 'month' dd/yyyy"
   ]
  },
  {
   "cell_type": "code",
   "execution_count": 718,
   "metadata": {},
   "outputs": [
    {
     "data": {
      "text/plain": [
       "510    jun 12 09 sos 10 total score\n",
       "Name: Data, dtype: object"
      ]
     },
     "metadata": {},
     "output_type": "display_data"
    },
    {
     "data": {
      "text/html": [
       "<div>\n",
       "<style scoped>\n",
       "    .dataframe tbody tr th:only-of-type {\n",
       "        vertical-align: middle;\n",
       "    }\n",
       "\n",
       "    .dataframe tbody tr th {\n",
       "        vertical-align: top;\n",
       "    }\n",
       "\n",
       "    .dataframe thead th {\n",
       "        text-align: right;\n",
       "    }\n",
       "</style>\n",
       "<table border=\"1\" class=\"dataframe\">\n",
       "  <thead>\n",
       "    <tr style=\"text-align: right;\">\n",
       "      <th></th>\n",
       "      <th>Month</th>\n",
       "      <th>Day</th>\n",
       "      <th>Year</th>\n",
       "    </tr>\n",
       "  </thead>\n",
       "  <tbody>\n",
       "    <tr>\n",
       "      <th>510</th>\n",
       "      <td>jun</td>\n",
       "      <td>12</td>\n",
       "      <td>09</td>\n",
       "    </tr>\n",
       "  </tbody>\n",
       "</table>\n",
       "</div>"
      ],
      "text/plain": [
       "    Month  Day Year\n",
       "510   jun   12   09"
      ]
     },
     "execution_count": 718,
     "metadata": {},
     "output_type": "execute_result"
    }
   ],
   "source": [
    "tmp = df.loc[df.Code==7310415235,\"Data\"]\n",
    "display(tmp)\n",
    "\n",
    "regex = r\"(?P<Month>jan|feb|mar|apr|may|jun|jul|aug|sep|oct|nov|dec)(?P<Day>\\s+\\d{1,2})(?P<Year>\\s+\\d{2,4})\"\n",
    "tmp.str.extract(regex)"
   ]
  },
  {
   "cell_type": "code",
   "execution_count": 719,
   "metadata": {},
   "outputs": [
    {
     "data": {
      "text/markdown": [
       " * Number of row matched = 159"
      ],
      "text/plain": [
       "<IPython.core.display.Markdown object>"
      ]
     },
     "metadata": {},
     "output_type": "display_data"
    },
    {
     "data": {
      "text/html": [
       "<div>\n",
       "<style scoped>\n",
       "    .dataframe tbody tr th:only-of-type {\n",
       "        vertical-align: middle;\n",
       "    }\n",
       "\n",
       "    .dataframe tbody tr th {\n",
       "        vertical-align: top;\n",
       "    }\n",
       "\n",
       "    .dataframe thead th {\n",
       "        text-align: right;\n",
       "    }\n",
       "</style>\n",
       "<table border=\"1\" class=\"dataframe\">\n",
       "  <thead>\n",
       "    <tr style=\"text-align: right;\">\n",
       "      <th></th>\n",
       "      <th>Month</th>\n",
       "      <th>Day</th>\n",
       "      <th>Year</th>\n",
       "    </tr>\n",
       "  </thead>\n",
       "  <tbody>\n",
       "    <tr>\n",
       "      <th>1</th>\n",
       "      <td>apr</td>\n",
       "      <td>05</td>\n",
       "      <td>97</td>\n",
       "    </tr>\n",
       "    <tr>\n",
       "      <th>3</th>\n",
       "      <td>oct</td>\n",
       "      <td>07</td>\n",
       "      <td>01</td>\n",
       "    </tr>\n",
       "    <tr>\n",
       "      <th>4</th>\n",
       "      <td>jul</td>\n",
       "      <td>04</td>\n",
       "      <td>01</td>\n",
       "    </tr>\n",
       "    <tr>\n",
       "      <th>7</th>\n",
       "      <td>sep</td>\n",
       "      <td>10</td>\n",
       "      <td>70</td>\n",
       "    </tr>\n",
       "    <tr>\n",
       "      <th>26</th>\n",
       "      <td>jun</td>\n",
       "      <td>28</td>\n",
       "      <td>72</td>\n",
       "    </tr>\n",
       "  </tbody>\n",
       "</table>\n",
       "</div>"
      ],
      "text/plain": [
       "   Month  Day Year\n",
       "1    apr   05   97\n",
       "3    oct   07   01\n",
       "4    jul   04   01\n",
       "7    sep   10   70\n",
       "26   jun   28   72"
      ]
     },
     "metadata": {},
     "output_type": "display_data"
    }
   ],
   "source": [
    "iter = 3\n",
    "\n",
    "df2 = df[df.Iter==0].Data.str.extract(regex)\n",
    "df2.dropna(inplace=True)\n",
    "display(Markdown(\" * Number of row matched = %s\" % df2.shape[0]))\n",
    "display(df2.head())"
   ]
  },
  {
   "cell_type": "code",
   "execution_count": 720,
   "metadata": {},
   "outputs": [
    {
     "data": {
      "text/markdown": [
       "**Numer of rows with iter=3: 159**"
      ],
      "text/plain": [
       "<IPython.core.display.Markdown object>"
      ]
     },
     "metadata": {},
     "output_type": "display_data"
    },
    {
     "data": {
      "text/html": [
       "<div>\n",
       "<style scoped>\n",
       "    .dataframe tbody tr th:only-of-type {\n",
       "        vertical-align: middle;\n",
       "    }\n",
       "\n",
       "    .dataframe tbody tr th {\n",
       "        vertical-align: top;\n",
       "    }\n",
       "\n",
       "    .dataframe thead th {\n",
       "        text-align: right;\n",
       "    }\n",
       "</style>\n",
       "<table border=\"1\" class=\"dataframe\">\n",
       "  <thead>\n",
       "    <tr style=\"text-align: right;\">\n",
       "      <th></th>\n",
       "      <th>Code</th>\n",
       "      <th>Data</th>\n",
       "      <th>Iter</th>\n",
       "      <th>Day</th>\n",
       "      <th>Month</th>\n",
       "      <th>Year</th>\n",
       "    </tr>\n",
       "  </thead>\n",
       "  <tbody>\n",
       "    <tr>\n",
       "      <th>1</th>\n",
       "      <td>1039370009</td>\n",
       "      <td>apr 05 97 made a phone call to mom and mom commented that he was talking very fast hard to interrupt but was in super happy spirits so didn't make a big deal of it</td>\n",
       "      <td>3</td>\n",
       "      <td>05</td>\n",
       "      <td>apr</td>\n",
       "      <td>97</td>\n",
       "    </tr>\n",
       "    <tr>\n",
       "      <th>3</th>\n",
       "      <td>1039963589</td>\n",
       "      <td>oct 07 01 [report_end]</td>\n",
       "      <td>3</td>\n",
       "      <td>07</td>\n",
       "      <td>oct</td>\n",
       "      <td>01</td>\n",
       "    </tr>\n",
       "    <tr>\n",
       "      <th>4</th>\n",
       "      <td>1048901075</td>\n",
       "      <td>jul 04 01 primary care doctor</td>\n",
       "      <td>3</td>\n",
       "      <td>04</td>\n",
       "      <td>jul</td>\n",
       "      <td>01</td>\n",
       "    </tr>\n",
       "    <tr>\n",
       "      <th>7</th>\n",
       "      <td>1082469285</td>\n",
       "      <td>sep 10 70 cpt code 90792 with medical services</td>\n",
       "      <td>3</td>\n",
       "      <td>10</td>\n",
       "      <td>sep</td>\n",
       "      <td>70</td>\n",
       "    </tr>\n",
       "    <tr>\n",
       "      <th>26</th>\n",
       "      <td>1339311197</td>\n",
       "      <td>jun 28 72 total time of visit in minutes</td>\n",
       "      <td>3</td>\n",
       "      <td>28</td>\n",
       "      <td>jun</td>\n",
       "      <td>72</td>\n",
       "    </tr>\n",
       "  </tbody>\n",
       "</table>\n",
       "</div>"
      ],
      "text/plain": [
       "          Code  \\\n",
       "1   1039370009   \n",
       "3   1039963589   \n",
       "4   1048901075   \n",
       "7   1082469285   \n",
       "26  1339311197   \n",
       "\n",
       "                                                                                                                                                                   Data  \\\n",
       "1   apr 05 97 made a phone call to mom and mom commented that he was talking very fast hard to interrupt but was in super happy spirits so didn't make a big deal of it   \n",
       "3                                                                                                                                                oct 07 01 [report_end]   \n",
       "4                                                                                                                                         jul 04 01 primary care doctor   \n",
       "7                                                                                                                        sep 10 70 cpt code 90792 with medical services   \n",
       "26                                                                                                                             jun 28 72 total time of visit in minutes   \n",
       "\n",
       "    Iter  Day Month Year  \n",
       "1      3   05   apr   97  \n",
       "3      3   07   oct   01  \n",
       "4      3   04   jul   01  \n",
       "7      3   10   sep   70  \n",
       "26     3   28   jun   72  "
      ]
     },
     "metadata": {},
     "output_type": "display_data"
    },
    {
     "data": {
      "text/markdown": [
       "**Numer of rows with iter=0: 331**"
      ],
      "text/plain": [
       "<IPython.core.display.Markdown object>"
      ]
     },
     "metadata": {},
     "output_type": "display_data"
    },
    {
     "data": {
      "text/html": [
       "<div>\n",
       "<style scoped>\n",
       "    .dataframe tbody tr th:only-of-type {\n",
       "        vertical-align: middle;\n",
       "    }\n",
       "\n",
       "    .dataframe tbody tr th {\n",
       "        vertical-align: top;\n",
       "    }\n",
       "\n",
       "    .dataframe thead th {\n",
       "        text-align: right;\n",
       "    }\n",
       "</style>\n",
       "<table border=\"1\" class=\"dataframe\">\n",
       "  <thead>\n",
       "    <tr style=\"text-align: right;\">\n",
       "      <th></th>\n",
       "      <th>Code</th>\n",
       "      <th>Data</th>\n",
       "      <th>Iter</th>\n",
       "      <th>Day</th>\n",
       "      <th>Month</th>\n",
       "      <th>Year</th>\n",
       "    </tr>\n",
       "  </thead>\n",
       "  <tbody>\n",
       "    <tr>\n",
       "      <th>0</th>\n",
       "      <td>1012720972</td>\n",
       "      <td>12 nov 16 bad reaction to spicek2 synthetic mj admitted to crete manor mcalester</td>\n",
       "      <td>0</td>\n",
       "      <td>0</td>\n",
       "      <td>0</td>\n",
       "      <td>0</td>\n",
       "    </tr>\n",
       "    <tr>\n",
       "      <th>5</th>\n",
       "      <td>1054311047</td>\n",
       "      <td>and 8mo in 2009</td>\n",
       "      <td>0</td>\n",
       "      <td>0</td>\n",
       "      <td>0</td>\n",
       "      <td>0</td>\n",
       "    </tr>\n",
       "    <tr>\n",
       "      <th>6</th>\n",
       "      <td>1054668034</td>\n",
       "      <td>htn hypercholesterolemia dm sleep apnea nephrolithiasis chronic renal impairment dvt since jul 1977 on enoxaparin</td>\n",
       "      <td>0</td>\n",
       "      <td>0</td>\n",
       "      <td>0</td>\n",
       "      <td>0</td>\n",
       "    </tr>\n",
       "    <tr>\n",
       "      <th>12</th>\n",
       "      <td>1164148605</td>\n",
       "      <td>stwin boys born 15 sep 91 gambling behavior no</td>\n",
       "      <td>0</td>\n",
       "      <td>0</td>\n",
       "      <td>0</td>\n",
       "      <td>0</td>\n",
       "    </tr>\n",
       "    <tr>\n",
       "      <th>15</th>\n",
       "      <td>1215203598</td>\n",
       "      <td>14 jan 1981 sos 10 total score</td>\n",
       "      <td>0</td>\n",
       "      <td>0</td>\n",
       "      <td>0</td>\n",
       "      <td>0</td>\n",
       "    </tr>\n",
       "  </tbody>\n",
       "</table>\n",
       "</div>"
      ],
      "text/plain": [
       "          Code  \\\n",
       "0   1012720972   \n",
       "5   1054311047   \n",
       "6   1054668034   \n",
       "12  1164148605   \n",
       "15  1215203598   \n",
       "\n",
       "                                                                                                                 Data  \\\n",
       "0                                    12 nov 16 bad reaction to spicek2 synthetic mj admitted to crete manor mcalester   \n",
       "5                                                                                                     and 8mo in 2009   \n",
       "6   htn hypercholesterolemia dm sleep apnea nephrolithiasis chronic renal impairment dvt since jul 1977 on enoxaparin   \n",
       "12                                                                     stwin boys born 15 sep 91 gambling behavior no   \n",
       "15                                                                                     14 jan 1981 sos 10 total score   \n",
       "\n",
       "    Iter Day Month Year  \n",
       "0      0   0     0    0  \n",
       "5      0   0     0    0  \n",
       "6      0   0     0    0  \n",
       "12     0   0     0    0  \n",
       "15     0   0     0    0  "
      ]
     },
     "metadata": {},
     "output_type": "display_data"
    }
   ],
   "source": [
    "df.loc[(df.Iter==0) & (df2.Day.notnull()), \"Day\"] = df2[\"Day\"]\n",
    "df.loc[(df.Iter==0) & (df2.Month.notnull()), \"Month\"] = df2[\"Month\"]\n",
    "df.loc[(df.Iter==0) & (df2.Year.notnull()), \"Year\"] = df2[\"Year\"]\n",
    "df.loc[(df.Iter==0) & (df2.Year.notnull()),\"Iter\"] = iter\n",
    "\n",
    "info(iter)"
   ]
  },
  {
   "cell_type": "markdown",
   "metadata": {},
   "source": [
    "### 4 - dd 'month' yyyy"
   ]
  },
  {
   "cell_type": "code",
   "execution_count": 721,
   "metadata": {},
   "outputs": [
    {
     "data": {
      "text/plain": [
       "15    14 jan 1981 sos 10 total score\n",
       "Name: Data, dtype: object"
      ]
     },
     "metadata": {},
     "output_type": "display_data"
    },
    {
     "data": {
      "text/html": [
       "<div>\n",
       "<style scoped>\n",
       "    .dataframe tbody tr th:only-of-type {\n",
       "        vertical-align: middle;\n",
       "    }\n",
       "\n",
       "    .dataframe tbody tr th {\n",
       "        vertical-align: top;\n",
       "    }\n",
       "\n",
       "    .dataframe thead th {\n",
       "        text-align: right;\n",
       "    }\n",
       "</style>\n",
       "<table border=\"1\" class=\"dataframe\">\n",
       "  <thead>\n",
       "    <tr style=\"text-align: right;\">\n",
       "      <th></th>\n",
       "      <th>Day</th>\n",
       "      <th>Month</th>\n",
       "      <th>Year</th>\n",
       "    </tr>\n",
       "  </thead>\n",
       "  <tbody>\n",
       "    <tr>\n",
       "      <th>15</th>\n",
       "      <td>14</td>\n",
       "      <td>jan</td>\n",
       "      <td>1981</td>\n",
       "    </tr>\n",
       "  </tbody>\n",
       "</table>\n",
       "</div>"
      ],
      "text/plain": [
       "   Day Month  Year\n",
       "15  14   jan  1981"
      ]
     },
     "execution_count": 721,
     "metadata": {},
     "output_type": "execute_result"
    }
   ],
   "source": [
    "tmp = df.loc[df.Code==1215203598,\"Data\"]\n",
    "display(tmp)\n",
    "\n",
    "regex = r\"(?P<Day>\\d{1,2})\\s+(?P<Month>jan|feb|mar|apr|may|jun|jul|aug|sep|oct|nov|dec)\\s+(?P<Year>[\\d]{2,4})\"\n",
    "tmp.str.extract(regex)"
   ]
  },
  {
   "cell_type": "code",
   "execution_count": 722,
   "metadata": {},
   "outputs": [
    {
     "data": {
      "text/markdown": [
       " * Number of row matched = 188"
      ],
      "text/plain": [
       "<IPython.core.display.Markdown object>"
      ]
     },
     "metadata": {},
     "output_type": "display_data"
    },
    {
     "data": {
      "text/html": [
       "<div>\n",
       "<style scoped>\n",
       "    .dataframe tbody tr th:only-of-type {\n",
       "        vertical-align: middle;\n",
       "    }\n",
       "\n",
       "    .dataframe tbody tr th {\n",
       "        vertical-align: top;\n",
       "    }\n",
       "\n",
       "    .dataframe thead th {\n",
       "        text-align: right;\n",
       "    }\n",
       "</style>\n",
       "<table border=\"1\" class=\"dataframe\">\n",
       "  <thead>\n",
       "    <tr style=\"text-align: right;\">\n",
       "      <th></th>\n",
       "      <th>Day</th>\n",
       "      <th>Month</th>\n",
       "      <th>Year</th>\n",
       "    </tr>\n",
       "  </thead>\n",
       "  <tbody>\n",
       "    <tr>\n",
       "      <th>0</th>\n",
       "      <td>12</td>\n",
       "      <td>nov</td>\n",
       "      <td>16</td>\n",
       "    </tr>\n",
       "    <tr>\n",
       "      <th>12</th>\n",
       "      <td>15</td>\n",
       "      <td>sep</td>\n",
       "      <td>91</td>\n",
       "    </tr>\n",
       "    <tr>\n",
       "      <th>15</th>\n",
       "      <td>14</td>\n",
       "      <td>jan</td>\n",
       "      <td>1981</td>\n",
       "    </tr>\n",
       "    <tr>\n",
       "      <th>17</th>\n",
       "      <td>01</td>\n",
       "      <td>sep</td>\n",
       "      <td>91</td>\n",
       "    </tr>\n",
       "    <tr>\n",
       "      <th>21</th>\n",
       "      <td>28</td>\n",
       "      <td>sep</td>\n",
       "      <td>93</td>\n",
       "    </tr>\n",
       "  </tbody>\n",
       "</table>\n",
       "</div>"
      ],
      "text/plain": [
       "   Day Month  Year\n",
       "0   12   nov    16\n",
       "12  15   sep    91\n",
       "15  14   jan  1981\n",
       "17  01   sep    91\n",
       "21  28   sep    93"
      ]
     },
     "metadata": {},
     "output_type": "display_data"
    }
   ],
   "source": [
    "iter = 4\n",
    "\n",
    "df2 = df[df.Iter==0].Data.str.extract(regex)\n",
    "df2.dropna(inplace=True)\n",
    "display(Markdown(\" * Number of row matched = %s\" % df2.shape[0]))\n",
    "display(df2.head())"
   ]
  },
  {
   "cell_type": "code",
   "execution_count": 723,
   "metadata": {},
   "outputs": [
    {
     "data": {
      "text/markdown": [
       "**Numer of rows with iter=4: 188**"
      ],
      "text/plain": [
       "<IPython.core.display.Markdown object>"
      ]
     },
     "metadata": {},
     "output_type": "display_data"
    },
    {
     "data": {
      "text/html": [
       "<div>\n",
       "<style scoped>\n",
       "    .dataframe tbody tr th:only-of-type {\n",
       "        vertical-align: middle;\n",
       "    }\n",
       "\n",
       "    .dataframe tbody tr th {\n",
       "        vertical-align: top;\n",
       "    }\n",
       "\n",
       "    .dataframe thead th {\n",
       "        text-align: right;\n",
       "    }\n",
       "</style>\n",
       "<table border=\"1\" class=\"dataframe\">\n",
       "  <thead>\n",
       "    <tr style=\"text-align: right;\">\n",
       "      <th></th>\n",
       "      <th>Code</th>\n",
       "      <th>Data</th>\n",
       "      <th>Iter</th>\n",
       "      <th>Day</th>\n",
       "      <th>Month</th>\n",
       "      <th>Year</th>\n",
       "    </tr>\n",
       "  </thead>\n",
       "  <tbody>\n",
       "    <tr>\n",
       "      <th>0</th>\n",
       "      <td>1012720972</td>\n",
       "      <td>12 nov 16 bad reaction to spicek2 synthetic mj admitted to crete manor mcalester</td>\n",
       "      <td>4</td>\n",
       "      <td>12</td>\n",
       "      <td>nov</td>\n",
       "      <td>16</td>\n",
       "    </tr>\n",
       "    <tr>\n",
       "      <th>12</th>\n",
       "      <td>1164148605</td>\n",
       "      <td>stwin boys born 15 sep 91 gambling behavior no</td>\n",
       "      <td>4</td>\n",
       "      <td>15</td>\n",
       "      <td>sep</td>\n",
       "      <td>91</td>\n",
       "    </tr>\n",
       "    <tr>\n",
       "      <th>15</th>\n",
       "      <td>1215203598</td>\n",
       "      <td>14 jan 1981 sos 10 total score</td>\n",
       "      <td>4</td>\n",
       "      <td>14</td>\n",
       "      <td>jan</td>\n",
       "      <td>1981</td>\n",
       "    </tr>\n",
       "    <tr>\n",
       "      <th>17</th>\n",
       "      <td>1219337955</td>\n",
       "      <td>01 sep 91 communication with referring physician? not done</td>\n",
       "      <td>4</td>\n",
       "      <td>01</td>\n",
       "      <td>sep</td>\n",
       "      <td>91</td>\n",
       "    </tr>\n",
       "    <tr>\n",
       "      <th>21</th>\n",
       "      <td>1256289479</td>\n",
       "      <td>pt diagnosed in 28 sep 93 after he presented with 02 month history of headaches and gait instability mri demonstrated 04 cm l cereballar mass in the paravermian region he was admitted to prm and underwent resection complicated by post op delirium post op sequelas include left palatal myoclonus and ataxia on the left upper and lower extremities which has progressively improved pt has not had any evidence of tumor recurrence</td>\n",
       "      <td>4</td>\n",
       "      <td>28</td>\n",
       "      <td>sep</td>\n",
       "      <td>93</td>\n",
       "    </tr>\n",
       "  </tbody>\n",
       "</table>\n",
       "</div>"
      ],
      "text/plain": [
       "          Code  \\\n",
       "0   1012720972   \n",
       "12  1164148605   \n",
       "15  1215203598   \n",
       "17  1219337955   \n",
       "21  1256289479   \n",
       "\n",
       "                                                                                                                                                                                                                                                                                                                                                                                                                                          Data  \\\n",
       "0                                                                                                                                                                                                                                                                                                                                                             12 nov 16 bad reaction to spicek2 synthetic mj admitted to crete manor mcalester   \n",
       "12                                                                                                                                                                                                                                                                                                                                                                                              stwin boys born 15 sep 91 gambling behavior no   \n",
       "15                                                                                                                                                                                                                                                                                                                                                                                                              14 jan 1981 sos 10 total score   \n",
       "17                                                                                                                                                                                                                                                                                                                                                                                  01 sep 91 communication with referring physician? not done   \n",
       "21  pt diagnosed in 28 sep 93 after he presented with 02 month history of headaches and gait instability mri demonstrated 04 cm l cereballar mass in the paravermian region he was admitted to prm and underwent resection complicated by post op delirium post op sequelas include left palatal myoclonus and ataxia on the left upper and lower extremities which has progressively improved pt has not had any evidence of tumor recurrence   \n",
       "\n",
       "    Iter Day Month  Year  \n",
       "0      4  12   nov    16  \n",
       "12     4  15   sep    91  \n",
       "15     4  14   jan  1981  \n",
       "17     4  01   sep    91  \n",
       "21     4  28   sep    93  "
      ]
     },
     "metadata": {},
     "output_type": "display_data"
    },
    {
     "data": {
      "text/markdown": [
       "**Numer of rows with iter=0: 143**"
      ],
      "text/plain": [
       "<IPython.core.display.Markdown object>"
      ]
     },
     "metadata": {},
     "output_type": "display_data"
    },
    {
     "data": {
      "text/html": [
       "<div>\n",
       "<style scoped>\n",
       "    .dataframe tbody tr th:only-of-type {\n",
       "        vertical-align: middle;\n",
       "    }\n",
       "\n",
       "    .dataframe tbody tr th {\n",
       "        vertical-align: top;\n",
       "    }\n",
       "\n",
       "    .dataframe thead th {\n",
       "        text-align: right;\n",
       "    }\n",
       "</style>\n",
       "<table border=\"1\" class=\"dataframe\">\n",
       "  <thead>\n",
       "    <tr style=\"text-align: right;\">\n",
       "      <th></th>\n",
       "      <th>Code</th>\n",
       "      <th>Data</th>\n",
       "      <th>Iter</th>\n",
       "      <th>Day</th>\n",
       "      <th>Month</th>\n",
       "      <th>Year</th>\n",
       "    </tr>\n",
       "  </thead>\n",
       "  <tbody>\n",
       "    <tr>\n",
       "      <th>5</th>\n",
       "      <td>1054311047</td>\n",
       "      <td>and 8mo in 2009</td>\n",
       "      <td>0</td>\n",
       "      <td>0</td>\n",
       "      <td>0</td>\n",
       "      <td>0</td>\n",
       "    </tr>\n",
       "    <tr>\n",
       "      <th>6</th>\n",
       "      <td>1054668034</td>\n",
       "      <td>htn hypercholesterolemia dm sleep apnea nephrolithiasis chronic renal impairment dvt since jul 1977 on enoxaparin</td>\n",
       "      <td>0</td>\n",
       "      <td>0</td>\n",
       "      <td>0</td>\n",
       "      <td>0</td>\n",
       "    </tr>\n",
       "    <tr>\n",
       "      <th>22</th>\n",
       "      <td>1271563547</td>\n",
       "      <td>n abilify added to lexapro wellbutrin in jan 2007</td>\n",
       "      <td>0</td>\n",
       "      <td>0</td>\n",
       "      <td>0</td>\n",
       "      <td>0</td>\n",
       "    </tr>\n",
       "    <tr>\n",
       "      <th>24</th>\n",
       "      <td>1304079161</td>\n",
       "      <td>pt joined army reserves in 2001 and has 03 years left in this commitment mental status exam was the exam performed? if not indicate reason yes</td>\n",
       "      <td>0</td>\n",
       "      <td>0</td>\n",
       "      <td>0</td>\n",
       "      <td>0</td>\n",
       "    </tr>\n",
       "    <tr>\n",
       "      <th>29</th>\n",
       "      <td>1348968961</td>\n",
       "      <td>sgoiter diagnosed in sep 1981 pt feels thyroid problems are related to h/o lithium use</td>\n",
       "      <td>0</td>\n",
       "      <td>0</td>\n",
       "      <td>0</td>\n",
       "      <td>0</td>\n",
       "    </tr>\n",
       "  </tbody>\n",
       "</table>\n",
       "</div>"
      ],
      "text/plain": [
       "          Code  \\\n",
       "5   1054311047   \n",
       "6   1054668034   \n",
       "22  1271563547   \n",
       "24  1304079161   \n",
       "29  1348968961   \n",
       "\n",
       "                                                                                                                                              Data  \\\n",
       "5                                                                                                                                  and 8mo in 2009   \n",
       "6                                htn hypercholesterolemia dm sleep apnea nephrolithiasis chronic renal impairment dvt since jul 1977 on enoxaparin   \n",
       "22                                                                                               n abilify added to lexapro wellbutrin in jan 2007   \n",
       "24  pt joined army reserves in 2001 and has 03 years left in this commitment mental status exam was the exam performed? if not indicate reason yes   \n",
       "29                                                          sgoiter diagnosed in sep 1981 pt feels thyroid problems are related to h/o lithium use   \n",
       "\n",
       "    Iter Day Month Year  \n",
       "5      0   0     0    0  \n",
       "6      0   0     0    0  \n",
       "22     0   0     0    0  \n",
       "24     0   0     0    0  \n",
       "29     0   0     0    0  "
      ]
     },
     "metadata": {},
     "output_type": "display_data"
    }
   ],
   "source": [
    "df.loc[(df.Iter==0) & (df2.Day.notnull()), \"Day\"] = df2[\"Day\"]\n",
    "df.loc[(df.Iter==0) & (df2.Month.notnull()), \"Month\"] = df2[\"Month\"]\n",
    "df.loc[(df.Iter==0) & (df2.Year.notnull()), \"Year\"] = df2[\"Year\"]\n",
    "df.loc[(df.Iter==0) & (df2.Year.notnull()),\"Iter\"] = iter\n",
    "\n",
    "info(iter)"
   ]
  },
  {
   "cell_type": "markdown",
   "metadata": {},
   "source": [
    "### 5 - 'month' yyyy "
   ]
  },
  {
   "cell_type": "code",
   "execution_count": 724,
   "metadata": {},
   "outputs": [
    {
     "data": {
      "text/plain": [
       "6    htn hypercholesterolemia dm sleep apnea nephrolithiasis chronic renal impairment dvt since jul 1977 on enoxaparin\n",
       "Name: Data, dtype: object"
      ]
     },
     "metadata": {},
     "output_type": "display_data"
    },
    {
     "data": {
      "text/html": [
       "<div>\n",
       "<style scoped>\n",
       "    .dataframe tbody tr th:only-of-type {\n",
       "        vertical-align: middle;\n",
       "    }\n",
       "\n",
       "    .dataframe tbody tr th {\n",
       "        vertical-align: top;\n",
       "    }\n",
       "\n",
       "    .dataframe thead th {\n",
       "        text-align: right;\n",
       "    }\n",
       "</style>\n",
       "<table border=\"1\" class=\"dataframe\">\n",
       "  <thead>\n",
       "    <tr style=\"text-align: right;\">\n",
       "      <th></th>\n",
       "      <th>Month</th>\n",
       "      <th>Year</th>\n",
       "    </tr>\n",
       "  </thead>\n",
       "  <tbody>\n",
       "    <tr>\n",
       "      <th>6</th>\n",
       "      <td>jul</td>\n",
       "      <td>1977</td>\n",
       "    </tr>\n",
       "  </tbody>\n",
       "</table>\n",
       "</div>"
      ],
      "text/plain": [
       "  Month  Year\n",
       "6   jul  1977"
      ]
     },
     "execution_count": 724,
     "metadata": {},
     "output_type": "execute_result"
    }
   ],
   "source": [
    "tmp = df.loc[df.Code==1054668034,\"Data\"]\n",
    "display(tmp)\n",
    "\n",
    "regex = r\"(?P<Month>jan|feb|mar|apr|may|jun|jul|aug|sep|oct|nov|dec)\\s+(?P<Year>\\d{2,4})\"\n",
    "tmp.str.extract(regex)"
   ]
  },
  {
   "cell_type": "code",
   "execution_count": 725,
   "metadata": {},
   "outputs": [
    {
     "data": {
      "text/markdown": [
       " * Number of row matched = 98"
      ],
      "text/plain": [
       "<IPython.core.display.Markdown object>"
      ]
     },
     "metadata": {},
     "output_type": "display_data"
    },
    {
     "data": {
      "text/html": [
       "<div>\n",
       "<style scoped>\n",
       "    .dataframe tbody tr th:only-of-type {\n",
       "        vertical-align: middle;\n",
       "    }\n",
       "\n",
       "    .dataframe tbody tr th {\n",
       "        vertical-align: top;\n",
       "    }\n",
       "\n",
       "    .dataframe thead th {\n",
       "        text-align: right;\n",
       "    }\n",
       "</style>\n",
       "<table border=\"1\" class=\"dataframe\">\n",
       "  <thead>\n",
       "    <tr style=\"text-align: right;\">\n",
       "      <th></th>\n",
       "      <th>Month</th>\n",
       "      <th>Year</th>\n",
       "    </tr>\n",
       "  </thead>\n",
       "  <tbody>\n",
       "    <tr>\n",
       "      <th>6</th>\n",
       "      <td>jul</td>\n",
       "      <td>1977</td>\n",
       "    </tr>\n",
       "    <tr>\n",
       "      <th>22</th>\n",
       "      <td>jan</td>\n",
       "      <td>2007</td>\n",
       "    </tr>\n",
       "    <tr>\n",
       "      <th>29</th>\n",
       "      <td>sep</td>\n",
       "      <td>1981</td>\n",
       "    </tr>\n",
       "    <tr>\n",
       "      <th>36</th>\n",
       "      <td>sep</td>\n",
       "      <td>1983</td>\n",
       "    </tr>\n",
       "    <tr>\n",
       "      <th>41</th>\n",
       "      <td>sep</td>\n",
       "      <td>1985</td>\n",
       "    </tr>\n",
       "  </tbody>\n",
       "</table>\n",
       "</div>"
      ],
      "text/plain": [
       "   Month  Year\n",
       "6    jul  1977\n",
       "22   jan  2007\n",
       "29   sep  1981\n",
       "36   sep  1983\n",
       "41   sep  1985"
      ]
     },
     "execution_count": 725,
     "metadata": {},
     "output_type": "execute_result"
    }
   ],
   "source": [
    "iter = 5\n",
    "\n",
    "df2 = df[df.Iter==0].Data.str.extract(regex)\n",
    "df2.dropna(inplace=True)\n",
    "display(Markdown(\" * Number of row matched = %s\" % df2.shape[0]))\n",
    "df2.head()"
   ]
  },
  {
   "cell_type": "code",
   "execution_count": 726,
   "metadata": {},
   "outputs": [
    {
     "data": {
      "text/markdown": [
       "**Numer of rows with iter=5: 98**"
      ],
      "text/plain": [
       "<IPython.core.display.Markdown object>"
      ]
     },
     "metadata": {},
     "output_type": "display_data"
    },
    {
     "data": {
      "text/html": [
       "<div>\n",
       "<style scoped>\n",
       "    .dataframe tbody tr th:only-of-type {\n",
       "        vertical-align: middle;\n",
       "    }\n",
       "\n",
       "    .dataframe tbody tr th {\n",
       "        vertical-align: top;\n",
       "    }\n",
       "\n",
       "    .dataframe thead th {\n",
       "        text-align: right;\n",
       "    }\n",
       "</style>\n",
       "<table border=\"1\" class=\"dataframe\">\n",
       "  <thead>\n",
       "    <tr style=\"text-align: right;\">\n",
       "      <th></th>\n",
       "      <th>Code</th>\n",
       "      <th>Data</th>\n",
       "      <th>Iter</th>\n",
       "      <th>Day</th>\n",
       "      <th>Month</th>\n",
       "      <th>Year</th>\n",
       "    </tr>\n",
       "  </thead>\n",
       "  <tbody>\n",
       "    <tr>\n",
       "      <th>6</th>\n",
       "      <td>1054668034</td>\n",
       "      <td>htn hypercholesterolemia dm sleep apnea nephrolithiasis chronic renal impairment dvt since jul 1977 on enoxaparin</td>\n",
       "      <td>5</td>\n",
       "      <td>0</td>\n",
       "      <td>jul</td>\n",
       "      <td>1977</td>\n",
       "    </tr>\n",
       "    <tr>\n",
       "      <th>22</th>\n",
       "      <td>1271563547</td>\n",
       "      <td>n abilify added to lexapro wellbutrin in jan 2007</td>\n",
       "      <td>5</td>\n",
       "      <td>0</td>\n",
       "      <td>jan</td>\n",
       "      <td>2007</td>\n",
       "    </tr>\n",
       "    <tr>\n",
       "      <th>29</th>\n",
       "      <td>1348968961</td>\n",
       "      <td>sgoiter diagnosed in sep 1981 pt feels thyroid problems are related to h/o lithium use</td>\n",
       "      <td>5</td>\n",
       "      <td>0</td>\n",
       "      <td>sep</td>\n",
       "      <td>1981</td>\n",
       "    </tr>\n",
       "    <tr>\n",
       "      <th>36</th>\n",
       "      <td>1451016026</td>\n",
       "      <td>ssep 1983 gsw to face l tmj region ? gang related with l cn vii injury and ? tbi requiring plastic surgical reconstructionactivities of daily living adl bathing independent</td>\n",
       "      <td>5</td>\n",
       "      <td>0</td>\n",
       "      <td>sep</td>\n",
       "      <td>1983</td>\n",
       "    </tr>\n",
       "    <tr>\n",
       "      <th>41</th>\n",
       "      <td>1524444733</td>\n",
       "      <td>s 20 yo m carries dx of bpad presents for psychopharm consult moved to independence area for school as of sep 1985</td>\n",
       "      <td>5</td>\n",
       "      <td>0</td>\n",
       "      <td>sep</td>\n",
       "      <td>1985</td>\n",
       "    </tr>\n",
       "  </tbody>\n",
       "</table>\n",
       "</div>"
      ],
      "text/plain": [
       "          Code  \\\n",
       "6   1054668034   \n",
       "22  1271563547   \n",
       "29  1348968961   \n",
       "36  1451016026   \n",
       "41  1524444733   \n",
       "\n",
       "                                                                                                                                                                            Data  \\\n",
       "6                                                              htn hypercholesterolemia dm sleep apnea nephrolithiasis chronic renal impairment dvt since jul 1977 on enoxaparin   \n",
       "22                                                                                                                             n abilify added to lexapro wellbutrin in jan 2007   \n",
       "29                                                                                        sgoiter diagnosed in sep 1981 pt feels thyroid problems are related to h/o lithium use   \n",
       "36  ssep 1983 gsw to face l tmj region ? gang related with l cn vii injury and ? tbi requiring plastic surgical reconstructionactivities of daily living adl bathing independent   \n",
       "41                                                            s 20 yo m carries dx of bpad presents for psychopharm consult moved to independence area for school as of sep 1985   \n",
       "\n",
       "    Iter Day Month  Year  \n",
       "6      5   0   jul  1977  \n",
       "22     5   0   jan  2007  \n",
       "29     5   0   sep  1981  \n",
       "36     5   0   sep  1983  \n",
       "41     5   0   sep  1985  "
      ]
     },
     "metadata": {},
     "output_type": "display_data"
    },
    {
     "data": {
      "text/markdown": [
       "**Numer of rows with iter=0: 45**"
      ],
      "text/plain": [
       "<IPython.core.display.Markdown object>"
      ]
     },
     "metadata": {},
     "output_type": "display_data"
    },
    {
     "data": {
      "text/html": [
       "<div>\n",
       "<style scoped>\n",
       "    .dataframe tbody tr th:only-of-type {\n",
       "        vertical-align: middle;\n",
       "    }\n",
       "\n",
       "    .dataframe tbody tr th {\n",
       "        vertical-align: top;\n",
       "    }\n",
       "\n",
       "    .dataframe thead th {\n",
       "        text-align: right;\n",
       "    }\n",
       "</style>\n",
       "<table border=\"1\" class=\"dataframe\">\n",
       "  <thead>\n",
       "    <tr style=\"text-align: right;\">\n",
       "      <th></th>\n",
       "      <th>Code</th>\n",
       "      <th>Data</th>\n",
       "      <th>Iter</th>\n",
       "      <th>Day</th>\n",
       "      <th>Month</th>\n",
       "      <th>Year</th>\n",
       "    </tr>\n",
       "  </thead>\n",
       "  <tbody>\n",
       "    <tr>\n",
       "      <th>5</th>\n",
       "      <td>1054311047</td>\n",
       "      <td>and 8mo in 2009</td>\n",
       "      <td>0</td>\n",
       "      <td>0</td>\n",
       "      <td>0</td>\n",
       "      <td>0</td>\n",
       "    </tr>\n",
       "    <tr>\n",
       "      <th>24</th>\n",
       "      <td>1304079161</td>\n",
       "      <td>pt joined army reserves in 2001 and has 03 years left in this commitment mental status exam was the exam performed? if not indicate reason yes</td>\n",
       "      <td>0</td>\n",
       "      <td>0</td>\n",
       "      <td>0</td>\n",
       "      <td>0</td>\n",
       "    </tr>\n",
       "    <tr>\n",
       "      <th>32</th>\n",
       "      <td>1375836275</td>\n",
       "      <td>01 ex smoker quit 2012</td>\n",
       "      <td>0</td>\n",
       "      <td>0</td>\n",
       "      <td>0</td>\n",
       "      <td>0</td>\n",
       "    </tr>\n",
       "    <tr>\n",
       "      <th>34</th>\n",
       "      <td>1388842679</td>\n",
       "      <td>shx of tbi 1975 iso mva medical history</td>\n",
       "      <td>0</td>\n",
       "      <td>0</td>\n",
       "      <td>0</td>\n",
       "      <td>0</td>\n",
       "    </tr>\n",
       "    <tr>\n",
       "      <th>70</th>\n",
       "      <td>1858445338</td>\n",
       "      <td>01 esophageal cancer dx 2013 on folfox with oxaliplatin desensitization</td>\n",
       "      <td>0</td>\n",
       "      <td>0</td>\n",
       "      <td>0</td>\n",
       "      <td>0</td>\n",
       "    </tr>\n",
       "  </tbody>\n",
       "</table>\n",
       "</div>"
      ],
      "text/plain": [
       "          Code  \\\n",
       "5   1054311047   \n",
       "24  1304079161   \n",
       "32  1375836275   \n",
       "34  1388842679   \n",
       "70  1858445338   \n",
       "\n",
       "                                                                                                                                              Data  \\\n",
       "5                                                                                                                                  and 8mo in 2009   \n",
       "24  pt joined army reserves in 2001 and has 03 years left in this commitment mental status exam was the exam performed? if not indicate reason yes   \n",
       "32                                                                                                                          01 ex smoker quit 2012   \n",
       "34                                                                                                         shx of tbi 1975 iso mva medical history   \n",
       "70                                                                         01 esophageal cancer dx 2013 on folfox with oxaliplatin desensitization   \n",
       "\n",
       "    Iter Day Month Year  \n",
       "5      0   0     0    0  \n",
       "24     0   0     0    0  \n",
       "32     0   0     0    0  \n",
       "34     0   0     0    0  \n",
       "70     0   0     0    0  "
      ]
     },
     "metadata": {},
     "output_type": "display_data"
    }
   ],
   "source": [
    "df.loc[(df.Iter==0) & (df2.Month.notnull()), \"Month\"] = df2[\"Month\"]\n",
    "df.loc[(df.Iter==0) & (df2.Year.notnull()), \"Year\"] = df2[\"Year\"]\n",
    "df.loc[(df.Iter==0) & (df2.Year.notnull()),\"Iter\"] = iter\n",
    "\n",
    "info(iter)"
   ]
  },
  {
   "cell_type": "markdown",
   "metadata": {},
   "source": [
    "### 6 - mm dd yyyy"
   ]
  },
  {
   "cell_type": "code",
   "execution_count": 727,
   "metadata": {},
   "outputs": [
    {
     "data": {
      "text/plain": [
       "176    07 29 75 cpt code 90801 psychiatric diagnosis interview\n",
       "Name: Data, dtype: object"
      ]
     },
     "metadata": {},
     "output_type": "display_data"
    },
    {
     "data": {
      "text/html": [
       "<div>\n",
       "<style scoped>\n",
       "    .dataframe tbody tr th:only-of-type {\n",
       "        vertical-align: middle;\n",
       "    }\n",
       "\n",
       "    .dataframe tbody tr th {\n",
       "        vertical-align: top;\n",
       "    }\n",
       "\n",
       "    .dataframe thead th {\n",
       "        text-align: right;\n",
       "    }\n",
       "</style>\n",
       "<table border=\"1\" class=\"dataframe\">\n",
       "  <thead>\n",
       "    <tr style=\"text-align: right;\">\n",
       "      <th></th>\n",
       "      <th>Month</th>\n",
       "      <th>Day</th>\n",
       "      <th>Year</th>\n",
       "    </tr>\n",
       "  </thead>\n",
       "  <tbody>\n",
       "    <tr>\n",
       "      <th>176</th>\n",
       "      <td>07</td>\n",
       "      <td>29</td>\n",
       "      <td>75</td>\n",
       "    </tr>\n",
       "  </tbody>\n",
       "</table>\n",
       "</div>"
      ],
      "text/plain": [
       "    Month Day Year\n",
       "176    07  29   75"
      ]
     },
     "execution_count": 727,
     "metadata": {},
     "output_type": "execute_result"
    }
   ],
   "source": [
    "tmp = df.loc[df.Code==3173136043,\"Data\"]\n",
    "display(tmp)\n",
    "\n",
    "regex = r\"(?P<Month>0[1-9]|1[0-2]{1,2})\\s+(?P<Day>[\\d]{1,2})\\s+(?P<Year>[\\d]{2,4})\"\n",
    "tmp.str.extract(regex)"
   ]
  },
  {
   "cell_type": "code",
   "execution_count": 728,
   "metadata": {},
   "outputs": [
    {
     "data": {
      "text/markdown": [
       " * Number of row matched = 4"
      ],
      "text/plain": [
       "<IPython.core.display.Markdown object>"
      ]
     },
     "metadata": {},
     "output_type": "display_data"
    },
    {
     "data": {
      "text/html": [
       "<div>\n",
       "<style scoped>\n",
       "    .dataframe tbody tr th:only-of-type {\n",
       "        vertical-align: middle;\n",
       "    }\n",
       "\n",
       "    .dataframe tbody tr th {\n",
       "        vertical-align: top;\n",
       "    }\n",
       "\n",
       "    .dataframe thead th {\n",
       "        text-align: right;\n",
       "    }\n",
       "</style>\n",
       "<table border=\"1\" class=\"dataframe\">\n",
       "  <thead>\n",
       "    <tr style=\"text-align: right;\">\n",
       "      <th></th>\n",
       "      <th>Month</th>\n",
       "      <th>Day</th>\n",
       "      <th>Year</th>\n",
       "    </tr>\n",
       "  </thead>\n",
       "  <tbody>\n",
       "    <tr>\n",
       "      <th>176</th>\n",
       "      <td>07</td>\n",
       "      <td>29</td>\n",
       "      <td>75</td>\n",
       "    </tr>\n",
       "    <tr>\n",
       "      <th>308</th>\n",
       "      <td>04</td>\n",
       "      <td>13</td>\n",
       "      <td>82</td>\n",
       "    </tr>\n",
       "    <tr>\n",
       "      <th>364</th>\n",
       "      <td>01</td>\n",
       "      <td>14</td>\n",
       "      <td>81</td>\n",
       "    </tr>\n",
       "    <tr>\n",
       "      <th>699</th>\n",
       "      <td>04</td>\n",
       "      <td>13</td>\n",
       "      <td>89</td>\n",
       "    </tr>\n",
       "  </tbody>\n",
       "</table>\n",
       "</div>"
      ],
      "text/plain": [
       "    Month Day Year\n",
       "176    07  29   75\n",
       "308    04  13   82\n",
       "364    01  14   81\n",
       "699    04  13   89"
      ]
     },
     "execution_count": 728,
     "metadata": {},
     "output_type": "execute_result"
    }
   ],
   "source": [
    "iter = 6\n",
    "\n",
    "df2 = df[df.Iter==0].Data.str.extract(regex)\n",
    "df2.dropna(inplace=True)\n",
    "display(Markdown(\" * Number of row matched = %s\" % df2.shape[0]))\n",
    "df2.head()"
   ]
  },
  {
   "cell_type": "code",
   "execution_count": 729,
   "metadata": {},
   "outputs": [
    {
     "data": {
      "text/markdown": [
       "**Numer of rows with iter=6: 4**"
      ],
      "text/plain": [
       "<IPython.core.display.Markdown object>"
      ]
     },
     "metadata": {},
     "output_type": "display_data"
    },
    {
     "data": {
      "text/html": [
       "<div>\n",
       "<style scoped>\n",
       "    .dataframe tbody tr th:only-of-type {\n",
       "        vertical-align: middle;\n",
       "    }\n",
       "\n",
       "    .dataframe tbody tr th {\n",
       "        vertical-align: top;\n",
       "    }\n",
       "\n",
       "    .dataframe thead th {\n",
       "        text-align: right;\n",
       "    }\n",
       "</style>\n",
       "<table border=\"1\" class=\"dataframe\">\n",
       "  <thead>\n",
       "    <tr style=\"text-align: right;\">\n",
       "      <th></th>\n",
       "      <th>Code</th>\n",
       "      <th>Data</th>\n",
       "      <th>Iter</th>\n",
       "      <th>Day</th>\n",
       "      <th>Month</th>\n",
       "      <th>Year</th>\n",
       "    </tr>\n",
       "  </thead>\n",
       "  <tbody>\n",
       "    <tr>\n",
       "      <th>176</th>\n",
       "      <td>3173136043</td>\n",
       "      <td>07 29 75 cpt code 90801 psychiatric diagnosis interview</td>\n",
       "      <td>6</td>\n",
       "      <td>29</td>\n",
       "      <td>07</td>\n",
       "      <td>75</td>\n",
       "    </tr>\n",
       "    <tr>\n",
       "      <th>308</th>\n",
       "      <td>4895905688</td>\n",
       "      <td>04 13 82 other child mental health outcomes scales used</td>\n",
       "      <td>6</td>\n",
       "      <td>13</td>\n",
       "      <td>04</td>\n",
       "      <td>82</td>\n",
       "    </tr>\n",
       "    <tr>\n",
       "      <th>364</th>\n",
       "      <td>5561299129</td>\n",
       "      <td>01 14 81 communication with referring physician? done</td>\n",
       "      <td>6</td>\n",
       "      <td>14</td>\n",
       "      <td>01</td>\n",
       "      <td>81</td>\n",
       "    </tr>\n",
       "    <tr>\n",
       "      <th>699</th>\n",
       "      <td>9752673858</td>\n",
       "      <td>04 13 89 communication with referring physician? not done</td>\n",
       "      <td>6</td>\n",
       "      <td>13</td>\n",
       "      <td>04</td>\n",
       "      <td>89</td>\n",
       "    </tr>\n",
       "  </tbody>\n",
       "</table>\n",
       "</div>"
      ],
      "text/plain": [
       "           Code                                                       Data  \\\n",
       "176  3173136043    07 29 75 cpt code 90801 psychiatric diagnosis interview   \n",
       "308  4895905688    04 13 82 other child mental health outcomes scales used   \n",
       "364  5561299129      01 14 81 communication with referring physician? done   \n",
       "699  9752673858  04 13 89 communication with referring physician? not done   \n",
       "\n",
       "     Iter Day Month Year  \n",
       "176     6  29    07   75  \n",
       "308     6  13    04   82  \n",
       "364     6  14    01   81  \n",
       "699     6  13    04   89  "
      ]
     },
     "metadata": {},
     "output_type": "display_data"
    },
    {
     "data": {
      "text/markdown": [
       "**Numer of rows with iter=0: 41**"
      ],
      "text/plain": [
       "<IPython.core.display.Markdown object>"
      ]
     },
     "metadata": {},
     "output_type": "display_data"
    },
    {
     "data": {
      "text/html": [
       "<div>\n",
       "<style scoped>\n",
       "    .dataframe tbody tr th:only-of-type {\n",
       "        vertical-align: middle;\n",
       "    }\n",
       "\n",
       "    .dataframe tbody tr th {\n",
       "        vertical-align: top;\n",
       "    }\n",
       "\n",
       "    .dataframe thead th {\n",
       "        text-align: right;\n",
       "    }\n",
       "</style>\n",
       "<table border=\"1\" class=\"dataframe\">\n",
       "  <thead>\n",
       "    <tr style=\"text-align: right;\">\n",
       "      <th></th>\n",
       "      <th>Code</th>\n",
       "      <th>Data</th>\n",
       "      <th>Iter</th>\n",
       "      <th>Day</th>\n",
       "      <th>Month</th>\n",
       "      <th>Year</th>\n",
       "    </tr>\n",
       "  </thead>\n",
       "  <tbody>\n",
       "    <tr>\n",
       "      <th>5</th>\n",
       "      <td>1054311047</td>\n",
       "      <td>and 8mo in 2009</td>\n",
       "      <td>0</td>\n",
       "      <td>0</td>\n",
       "      <td>0</td>\n",
       "      <td>0</td>\n",
       "    </tr>\n",
       "    <tr>\n",
       "      <th>24</th>\n",
       "      <td>1304079161</td>\n",
       "      <td>pt joined army reserves in 2001 and has 03 years left in this commitment mental status exam was the exam performed? if not indicate reason yes</td>\n",
       "      <td>0</td>\n",
       "      <td>0</td>\n",
       "      <td>0</td>\n",
       "      <td>0</td>\n",
       "    </tr>\n",
       "    <tr>\n",
       "      <th>32</th>\n",
       "      <td>1375836275</td>\n",
       "      <td>01 ex smoker quit 2012</td>\n",
       "      <td>0</td>\n",
       "      <td>0</td>\n",
       "      <td>0</td>\n",
       "      <td>0</td>\n",
       "    </tr>\n",
       "    <tr>\n",
       "      <th>34</th>\n",
       "      <td>1388842679</td>\n",
       "      <td>shx of tbi 1975 iso mva medical history</td>\n",
       "      <td>0</td>\n",
       "      <td>0</td>\n",
       "      <td>0</td>\n",
       "      <td>0</td>\n",
       "    </tr>\n",
       "    <tr>\n",
       "      <th>70</th>\n",
       "      <td>1858445338</td>\n",
       "      <td>01 esophageal cancer dx 2013 on folfox with oxaliplatin desensitization</td>\n",
       "      <td>0</td>\n",
       "      <td>0</td>\n",
       "      <td>0</td>\n",
       "      <td>0</td>\n",
       "    </tr>\n",
       "  </tbody>\n",
       "</table>\n",
       "</div>"
      ],
      "text/plain": [
       "          Code  \\\n",
       "5   1054311047   \n",
       "24  1304079161   \n",
       "32  1375836275   \n",
       "34  1388842679   \n",
       "70  1858445338   \n",
       "\n",
       "                                                                                                                                              Data  \\\n",
       "5                                                                                                                                  and 8mo in 2009   \n",
       "24  pt joined army reserves in 2001 and has 03 years left in this commitment mental status exam was the exam performed? if not indicate reason yes   \n",
       "32                                                                                                                          01 ex smoker quit 2012   \n",
       "34                                                                                                         shx of tbi 1975 iso mva medical history   \n",
       "70                                                                         01 esophageal cancer dx 2013 on folfox with oxaliplatin desensitization   \n",
       "\n",
       "    Iter Day Month Year  \n",
       "5      0   0     0    0  \n",
       "24     0   0     0    0  \n",
       "32     0   0     0    0  \n",
       "34     0   0     0    0  \n",
       "70     0   0     0    0  "
      ]
     },
     "metadata": {},
     "output_type": "display_data"
    }
   ],
   "source": [
    "df.loc[(df.Iter==0) & (df2.Day.notnull()), \"Day\"] = df2[\"Day\"]\n",
    "df.loc[(df.Iter==0) & (df2.Month.notnull()), \"Month\"] = df2[\"Month\"]\n",
    "df.loc[(df.Iter==0) & (df2.Year.notnull()), \"Year\"] = df2[\"Year\"]\n",
    "df.loc[(df.Iter==0) & (df2.Year.notnull()),\"Iter\"] = iter\n",
    "\n",
    "info(iter)"
   ]
  },
  {
   "cell_type": "markdown",
   "metadata": {},
   "source": [
    "### 7 - yyyy"
   ]
  },
  {
   "cell_type": "code",
   "execution_count": 730,
   "metadata": {},
   "outputs": [
    {
     "data": {
      "text/plain": [
       "34    shx of tbi 1975 iso mva medical history\n",
       "Name: Data, dtype: object"
      ]
     },
     "metadata": {},
     "output_type": "display_data"
    },
    {
     "data": {
      "text/html": [
       "<div>\n",
       "<style scoped>\n",
       "    .dataframe tbody tr th:only-of-type {\n",
       "        vertical-align: middle;\n",
       "    }\n",
       "\n",
       "    .dataframe tbody tr th {\n",
       "        vertical-align: top;\n",
       "    }\n",
       "\n",
       "    .dataframe thead th {\n",
       "        text-align: right;\n",
       "    }\n",
       "</style>\n",
       "<table border=\"1\" class=\"dataframe\">\n",
       "  <thead>\n",
       "    <tr style=\"text-align: right;\">\n",
       "      <th></th>\n",
       "      <th>Year</th>\n",
       "    </tr>\n",
       "  </thead>\n",
       "  <tbody>\n",
       "    <tr>\n",
       "      <th>34</th>\n",
       "      <td>1975</td>\n",
       "    </tr>\n",
       "  </tbody>\n",
       "</table>\n",
       "</div>"
      ],
      "text/plain": [
       "    Year\n",
       "34  1975"
      ]
     },
     "execution_count": 730,
     "metadata": {},
     "output_type": "execute_result"
    }
   ],
   "source": [
    "tmp = df.loc[df.Code==1388842679,\"Data\"]\n",
    "display(tmp)\n",
    "\n",
    "regex = r\"(?P<Year>\\d{4})\"\n",
    "tmp.str.extract(regex)"
   ]
  },
  {
   "cell_type": "code",
   "execution_count": 731,
   "metadata": {},
   "outputs": [
    {
     "data": {
      "text/markdown": [
       " * Number of row matched = 41"
      ],
      "text/plain": [
       "<IPython.core.display.Markdown object>"
      ]
     },
     "metadata": {},
     "output_type": "display_data"
    },
    {
     "data": {
      "text/html": [
       "<div>\n",
       "<style scoped>\n",
       "    .dataframe tbody tr th:only-of-type {\n",
       "        vertical-align: middle;\n",
       "    }\n",
       "\n",
       "    .dataframe tbody tr th {\n",
       "        vertical-align: top;\n",
       "    }\n",
       "\n",
       "    .dataframe thead th {\n",
       "        text-align: right;\n",
       "    }\n",
       "</style>\n",
       "<table border=\"1\" class=\"dataframe\">\n",
       "  <thead>\n",
       "    <tr style=\"text-align: right;\">\n",
       "      <th></th>\n",
       "      <th>Year</th>\n",
       "    </tr>\n",
       "  </thead>\n",
       "  <tbody>\n",
       "    <tr>\n",
       "      <th>5</th>\n",
       "      <td>2009</td>\n",
       "    </tr>\n",
       "    <tr>\n",
       "      <th>24</th>\n",
       "      <td>2001</td>\n",
       "    </tr>\n",
       "    <tr>\n",
       "      <th>32</th>\n",
       "      <td>2012</td>\n",
       "    </tr>\n",
       "    <tr>\n",
       "      <th>34</th>\n",
       "      <td>1975</td>\n",
       "    </tr>\n",
       "    <tr>\n",
       "      <th>70</th>\n",
       "      <td>2013</td>\n",
       "    </tr>\n",
       "  </tbody>\n",
       "</table>\n",
       "</div>"
      ],
      "text/plain": [
       "    Year\n",
       "5   2009\n",
       "24  2001\n",
       "32  2012\n",
       "34  1975\n",
       "70  2013"
      ]
     },
     "execution_count": 731,
     "metadata": {},
     "output_type": "execute_result"
    }
   ],
   "source": [
    "iter = 7\n",
    "\n",
    "df2 = df[df.Iter==0].Data.str.extract(regex)\n",
    "df2.dropna(inplace=True)\n",
    "display(Markdown(\" * Number of row matched = %s\" % df2.shape[0]))\n",
    "df2.head()"
   ]
  },
  {
   "cell_type": "code",
   "execution_count": 732,
   "metadata": {},
   "outputs": [
    {
     "data": {
      "text/markdown": [
       "**Numer of rows with iter=7: 41**"
      ],
      "text/plain": [
       "<IPython.core.display.Markdown object>"
      ]
     },
     "metadata": {},
     "output_type": "display_data"
    },
    {
     "data": {
      "text/html": [
       "<div>\n",
       "<style scoped>\n",
       "    .dataframe tbody tr th:only-of-type {\n",
       "        vertical-align: middle;\n",
       "    }\n",
       "\n",
       "    .dataframe tbody tr th {\n",
       "        vertical-align: top;\n",
       "    }\n",
       "\n",
       "    .dataframe thead th {\n",
       "        text-align: right;\n",
       "    }\n",
       "</style>\n",
       "<table border=\"1\" class=\"dataframe\">\n",
       "  <thead>\n",
       "    <tr style=\"text-align: right;\">\n",
       "      <th></th>\n",
       "      <th>Code</th>\n",
       "      <th>Data</th>\n",
       "      <th>Iter</th>\n",
       "      <th>Day</th>\n",
       "      <th>Month</th>\n",
       "      <th>Year</th>\n",
       "    </tr>\n",
       "  </thead>\n",
       "  <tbody>\n",
       "    <tr>\n",
       "      <th>5</th>\n",
       "      <td>1054311047</td>\n",
       "      <td>and 8mo in 2009</td>\n",
       "      <td>7</td>\n",
       "      <td>0</td>\n",
       "      <td>0</td>\n",
       "      <td>2009</td>\n",
       "    </tr>\n",
       "    <tr>\n",
       "      <th>24</th>\n",
       "      <td>1304079161</td>\n",
       "      <td>pt joined army reserves in 2001 and has 03 years left in this commitment mental status exam was the exam performed? if not indicate reason yes</td>\n",
       "      <td>7</td>\n",
       "      <td>0</td>\n",
       "      <td>0</td>\n",
       "      <td>2001</td>\n",
       "    </tr>\n",
       "    <tr>\n",
       "      <th>32</th>\n",
       "      <td>1375836275</td>\n",
       "      <td>01 ex smoker quit 2012</td>\n",
       "      <td>7</td>\n",
       "      <td>0</td>\n",
       "      <td>0</td>\n",
       "      <td>2012</td>\n",
       "    </tr>\n",
       "    <tr>\n",
       "      <th>34</th>\n",
       "      <td>1388842679</td>\n",
       "      <td>shx of tbi 1975 iso mva medical history</td>\n",
       "      <td>7</td>\n",
       "      <td>0</td>\n",
       "      <td>0</td>\n",
       "      <td>1975</td>\n",
       "    </tr>\n",
       "    <tr>\n",
       "      <th>70</th>\n",
       "      <td>1858445338</td>\n",
       "      <td>01 esophageal cancer dx 2013 on folfox with oxaliplatin desensitization</td>\n",
       "      <td>7</td>\n",
       "      <td>0</td>\n",
       "      <td>0</td>\n",
       "      <td>2013</td>\n",
       "    </tr>\n",
       "  </tbody>\n",
       "</table>\n",
       "</div>"
      ],
      "text/plain": [
       "          Code  \\\n",
       "5   1054311047   \n",
       "24  1304079161   \n",
       "32  1375836275   \n",
       "34  1388842679   \n",
       "70  1858445338   \n",
       "\n",
       "                                                                                                                                              Data  \\\n",
       "5                                                                                                                                  and 8mo in 2009   \n",
       "24  pt joined army reserves in 2001 and has 03 years left in this commitment mental status exam was the exam performed? if not indicate reason yes   \n",
       "32                                                                                                                          01 ex smoker quit 2012   \n",
       "34                                                                                                         shx of tbi 1975 iso mva medical history   \n",
       "70                                                                         01 esophageal cancer dx 2013 on folfox with oxaliplatin desensitization   \n",
       "\n",
       "    Iter Day Month  Year  \n",
       "5      7   0     0  2009  \n",
       "24     7   0     0  2001  \n",
       "32     7   0     0  2012  \n",
       "34     7   0     0  1975  \n",
       "70     7   0     0  2013  "
      ]
     },
     "metadata": {},
     "output_type": "display_data"
    },
    {
     "data": {
      "text/markdown": [
       "**Numer of rows with iter=0: 0**"
      ],
      "text/plain": [
       "<IPython.core.display.Markdown object>"
      ]
     },
     "metadata": {},
     "output_type": "display_data"
    },
    {
     "data": {
      "text/html": [
       "<div>\n",
       "<style scoped>\n",
       "    .dataframe tbody tr th:only-of-type {\n",
       "        vertical-align: middle;\n",
       "    }\n",
       "\n",
       "    .dataframe tbody tr th {\n",
       "        vertical-align: top;\n",
       "    }\n",
       "\n",
       "    .dataframe thead th {\n",
       "        text-align: right;\n",
       "    }\n",
       "</style>\n",
       "<table border=\"1\" class=\"dataframe\">\n",
       "  <thead>\n",
       "    <tr style=\"text-align: right;\">\n",
       "      <th></th>\n",
       "      <th>Code</th>\n",
       "      <th>Data</th>\n",
       "      <th>Iter</th>\n",
       "      <th>Day</th>\n",
       "      <th>Month</th>\n",
       "      <th>Year</th>\n",
       "    </tr>\n",
       "  </thead>\n",
       "  <tbody>\n",
       "  </tbody>\n",
       "</table>\n",
       "</div>"
      ],
      "text/plain": [
       "Empty DataFrame\n",
       "Columns: [Code, Data, Iter, Day, Month, Year]\n",
       "Index: []"
      ]
     },
     "metadata": {},
     "output_type": "display_data"
    }
   ],
   "source": [
    "df.loc[(df.Iter==0) & (df2.Year.notnull()), \"Year\"] = df2[\"Year\"]\n",
    "df.loc[(df.Iter==0) & (df2.Year.notnull()),\"Iter\"] = iter\n",
    "\n",
    "info(iter)"
   ]
  },
  {
   "cell_type": "markdown",
   "metadata": {},
   "source": [
    "## Check Count of Extracted Dates"
   ]
  },
  {
   "cell_type": "code",
   "execution_count": 733,
   "metadata": {},
   "outputs": [
    {
     "name": "stdout",
     "output_type": "stream",
     "text": [
      "715 of 715 dates have been mined\n"
     ]
    }
   ],
   "source": [
    "mined_dates = df[(df.Iter!=0)]\n",
    "print (\"{0} of {1} dates have been mined\".format(len(mined_dates), len(df)))"
   ]
  },
  {
   "cell_type": "markdown",
   "metadata": {},
   "source": [
    "## Final Cleanup"
   ]
  },
  {
   "cell_type": "markdown",
   "metadata": {},
   "source": [
    "### 1. Convert Empty Values to Default"
   ]
  },
  {
   "cell_type": "code",
   "execution_count": 734,
   "metadata": {},
   "outputs": [],
   "source": [
    "df['Day'] = df['Day'].replace({0: 1})\n",
    "df['Month'] = df['Month'].replace({0: 1})"
   ]
  },
  {
   "cell_type": "markdown",
   "metadata": {},
   "source": [
    "### 2. Convert Months to Values"
   ]
  },
  {
   "cell_type": "code",
   "execution_count": 735,
   "metadata": {},
   "outputs": [],
   "source": [
    "mappings = {'jan':'01', 'feb':'02', 'mar':'03', 'apr':'04', 'may':'05', 'jun':'06', 'jul':'07', 'aug':'08', 'sep':'09', 'oct':'10', 'nov':'11', 'dec':'12'}\n",
    "df['Month'] = df['Month'].replace(mappings)\n",
    "df['Month'] = df['Month'].astype(str).apply(lambda x: x.zfill(2))"
   ]
  },
  {
   "cell_type": "markdown",
   "metadata": {},
   "source": [
    "### 3. Fill Year Values"
   ]
  },
  {
   "cell_type": "code",
   "execution_count": 736,
   "metadata": {},
   "outputs": [],
   "source": [
    "df['Year'] = df['Year'].apply(lambda x: \"20\" + x.strip() if x.strip()[0] == '0' and len(x.strip()) == 2 else (\"19\" + x.strip() if len(x.strip()) == 2 else x))"
   ]
  },
  {
   "cell_type": "markdown",
   "metadata": {},
   "source": [
    "### 4. Add 'Date' Column and Drop 'Match'"
   ]
  },
  {
   "cell_type": "code",
   "execution_count": 737,
   "metadata": {},
   "outputs": [
    {
     "data": {
      "text/html": [
       "<div>\n",
       "<style scoped>\n",
       "    .dataframe tbody tr th:only-of-type {\n",
       "        vertical-align: middle;\n",
       "    }\n",
       "\n",
       "    .dataframe tbody tr th {\n",
       "        vertical-align: top;\n",
       "    }\n",
       "\n",
       "    .dataframe thead th {\n",
       "        text-align: right;\n",
       "    }\n",
       "</style>\n",
       "<table border=\"1\" class=\"dataframe\">\n",
       "  <thead>\n",
       "    <tr style=\"text-align: right;\">\n",
       "      <th></th>\n",
       "      <th>Code</th>\n",
       "      <th>Raw</th>\n",
       "      <th>Data</th>\n",
       "      <th>Iter</th>\n",
       "      <th>Day</th>\n",
       "      <th>Month</th>\n",
       "      <th>Year</th>\n",
       "      <th>Date</th>\n",
       "    </tr>\n",
       "  </thead>\n",
       "  <tbody>\n",
       "    <tr>\n",
       "      <th>0</th>\n",
       "      <td>1012720972</td>\n",
       "      <td>.12, Noember 16- bad reaction to SpiceK2 - synthetic MJ- admitted to Crete Manor, Mcalester.</td>\n",
       "      <td>12 nov 16 bad reaction to spicek2 synthetic mj admitted to crete manor mcalester</td>\n",
       "      <td>4</td>\n",
       "      <td>12</td>\n",
       "      <td>11</td>\n",
       "      <td>1916</td>\n",
       "      <td>12/11/1916</td>\n",
       "    </tr>\n",
       "    <tr>\n",
       "      <th>1</th>\n",
       "      <td>1039370009</td>\n",
       "      <td>.April, 5 97: made a phone call to Mom and Mom commented that he was talking very fast, hard to interrupt, but was in super happy spirits, so didn't make a big deal of it.</td>\n",
       "      <td>apr 05 97 made a phone call to mom and mom commented that he was talking very fast hard to interrupt but was in super happy spirits so didn't make a big deal of it</td>\n",
       "      <td>3</td>\n",
       "      <td>5</td>\n",
       "      <td>04</td>\n",
       "      <td>1997</td>\n",
       "      <td>05/04/1997</td>\n",
       "    </tr>\n",
       "    <tr>\n",
       "      <th>2</th>\n",
       "      <td>1039574613</td>\n",
       "      <td>A pleasant 28 yo woman with no formal psychiatric history and with a h/o SCCA of the right tongue (s/p partial glossectomy and neck dissection in 8/1974) referred to psycho-oncology for assistance with adjustment issues following recovery. The patient does not meet criteria for a major mood or anxiety disorder. She is not at imminent risk of harm to self or others. She would benefit from psychotherapy to help her integrate her experience of cancer and the break-up of her engagement, and to think through how to continue to create a life for herself moving forward.</td>\n",
       "      <td>a pleasant 28 yo woman with no formal psychiatric history and with a h/o scca of the right tongue s/p partial glossectomy and neck dissection in 08/1974 referred to psycho oncology for assistance with adjustment issues following recovery the patient does not meet criteria for a major mood or anxiety disorder she is not at imminent risk of harm to self or others she would benefit from psychotherapy to help her integrate her experience of cancer and the break up of her engagement and to think through how to continue to create a life for herself moving forward</td>\n",
       "      <td>2</td>\n",
       "      <td>1</td>\n",
       "      <td>08</td>\n",
       "      <td>1974</td>\n",
       "      <td>01/08/1974</td>\n",
       "    </tr>\n",
       "    <tr>\n",
       "      <th>3</th>\n",
       "      <td>1039963589</td>\n",
       "      <td>October 7, 01 [report_end]</td>\n",
       "      <td>oct 07 01 [report_end]</td>\n",
       "      <td>3</td>\n",
       "      <td>7</td>\n",
       "      <td>10</td>\n",
       "      <td>2001</td>\n",
       "      <td>07/10/2001</td>\n",
       "    </tr>\n",
       "    <tr>\n",
       "      <th>4</th>\n",
       "      <td>1048901075</td>\n",
       "      <td>July, 4, 01 Primary Care Doctor:</td>\n",
       "      <td>jul 04 01 primary care doctor</td>\n",
       "      <td>3</td>\n",
       "      <td>4</td>\n",
       "      <td>07</td>\n",
       "      <td>2001</td>\n",
       "      <td>04/07/2001</td>\n",
       "    </tr>\n",
       "  </tbody>\n",
       "</table>\n",
       "</div>"
      ],
      "text/plain": [
       "         Code  \\\n",
       "0  1012720972   \n",
       "1  1039370009   \n",
       "2  1039574613   \n",
       "3  1039963589   \n",
       "4  1048901075   \n",
       "\n",
       "                                                                                                                                                                                                                                                                                                                                                                                                                                                                                                                                                                                         Raw  \\\n",
       "0                                                                                                                                                                                                                                                                                                                                                                                                                                                                                               .12, Noember 16- bad reaction to SpiceK2 - synthetic MJ- admitted to Crete Manor, Mcalester.   \n",
       "1                                                                                                                                                                                                                                                                                                                                                                                                                .April, 5 97: made a phone call to Mom and Mom commented that he was talking very fast, hard to interrupt, but was in super happy spirits, so didn't make a big deal of it.   \n",
       "2  A pleasant 28 yo woman with no formal psychiatric history and with a h/o SCCA of the right tongue (s/p partial glossectomy and neck dissection in 8/1974) referred to psycho-oncology for assistance with adjustment issues following recovery. The patient does not meet criteria for a major mood or anxiety disorder. She is not at imminent risk of harm to self or others. She would benefit from psychotherapy to help her integrate her experience of cancer and the break-up of her engagement, and to think through how to continue to create a life for herself moving forward.   \n",
       "3                                                                                                                                                                                                                                                                                                                                                                                                                                                                                                                                                                 October 7, 01 [report_end]   \n",
       "4                                                                                                                                                                                                                                                                                                                                                                                                                                                                                                                                                           July, 4, 01 Primary Care Doctor:   \n",
       "\n",
       "                                                                                                                                                                                                                                                                                                                                                                                                                                                                                                                                                                                   Data  \\\n",
       "0                                                                                                                                                                                                                                                                                                                                                                                                                                                                                                      12 nov 16 bad reaction to spicek2 synthetic mj admitted to crete manor mcalester   \n",
       "1                                                                                                                                                                                                                                                                                                                                                                                                                   apr 05 97 made a phone call to mom and mom commented that he was talking very fast hard to interrupt but was in super happy spirits so didn't make a big deal of it   \n",
       "2  a pleasant 28 yo woman with no formal psychiatric history and with a h/o scca of the right tongue s/p partial glossectomy and neck dissection in 08/1974 referred to psycho oncology for assistance with adjustment issues following recovery the patient does not meet criteria for a major mood or anxiety disorder she is not at imminent risk of harm to self or others she would benefit from psychotherapy to help her integrate her experience of cancer and the break up of her engagement and to think through how to continue to create a life for herself moving forward    \n",
       "3                                                                                                                                                                                                                                                                                                                                                                                                                                                                                                                                                                oct 07 01 [report_end]   \n",
       "4                                                                                                                                                                                                                                                                                                                                                                                                                                                                                                                                                         jul 04 01 primary care doctor   \n",
       "\n",
       "   Iter  Day Month  Year        Date  \n",
       "0     4   12    11  1916  12/11/1916  \n",
       "1     3    5    04  1997  05/04/1997  \n",
       "2     2    1    08  1974  01/08/1974  \n",
       "3     3    7    10  2001  07/10/2001  \n",
       "4     3    4    07  2001  04/07/2001  "
      ]
     },
     "execution_count": 737,
     "metadata": {},
     "output_type": "execute_result"
    }
   ],
   "source": [
    "df['Date'] = pd.to_datetime(df[['Day', 'Month', 'Year']])\n",
    "df['Date'] = df['Date'].dt.strftime('%d/%m/%Y')\n",
    "df = df.drop('Match', axis=1)\n",
    "\n",
    "df.head()"
   ]
  },
  {
   "cell_type": "markdown",
   "metadata": {},
   "source": [
    "## Exporting"
   ]
  },
  {
   "cell_type": "code",
   "execution_count": 738,
   "metadata": {},
   "outputs": [
    {
     "name": "stdout",
     "output_type": "stream",
     "text": [
      "Creating archive: date_assignment.zip\n",
      "\t01-Model.ipynb - OK\n",
      "\tresults.csv - OK\n"
     ]
    }
   ],
   "source": [
    "df.sort_values(by=['Date','Raw'], inplace=True)\n",
    "\n",
    "df.to_csv(\"results.csv\", index=False)\n",
    "from zipfile import ZipFile\n",
    "archive = \"date_assignment.zip\"\n",
    "print(f\"Creating archive: {archive}\")\n",
    "with ZipFile(archive,\"w\") as zip:\n",
    "    for f in [\"01-Model.ipynb\", \"results.csv\"]:\n",
    "        if os.path.isfile(f):\n",
    "            print(f\"\\t{f} - OK\")\n",
    "            zip.write(f) \n",
    "        else:\n",
    "            print(f\"\\t{f} - Missing. Check this!\")"
   ]
  },
  {
   "cell_type": "code",
   "execution_count": null,
   "metadata": {},
   "outputs": [],
   "source": []
  }
 ],
 "metadata": {
  "kernelspec": {
   "display_name": "Python 3",
   "language": "python",
   "name": "python3"
  },
  "language_info": {
   "codemirror_mode": {
    "name": "ipython",
    "version": 3
   },
   "file_extension": ".py",
   "mimetype": "text/x-python",
   "name": "python",
   "nbconvert_exporter": "python",
   "pygments_lexer": "ipython3",
   "version": "3.6.8"
  }
 },
 "nbformat": 4,
 "nbformat_minor": 4
}
